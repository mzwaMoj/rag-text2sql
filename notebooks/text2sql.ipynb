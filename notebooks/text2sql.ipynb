{
 "cells": [
  {
   "cell_type": "code",
   "execution_count": 1,
   "id": "91687a29",
   "metadata": {},
   "outputs": [],
   "source": [
    "import os\n",
    "import re\n",
    "import sys\n",
    "from openai import AzureOpenAI\n",
    "import pandas as pd\n",
    "import numpy as np\n",
    "# import pymssql\n",
    "from dotenv import load_dotenv, find_dotenv\n",
    "import warnings \n",
    "import pyodbc\n",
    "import mlflow\n",
    "warnings.filterwarnings(\"ignore\")\n",
    "load_dotenv(find_dotenv())\n",
    "import ssl\n",
    "import urllib3\n",
    "import httpx\n",
    "\n",
    "# Disable SSL certificate verification globally (for development only!)\n",
    "ssl._create_default_https_context = ssl._create_unverified_context\n",
    "\n",
    "# For requests and urllib3, suppress warnings\n",
    "urllib3.disable_warnings(urllib3.exceptions.InsecureRequestWarning)"
   ]
  },
  {
   "cell_type": "code",
   "execution_count": 2,
   "id": "d597c4f0",
   "metadata": {},
   "outputs": [
    {
     "data": {
      "text/plain": [
       "'https://20892-m7iyjxep-eastus2.cognitiveservices.azure.com/'"
      ]
     },
     "execution_count": 2,
     "metadata": {},
     "output_type": "execute_result"
    }
   ],
   "source": [
    "os.environ.get(\"AZURE_OPENAI_ENDPOINT\")"
   ]
  },
  {
   "cell_type": "code",
   "execution_count": 3,
   "id": "a563ab4e",
   "metadata": {},
   "outputs": [
    {
     "data": {
      "text/plain": [
       "'gpt-4.1'"
      ]
     },
     "execution_count": 3,
     "metadata": {},
     "output_type": "execute_result"
    }
   ],
   "source": [
    "os.environ.get(\"AZURE_OPENAI_DEPLOYMENT_NAME\")"
   ]
  },
  {
   "cell_type": "code",
   "execution_count": 4,
   "id": "4de54b6f",
   "metadata": {},
   "outputs": [
    {
     "data": {
      "text/plain": [
       "'2025-01-01-preview'"
      ]
     },
     "execution_count": 4,
     "metadata": {},
     "output_type": "execute_result"
    }
   ],
   "source": [
    "os.environ.get(\"AZURE_OPENAI_VERSION\")"
   ]
  },
  {
   "cell_type": "code",
   "execution_count": 5,
   "id": "a5d493e9",
   "metadata": {},
   "outputs": [],
   "source": [
    "from openai import AzureOpenAI\n",
    "import os\n",
    "from dotenv import load_dotenv, find_dotenv\n",
    "load_dotenv(find_dotenv())\n",
    "\n",
    "# Get the Keys\n",
    "API_KEY = os.environ.get(\"AZURE_OPENAI_KEY\") \n",
    "API_ENDPOINT = os.environ.get(\"AZURE_OPENAI_ENDPOINT\")\n",
    "AZURE_DEPLOYMENT = os.environ.get(\"AZURE_OPENAI_DEPLOYMENT_NAME\")\n",
    "API_VERSION = os.environ.get(\"AZURE_OPENAI_VERSION\")\n",
    "MODEL = os.environ.get(\"AZURE_OPENAI_DEPLOYMENT_NAME\")"
   ]
  },
  {
   "cell_type": "markdown",
   "id": "c0a41a51",
   "metadata": {},
   "source": [
    "# Chat Completions : Older models"
   ]
  },
  {
   "cell_type": "code",
   "execution_count": 12,
   "id": "dd3245ee",
   "metadata": {},
   "outputs": [
    {
     "name": "stdout",
     "output_type": "stream",
     "text": [
      "API call successful! Response:\n",
      "Sure! Here’s a long joke for you:\n",
      "\n",
      "A man is shipwrecked and finds himself stranded on a deserted island. Days turn into weeks, and finally one day he spots a bottle washed up on the shore. Excited, he opens it, and—out pops a genie!\n",
      "\n",
      "The genie says, “Thank you for releasing me! For your kindness, I will grant you **three wishes**. But with each wish, whatever you ask for, your worst enemy will receive **double**.”\n",
      "\n",
      "The man thinks a moment. “Okay,” he says, “For my first wish, I want a lavish villa to live in, right here on the island.”\n",
      "\n",
      "The genie snaps his fingers. Instantly, a beautiful mansion appears next to him—fully furnished, with a swimming pool and everything. But then, on a distant island, his enemy’s villa appears, twice as large, twice as fancy.\n",
      "\n",
      "“For my second wish,” says the man, “I want billions of dollars in gold.”\n",
      "\n",
      "The genie snaps his fingers again. The man is surrounded by mountains of gold coins and bars. His bank account instantly fills. But somewhere, his enemy receives two mountains of gold, and twice as much wealth.\n",
      "\n",
      "Now the man is getting a bit upset. “Wait,” he says, “Whatever I wish for, my enemy gets double? Even if it's something bad?”\n",
      "\n",
      "The genie nods. “That's the rule.”\n",
      "\n",
      "The man smiles slyly. “Alright then... For my **third wish**—I want you to **scare me half to death.**”\n",
      "\n",
      "😳\n",
      "\n"
     ]
    }
   ],
   "source": [
    "import ssl\n",
    "import urllib3\n",
    "import httpx\n",
    "\n",
    "# Disable SSL certificate verification globally (for development only!)\n",
    "ssl._create_default_https_context = ssl._create_unverified_context\n",
    "\n",
    "# For requests and urllib3, suppress warnings\n",
    "urllib3.disable_warnings(urllib3.exceptions.InsecureRequestWarning)\n",
    "\n",
    "from openai import AzureOpenAI\n",
    "import os\n",
    "from dotenv import load_dotenv, find_dotenv\n",
    "load_dotenv(find_dotenv())\n",
    "\n",
    "# Get the Keys\n",
    "API_KEY = os.environ.get(\"AZURE_OPENAI_KEY\") \n",
    "API_ENDPOINT = os.environ.get(\"AZURE_OPENAI_ENDPOINT\")\n",
    "AZURE_DEPLOYMENT = os.environ.get(\"AZURE_OPENAI_DEPLOYMENT_NAME\")\n",
    "API_VERSION = os.environ.get(\"AZURE_OPENAI_VERSION\")\n",
    "MODEL = os.environ.get(\"AZURE_OPENAI_MODEL\")\n",
    "\n",
    "# Create httpx client with SSL verification disabled\n",
    "http_client = httpx.Client(verify=False)\n",
    "\n",
    "# Create client with custom http_client\n",
    "client = AzureOpenAI(\n",
    "    api_key=API_KEY,\n",
    "    azure_endpoint=API_ENDPOINT,\n",
    "    api_version=API_VERSION,\n",
    "    http_client=http_client\n",
    ")\n",
    "\n",
    "try:\n",
    "    # Create completions with streaming enabled\n",
    "    completion = client.chat.completions.create(\n",
    "        model=AZURE_DEPLOYMENT,  # Use deployment name, not model name\n",
    "        stream=True,\n",
    "        messages=[\n",
    "            {\n",
    "                \"role\": \"user\",\n",
    "                \"content\": \"Tell me a long joke\",\n",
    "            },\n",
    "        ],\n",
    "    )\n",
    "\n",
    "    print(\"API call successful! Response:\")\n",
    "    for chunk in completion:\n",
    "        try:\n",
    "            if hasattr(chunk.choices[0].delta, 'content') and chunk.choices[0].delta.content:\n",
    "                print(chunk.choices[0].delta.content, end=\"\")\n",
    "        except (AttributeError, IndexError):\n",
    "            pass\n",
    "    print(\"\\n\")  # Add newline at the end\n",
    "\n",
    "except Exception as e:\n",
    "    print(f\"Error making API call: {e}\")\n",
    "    print(f\"API Endpoint: {API_ENDPOINT}\")\n",
    "    print(f\"API Version: {API_VERSION}\")\n",
    "    print(f\"Deployment: {AZURE_DEPLOYMENT}\")"
   ]
  },
  {
   "cell_type": "code",
   "execution_count": null,
   "id": "cf4f54d8",
   "metadata": {},
   "outputs": [
    {
     "name": "stdout",
     "output_type": "stream",
     "text": [
      "Error making API call: Connection error.\n",
      "API Endpoint: https://20892-m7iyjxep-eastus2.cognitiveservices.azure.com/\n",
      "API Version: 2025-01-01-preview\n",
      "Deployment: gpt-4.1\n"
     ]
    }
   ],
   "source": [
    "import ssl\n",
    "import urllib3\n",
    "import httpx\n",
    "\n",
    "# Disable SSL certificate verification globally (for development only!)\n",
    "ssl._create_default_https_context = ssl._create_unverified_context\n",
    "\n",
    "# For requests and urllib3, suppress warnings\n",
    "urllib3.disable_warnings(urllib3.exceptions.InsecureRequestWarning)\n",
    "\n",
    "from openai import AzureOpenAI\n",
    "import os\n",
    "from dotenv import load_dotenv, find_dotenv\n",
    "load_dotenv(find_dotenv())\n",
    "\n",
    "# Get the Keys\n",
    "API_KEY = os.environ.get(\"AZURE_OPENAI_KEY\") \n",
    "API_ENDPOINT = os.environ.get(\"AZURE_OPENAI_ENDPOINT\")\n",
    "AZURE_DEPLOYMENT = os.environ.get(\"AZURE_OPENAI_DEPLOYMENT_NAME\")\n",
    "API_VERSION = os.environ.get(\"AZURE_OPENAI_VERSION\")\n",
    "MODEL = os.environ.get(\"AZURE_OPENAI_MODEL\")\n",
    "\n",
    "# Create httpx client with SSL verification disabled\n",
    "http_client = httpx.Client(verify=False)\n",
    "\n",
    "# Create client with custom http_client\n",
    "client = AzureOpenAI(\n",
    "    api_key=API_KEY,\n",
    "    azure_endpoint=API_ENDPOINT,\n",
    "    api_version=API_VERSION,\n",
    "    http_client=http_client\n",
    ")\n",
    "\n",
    "try:\n",
    "    # Create completions with streaming enabled\n",
    "    completion = client.chat.completions.create(\n",
    "        model=AZURE_DEPLOYMENT,  # Use deployment name, not model name\n",
    "        stream=False,\n",
    "        messages=[\n",
    "            {\n",
    "                \"role\": \"user\",\n",
    "                \"content\": \"Tell me a long joke\",\n",
    "            },\n",
    "        ],\n",
    "    )\n",
    "    print(\"API call successful! Response:\")\n",
    "    print(completion.choices[0].message.content)\n",
    "\n",
    "except Exception as e:\n",
    "    print(f\"Error making API call: {e}\")\n",
    "    print(f\"API Endpoint: {API_ENDPOINT}\")\n",
    "    print(f\"API Version: {API_VERSION}\")\n",
    "    print(f\"Deployment: {AZURE_DEPLOYMENT}\")"
   ]
  },
  {
   "cell_type": "code",
   "execution_count": 6,
   "id": "23077762",
   "metadata": {},
   "outputs": [
    {
     "ename": "APIConnectionError",
     "evalue": "Connection error.",
     "output_type": "error",
     "traceback": [
      "\u001b[31m---------------------------------------------------------------------------\u001b[39m",
      "\u001b[31mConnectError\u001b[39m                              Traceback (most recent call last)",
      "\u001b[36mFile \u001b[39m\u001b[32mc:\\Users\\A238737\\AppData\\Local\\anaconda3\\envs\\azure_environment\\Lib\\site-packages\\httpx\\_transports\\default.py:101\u001b[39m, in \u001b[36mmap_httpcore_exceptions\u001b[39m\u001b[34m()\u001b[39m\n\u001b[32m    100\u001b[39m \u001b[38;5;28;01mtry\u001b[39;00m:\n\u001b[32m--> \u001b[39m\u001b[32m101\u001b[39m     \u001b[38;5;28;01myield\u001b[39;00m\n\u001b[32m    102\u001b[39m \u001b[38;5;28;01mexcept\u001b[39;00m \u001b[38;5;167;01mException\u001b[39;00m \u001b[38;5;28;01mas\u001b[39;00m exc:\n",
      "\u001b[36mFile \u001b[39m\u001b[32mc:\\Users\\A238737\\AppData\\Local\\anaconda3\\envs\\azure_environment\\Lib\\site-packages\\httpx\\_transports\\default.py:250\u001b[39m, in \u001b[36mHTTPTransport.handle_request\u001b[39m\u001b[34m(self, request)\u001b[39m\n\u001b[32m    249\u001b[39m \u001b[38;5;28;01mwith\u001b[39;00m map_httpcore_exceptions():\n\u001b[32m--> \u001b[39m\u001b[32m250\u001b[39m     resp = \u001b[38;5;28;43mself\u001b[39;49m\u001b[43m.\u001b[49m\u001b[43m_pool\u001b[49m\u001b[43m.\u001b[49m\u001b[43mhandle_request\u001b[49m\u001b[43m(\u001b[49m\u001b[43mreq\u001b[49m\u001b[43m)\u001b[49m\n\u001b[32m    252\u001b[39m \u001b[38;5;28;01massert\u001b[39;00m \u001b[38;5;28misinstance\u001b[39m(resp.stream, typing.Iterable)\n",
      "\u001b[36mFile \u001b[39m\u001b[32mc:\\Users\\A238737\\AppData\\Local\\anaconda3\\envs\\azure_environment\\Lib\\site-packages\\httpcore\\_sync\\connection_pool.py:256\u001b[39m, in \u001b[36mConnectionPool.handle_request\u001b[39m\u001b[34m(self, request)\u001b[39m\n\u001b[32m    255\u001b[39m     \u001b[38;5;28mself\u001b[39m._close_connections(closing)\n\u001b[32m--> \u001b[39m\u001b[32m256\u001b[39m     \u001b[38;5;28;01mraise\u001b[39;00m exc \u001b[38;5;28;01mfrom\u001b[39;00m \u001b[38;5;28;01mNone\u001b[39;00m\n\u001b[32m    258\u001b[39m \u001b[38;5;66;03m# Return the response. Note that in this case we still have to manage\u001b[39;00m\n\u001b[32m    259\u001b[39m \u001b[38;5;66;03m# the point at which the response is closed.\u001b[39;00m\n",
      "\u001b[36mFile \u001b[39m\u001b[32mc:\\Users\\A238737\\AppData\\Local\\anaconda3\\envs\\azure_environment\\Lib\\site-packages\\httpcore\\_sync\\connection_pool.py:236\u001b[39m, in \u001b[36mConnectionPool.handle_request\u001b[39m\u001b[34m(self, request)\u001b[39m\n\u001b[32m    234\u001b[39m \u001b[38;5;28;01mtry\u001b[39;00m:\n\u001b[32m    235\u001b[39m     \u001b[38;5;66;03m# Send the request on the assigned connection.\u001b[39;00m\n\u001b[32m--> \u001b[39m\u001b[32m236\u001b[39m     response = \u001b[43mconnection\u001b[49m\u001b[43m.\u001b[49m\u001b[43mhandle_request\u001b[49m\u001b[43m(\u001b[49m\n\u001b[32m    237\u001b[39m \u001b[43m        \u001b[49m\u001b[43mpool_request\u001b[49m\u001b[43m.\u001b[49m\u001b[43mrequest\u001b[49m\n\u001b[32m    238\u001b[39m \u001b[43m    \u001b[49m\u001b[43m)\u001b[49m\n\u001b[32m    239\u001b[39m \u001b[38;5;28;01mexcept\u001b[39;00m ConnectionNotAvailable:\n\u001b[32m    240\u001b[39m     \u001b[38;5;66;03m# In some cases a connection may initially be available to\u001b[39;00m\n\u001b[32m    241\u001b[39m     \u001b[38;5;66;03m# handle a request, but then become unavailable.\u001b[39;00m\n\u001b[32m    242\u001b[39m     \u001b[38;5;66;03m#\u001b[39;00m\n\u001b[32m    243\u001b[39m     \u001b[38;5;66;03m# In this case we clear the connection and try again.\u001b[39;00m\n",
      "\u001b[36mFile \u001b[39m\u001b[32mc:\\Users\\A238737\\AppData\\Local\\anaconda3\\envs\\azure_environment\\Lib\\site-packages\\httpcore\\_sync\\connection.py:101\u001b[39m, in \u001b[36mHTTPConnection.handle_request\u001b[39m\u001b[34m(self, request)\u001b[39m\n\u001b[32m    100\u001b[39m     \u001b[38;5;28mself\u001b[39m._connect_failed = \u001b[38;5;28;01mTrue\u001b[39;00m\n\u001b[32m--> \u001b[39m\u001b[32m101\u001b[39m     \u001b[38;5;28;01mraise\u001b[39;00m exc\n\u001b[32m    103\u001b[39m \u001b[38;5;28;01mreturn\u001b[39;00m \u001b[38;5;28mself\u001b[39m._connection.handle_request(request)\n",
      "\u001b[36mFile \u001b[39m\u001b[32mc:\\Users\\A238737\\AppData\\Local\\anaconda3\\envs\\azure_environment\\Lib\\site-packages\\httpcore\\_sync\\connection.py:78\u001b[39m, in \u001b[36mHTTPConnection.handle_request\u001b[39m\u001b[34m(self, request)\u001b[39m\n\u001b[32m     77\u001b[39m \u001b[38;5;28;01mif\u001b[39;00m \u001b[38;5;28mself\u001b[39m._connection \u001b[38;5;129;01mis\u001b[39;00m \u001b[38;5;28;01mNone\u001b[39;00m:\n\u001b[32m---> \u001b[39m\u001b[32m78\u001b[39m     stream = \u001b[38;5;28;43mself\u001b[39;49m\u001b[43m.\u001b[49m\u001b[43m_connect\u001b[49m\u001b[43m(\u001b[49m\u001b[43mrequest\u001b[49m\u001b[43m)\u001b[49m\n\u001b[32m     80\u001b[39m     ssl_object = stream.get_extra_info(\u001b[33m\"\u001b[39m\u001b[33mssl_object\u001b[39m\u001b[33m\"\u001b[39m)\n",
      "\u001b[36mFile \u001b[39m\u001b[32mc:\\Users\\A238737\\AppData\\Local\\anaconda3\\envs\\azure_environment\\Lib\\site-packages\\httpcore\\_sync\\connection.py:156\u001b[39m, in \u001b[36mHTTPConnection._connect\u001b[39m\u001b[34m(self, request)\u001b[39m\n\u001b[32m    155\u001b[39m \u001b[38;5;28;01mwith\u001b[39;00m Trace(\u001b[33m\"\u001b[39m\u001b[33mstart_tls\u001b[39m\u001b[33m\"\u001b[39m, logger, request, kwargs) \u001b[38;5;28;01mas\u001b[39;00m trace:\n\u001b[32m--> \u001b[39m\u001b[32m156\u001b[39m     stream = \u001b[43mstream\u001b[49m\u001b[43m.\u001b[49m\u001b[43mstart_tls\u001b[49m\u001b[43m(\u001b[49m\u001b[43m*\u001b[49m\u001b[43m*\u001b[49m\u001b[43mkwargs\u001b[49m\u001b[43m)\u001b[49m\n\u001b[32m    157\u001b[39m     trace.return_value = stream\n",
      "\u001b[36mFile \u001b[39m\u001b[32mc:\\Users\\A238737\\AppData\\Local\\anaconda3\\envs\\azure_environment\\Lib\\site-packages\\httpcore\\_backends\\sync.py:154\u001b[39m, in \u001b[36mSyncStream.start_tls\u001b[39m\u001b[34m(self, ssl_context, server_hostname, timeout)\u001b[39m\n\u001b[32m    150\u001b[39m exc_map: ExceptionMapping = {\n\u001b[32m    151\u001b[39m     socket.timeout: ConnectTimeout,\n\u001b[32m    152\u001b[39m     \u001b[38;5;167;01mOSError\u001b[39;00m: ConnectError,\n\u001b[32m    153\u001b[39m }\n\u001b[32m--> \u001b[39m\u001b[32m154\u001b[39m \u001b[43m\u001b[49m\u001b[38;5;28;43;01mwith\u001b[39;49;00m\u001b[43m \u001b[49m\u001b[43mmap_exceptions\u001b[49m\u001b[43m(\u001b[49m\u001b[43mexc_map\u001b[49m\u001b[43m)\u001b[49m\u001b[43m:\u001b[49m\n\u001b[32m    155\u001b[39m \u001b[43m    \u001b[49m\u001b[38;5;28;43;01mtry\u001b[39;49;00m\u001b[43m:\u001b[49m\n",
      "\u001b[36mFile \u001b[39m\u001b[32mc:\\Users\\A238737\\AppData\\Local\\anaconda3\\envs\\azure_environment\\Lib\\contextlib.py:158\u001b[39m, in \u001b[36m_GeneratorContextManager.__exit__\u001b[39m\u001b[34m(self, typ, value, traceback)\u001b[39m\n\u001b[32m    157\u001b[39m \u001b[38;5;28;01mtry\u001b[39;00m:\n\u001b[32m--> \u001b[39m\u001b[32m158\u001b[39m     \u001b[38;5;28mself\u001b[39m.gen.throw(typ, value, traceback)\n\u001b[32m    159\u001b[39m \u001b[38;5;28;01mexcept\u001b[39;00m \u001b[38;5;167;01mStopIteration\u001b[39;00m \u001b[38;5;28;01mas\u001b[39;00m exc:\n\u001b[32m    160\u001b[39m     \u001b[38;5;66;03m# Suppress StopIteration *unless* it's the same exception that\u001b[39;00m\n\u001b[32m    161\u001b[39m     \u001b[38;5;66;03m# was passed to throw().  This prevents a StopIteration\u001b[39;00m\n\u001b[32m    162\u001b[39m     \u001b[38;5;66;03m# raised inside the \"with\" statement from being suppressed.\u001b[39;00m\n",
      "\u001b[36mFile \u001b[39m\u001b[32mc:\\Users\\A238737\\AppData\\Local\\anaconda3\\envs\\azure_environment\\Lib\\site-packages\\httpcore\\_exceptions.py:14\u001b[39m, in \u001b[36mmap_exceptions\u001b[39m\u001b[34m(map)\u001b[39m\n\u001b[32m     13\u001b[39m     \u001b[38;5;28;01mif\u001b[39;00m \u001b[38;5;28misinstance\u001b[39m(exc, from_exc):\n\u001b[32m---> \u001b[39m\u001b[32m14\u001b[39m         \u001b[38;5;28;01mraise\u001b[39;00m to_exc(exc) \u001b[38;5;28;01mfrom\u001b[39;00m \u001b[34;01mexc\u001b[39;00m\n\u001b[32m     15\u001b[39m \u001b[38;5;28;01mraise\u001b[39;00m\n",
      "\u001b[31mConnectError\u001b[39m: [SSL: CERTIFICATE_VERIFY_FAILED] certificate verify failed: unable to get local issuer certificate (_ssl.c:1016)",
      "\nThe above exception was the direct cause of the following exception:\n",
      "\u001b[31mConnectError\u001b[39m                              Traceback (most recent call last)",
      "\u001b[36mFile \u001b[39m\u001b[32mc:\\Users\\A238737\\AppData\\Local\\anaconda3\\envs\\azure_environment\\Lib\\site-packages\\openai\\_base_client.py:972\u001b[39m, in \u001b[36mSyncAPIClient.request\u001b[39m\u001b[34m(self, cast_to, options, stream, stream_cls)\u001b[39m\n\u001b[32m    971\u001b[39m \u001b[38;5;28;01mtry\u001b[39;00m:\n\u001b[32m--> \u001b[39m\u001b[32m972\u001b[39m     response = \u001b[38;5;28;43mself\u001b[39;49m\u001b[43m.\u001b[49m\u001b[43m_client\u001b[49m\u001b[43m.\u001b[49m\u001b[43msend\u001b[49m\u001b[43m(\u001b[49m\n\u001b[32m    973\u001b[39m \u001b[43m        \u001b[49m\u001b[43mrequest\u001b[49m\u001b[43m,\u001b[49m\n\u001b[32m    974\u001b[39m \u001b[43m        \u001b[49m\u001b[43mstream\u001b[49m\u001b[43m=\u001b[49m\u001b[43mstream\u001b[49m\u001b[43m \u001b[49m\u001b[38;5;129;43;01mor\u001b[39;49;00m\u001b[43m \u001b[49m\u001b[38;5;28;43mself\u001b[39;49m\u001b[43m.\u001b[49m\u001b[43m_should_stream_response_body\u001b[49m\u001b[43m(\u001b[49m\u001b[43mrequest\u001b[49m\u001b[43m=\u001b[49m\u001b[43mrequest\u001b[49m\u001b[43m)\u001b[49m\u001b[43m,\u001b[49m\n\u001b[32m    975\u001b[39m \u001b[43m        \u001b[49m\u001b[43m*\u001b[49m\u001b[43m*\u001b[49m\u001b[43mkwargs\u001b[49m\u001b[43m,\u001b[49m\n\u001b[32m    976\u001b[39m \u001b[43m    \u001b[49m\u001b[43m)\u001b[49m\n\u001b[32m    977\u001b[39m \u001b[38;5;28;01mexcept\u001b[39;00m httpx.TimeoutException \u001b[38;5;28;01mas\u001b[39;00m err:\n",
      "\u001b[36mFile \u001b[39m\u001b[32mc:\\Users\\A238737\\AppData\\Local\\anaconda3\\envs\\azure_environment\\Lib\\site-packages\\httpx\\_client.py:914\u001b[39m, in \u001b[36mClient.send\u001b[39m\u001b[34m(self, request, stream, auth, follow_redirects)\u001b[39m\n\u001b[32m    912\u001b[39m auth = \u001b[38;5;28mself\u001b[39m._build_request_auth(request, auth)\n\u001b[32m--> \u001b[39m\u001b[32m914\u001b[39m response = \u001b[38;5;28;43mself\u001b[39;49m\u001b[43m.\u001b[49m\u001b[43m_send_handling_auth\u001b[49m\u001b[43m(\u001b[49m\n\u001b[32m    915\u001b[39m \u001b[43m    \u001b[49m\u001b[43mrequest\u001b[49m\u001b[43m,\u001b[49m\n\u001b[32m    916\u001b[39m \u001b[43m    \u001b[49m\u001b[43mauth\u001b[49m\u001b[43m=\u001b[49m\u001b[43mauth\u001b[49m\u001b[43m,\u001b[49m\n\u001b[32m    917\u001b[39m \u001b[43m    \u001b[49m\u001b[43mfollow_redirects\u001b[49m\u001b[43m=\u001b[49m\u001b[43mfollow_redirects\u001b[49m\u001b[43m,\u001b[49m\n\u001b[32m    918\u001b[39m \u001b[43m    \u001b[49m\u001b[43mhistory\u001b[49m\u001b[43m=\u001b[49m\u001b[43m[\u001b[49m\u001b[43m]\u001b[49m\u001b[43m,\u001b[49m\n\u001b[32m    919\u001b[39m \u001b[43m\u001b[49m\u001b[43m)\u001b[49m\n\u001b[32m    920\u001b[39m \u001b[38;5;28;01mtry\u001b[39;00m:\n",
      "\u001b[36mFile \u001b[39m\u001b[32mc:\\Users\\A238737\\AppData\\Local\\anaconda3\\envs\\azure_environment\\Lib\\site-packages\\httpx\\_client.py:942\u001b[39m, in \u001b[36mClient._send_handling_auth\u001b[39m\u001b[34m(self, request, auth, follow_redirects, history)\u001b[39m\n\u001b[32m    941\u001b[39m \u001b[38;5;28;01mwhile\u001b[39;00m \u001b[38;5;28;01mTrue\u001b[39;00m:\n\u001b[32m--> \u001b[39m\u001b[32m942\u001b[39m     response = \u001b[38;5;28;43mself\u001b[39;49m\u001b[43m.\u001b[49m\u001b[43m_send_handling_redirects\u001b[49m\u001b[43m(\u001b[49m\n\u001b[32m    943\u001b[39m \u001b[43m        \u001b[49m\u001b[43mrequest\u001b[49m\u001b[43m,\u001b[49m\n\u001b[32m    944\u001b[39m \u001b[43m        \u001b[49m\u001b[43mfollow_redirects\u001b[49m\u001b[43m=\u001b[49m\u001b[43mfollow_redirects\u001b[49m\u001b[43m,\u001b[49m\n\u001b[32m    945\u001b[39m \u001b[43m        \u001b[49m\u001b[43mhistory\u001b[49m\u001b[43m=\u001b[49m\u001b[43mhistory\u001b[49m\u001b[43m,\u001b[49m\n\u001b[32m    946\u001b[39m \u001b[43m    \u001b[49m\u001b[43m)\u001b[49m\n\u001b[32m    947\u001b[39m     \u001b[38;5;28;01mtry\u001b[39;00m:\n",
      "\u001b[36mFile \u001b[39m\u001b[32mc:\\Users\\A238737\\AppData\\Local\\anaconda3\\envs\\azure_environment\\Lib\\site-packages\\httpx\\_client.py:979\u001b[39m, in \u001b[36mClient._send_handling_redirects\u001b[39m\u001b[34m(self, request, follow_redirects, history)\u001b[39m\n\u001b[32m    977\u001b[39m     hook(request)\n\u001b[32m--> \u001b[39m\u001b[32m979\u001b[39m response = \u001b[38;5;28;43mself\u001b[39;49m\u001b[43m.\u001b[49m\u001b[43m_send_single_request\u001b[49m\u001b[43m(\u001b[49m\u001b[43mrequest\u001b[49m\u001b[43m)\u001b[49m\n\u001b[32m    980\u001b[39m \u001b[38;5;28;01mtry\u001b[39;00m:\n",
      "\u001b[36mFile \u001b[39m\u001b[32mc:\\Users\\A238737\\AppData\\Local\\anaconda3\\envs\\azure_environment\\Lib\\site-packages\\httpx\\_client.py:1014\u001b[39m, in \u001b[36mClient._send_single_request\u001b[39m\u001b[34m(self, request)\u001b[39m\n\u001b[32m   1013\u001b[39m \u001b[38;5;28;01mwith\u001b[39;00m request_context(request=request):\n\u001b[32m-> \u001b[39m\u001b[32m1014\u001b[39m     response = \u001b[43mtransport\u001b[49m\u001b[43m.\u001b[49m\u001b[43mhandle_request\u001b[49m\u001b[43m(\u001b[49m\u001b[43mrequest\u001b[49m\u001b[43m)\u001b[49m\n\u001b[32m   1016\u001b[39m \u001b[38;5;28;01massert\u001b[39;00m \u001b[38;5;28misinstance\u001b[39m(response.stream, SyncByteStream)\n",
      "\u001b[36mFile \u001b[39m\u001b[32mc:\\Users\\A238737\\AppData\\Local\\anaconda3\\envs\\azure_environment\\Lib\\site-packages\\httpx\\_transports\\default.py:249\u001b[39m, in \u001b[36mHTTPTransport.handle_request\u001b[39m\u001b[34m(self, request)\u001b[39m\n\u001b[32m    237\u001b[39m req = httpcore.Request(\n\u001b[32m    238\u001b[39m     method=request.method,\n\u001b[32m    239\u001b[39m     url=httpcore.URL(\n\u001b[32m   (...)\u001b[39m\u001b[32m    247\u001b[39m     extensions=request.extensions,\n\u001b[32m    248\u001b[39m )\n\u001b[32m--> \u001b[39m\u001b[32m249\u001b[39m \u001b[43m\u001b[49m\u001b[38;5;28;43;01mwith\u001b[39;49;00m\u001b[43m \u001b[49m\u001b[43mmap_httpcore_exceptions\u001b[49m\u001b[43m(\u001b[49m\u001b[43m)\u001b[49m\u001b[43m:\u001b[49m\n\u001b[32m    250\u001b[39m \u001b[43m    \u001b[49m\u001b[43mresp\u001b[49m\u001b[43m \u001b[49m\u001b[43m=\u001b[49m\u001b[43m \u001b[49m\u001b[38;5;28;43mself\u001b[39;49m\u001b[43m.\u001b[49m\u001b[43m_pool\u001b[49m\u001b[43m.\u001b[49m\u001b[43mhandle_request\u001b[49m\u001b[43m(\u001b[49m\u001b[43mreq\u001b[49m\u001b[43m)\u001b[49m\n",
      "\u001b[36mFile \u001b[39m\u001b[32mc:\\Users\\A238737\\AppData\\Local\\anaconda3\\envs\\azure_environment\\Lib\\contextlib.py:158\u001b[39m, in \u001b[36m_GeneratorContextManager.__exit__\u001b[39m\u001b[34m(self, typ, value, traceback)\u001b[39m\n\u001b[32m    157\u001b[39m \u001b[38;5;28;01mtry\u001b[39;00m:\n\u001b[32m--> \u001b[39m\u001b[32m158\u001b[39m     \u001b[38;5;28mself\u001b[39m.gen.throw(typ, value, traceback)\n\u001b[32m    159\u001b[39m \u001b[38;5;28;01mexcept\u001b[39;00m \u001b[38;5;167;01mStopIteration\u001b[39;00m \u001b[38;5;28;01mas\u001b[39;00m exc:\n\u001b[32m    160\u001b[39m     \u001b[38;5;66;03m# Suppress StopIteration *unless* it's the same exception that\u001b[39;00m\n\u001b[32m    161\u001b[39m     \u001b[38;5;66;03m# was passed to throw().  This prevents a StopIteration\u001b[39;00m\n\u001b[32m    162\u001b[39m     \u001b[38;5;66;03m# raised inside the \"with\" statement from being suppressed.\u001b[39;00m\n",
      "\u001b[36mFile \u001b[39m\u001b[32mc:\\Users\\A238737\\AppData\\Local\\anaconda3\\envs\\azure_environment\\Lib\\site-packages\\httpx\\_transports\\default.py:118\u001b[39m, in \u001b[36mmap_httpcore_exceptions\u001b[39m\u001b[34m()\u001b[39m\n\u001b[32m    117\u001b[39m message = \u001b[38;5;28mstr\u001b[39m(exc)\n\u001b[32m--> \u001b[39m\u001b[32m118\u001b[39m \u001b[38;5;28;01mraise\u001b[39;00m mapped_exc(message) \u001b[38;5;28;01mfrom\u001b[39;00m \u001b[34;01mexc\u001b[39;00m\n",
      "\u001b[31mConnectError\u001b[39m: [SSL: CERTIFICATE_VERIFY_FAILED] certificate verify failed: unable to get local issuer certificate (_ssl.c:1016)",
      "\nThe above exception was the direct cause of the following exception:\n",
      "\u001b[31mAPIConnectionError\u001b[39m                        Traceback (most recent call last)",
      "\u001b[36mCell\u001b[39m\u001b[36m \u001b[39m\u001b[32mIn[6]\u001b[39m\u001b[32m, line 11\u001b[39m\n\u001b[32m      2\u001b[39m client = AzureOpenAI(\n\u001b[32m      3\u001b[39m   default_headers={\u001b[33m\"\u001b[39m\u001b[33mOcp-Apim-Subscription-Key\u001b[39m\u001b[33m\"\u001b[39m: API_KEY},\n\u001b[32m      4\u001b[39m   api_key=API_KEY,\n\u001b[32m   (...)\u001b[39m\u001b[32m      7\u001b[39m   api_version=API_VERSION, \n\u001b[32m      8\u001b[39m )\n\u001b[32m     10\u001b[39m \u001b[38;5;66;03m# Create completions\u001b[39;00m\n\u001b[32m---> \u001b[39m\u001b[32m11\u001b[39m completion = \u001b[43mclient\u001b[49m\u001b[43m.\u001b[49m\u001b[43mchat\u001b[49m\u001b[43m.\u001b[49m\u001b[43mcompletions\u001b[49m\u001b[43m.\u001b[49m\u001b[43mcreate\u001b[49m\u001b[43m(\u001b[49m\n\u001b[32m     12\u001b[39m \u001b[43m  \u001b[49m\u001b[43mmodel\u001b[49m\u001b[43m=\u001b[49m\u001b[43mMODEL\u001b[49m\u001b[43m,\u001b[49m\u001b[43m \u001b[49m\n\u001b[32m     13\u001b[39m \u001b[43m  \u001b[49m\u001b[43mstream\u001b[49m\u001b[43m=\u001b[49m\u001b[38;5;28;43;01mTrue\u001b[39;49;00m\u001b[43m,\u001b[49m\n\u001b[32m     14\u001b[39m \u001b[43m  \u001b[49m\u001b[43mmessages\u001b[49m\u001b[43m=\u001b[49m\u001b[43m[\u001b[49m\n\u001b[32m     15\u001b[39m \u001b[43m    \u001b[49m\u001b[43m{\u001b[49m\n\u001b[32m     16\u001b[39m \u001b[43m      \u001b[49m\u001b[33;43m\"\u001b[39;49m\u001b[33;43mrole\u001b[39;49m\u001b[33;43m\"\u001b[39;49m\u001b[43m:\u001b[49m\u001b[43m \u001b[49m\u001b[33;43m\"\u001b[39;49m\u001b[33;43muser\u001b[39;49m\u001b[33;43m\"\u001b[39;49m\u001b[43m,\u001b[49m\n\u001b[32m     17\u001b[39m \u001b[43m      \u001b[49m\u001b[33;43m\"\u001b[39;49m\u001b[33;43mcontent\u001b[39;49m\u001b[33;43m\"\u001b[39;49m\u001b[43m:\u001b[49m\u001b[43m \u001b[49m\u001b[33;43m\"\u001b[39;49m\u001b[33;43mTell me a long joke\u001b[39;49m\u001b[33;43m\"\u001b[39;49m\u001b[43m,\u001b[49m\n\u001b[32m     18\u001b[39m \u001b[43m    \u001b[49m\u001b[43m}\u001b[49m\u001b[43m,\u001b[49m\n\u001b[32m     19\u001b[39m \u001b[43m  \u001b[49m\u001b[43m]\u001b[49m\u001b[43m,\u001b[49m\n\u001b[32m     20\u001b[39m \u001b[43m)\u001b[49m\n\u001b[32m     22\u001b[39m \u001b[38;5;28;01mfor\u001b[39;00m chunk \u001b[38;5;129;01min\u001b[39;00m completion:\n\u001b[32m     23\u001b[39m   \u001b[38;5;28;01mtry\u001b[39;00m:\n",
      "\u001b[36mFile \u001b[39m\u001b[32mc:\\Users\\A238737\\AppData\\Local\\anaconda3\\envs\\azure_environment\\Lib\\site-packages\\openai\\_utils\\_utils.py:287\u001b[39m, in \u001b[36mrequired_args.<locals>.inner.<locals>.wrapper\u001b[39m\u001b[34m(*args, **kwargs)\u001b[39m\n\u001b[32m    285\u001b[39m             msg = \u001b[33mf\u001b[39m\u001b[33m\"\u001b[39m\u001b[33mMissing required argument: \u001b[39m\u001b[38;5;132;01m{\u001b[39;00mquote(missing[\u001b[32m0\u001b[39m])\u001b[38;5;132;01m}\u001b[39;00m\u001b[33m\"\u001b[39m\n\u001b[32m    286\u001b[39m     \u001b[38;5;28;01mraise\u001b[39;00m \u001b[38;5;167;01mTypeError\u001b[39;00m(msg)\n\u001b[32m--> \u001b[39m\u001b[32m287\u001b[39m \u001b[38;5;28;01mreturn\u001b[39;00m \u001b[43mfunc\u001b[49m\u001b[43m(\u001b[49m\u001b[43m*\u001b[49m\u001b[43margs\u001b[49m\u001b[43m,\u001b[49m\u001b[43m \u001b[49m\u001b[43m*\u001b[49m\u001b[43m*\u001b[49m\u001b[43mkwargs\u001b[49m\u001b[43m)\u001b[49m\n",
      "\u001b[36mFile \u001b[39m\u001b[32mc:\\Users\\A238737\\AppData\\Local\\anaconda3\\envs\\azure_environment\\Lib\\site-packages\\openai\\resources\\chat\\completions\\completions.py:925\u001b[39m, in \u001b[36mCompletions.create\u001b[39m\u001b[34m(self, messages, model, audio, frequency_penalty, function_call, functions, logit_bias, logprobs, max_completion_tokens, max_tokens, metadata, modalities, n, parallel_tool_calls, prediction, presence_penalty, reasoning_effort, response_format, seed, service_tier, stop, store, stream, stream_options, temperature, tool_choice, tools, top_logprobs, top_p, user, web_search_options, extra_headers, extra_query, extra_body, timeout)\u001b[39m\n\u001b[32m    882\u001b[39m \u001b[38;5;129m@required_args\u001b[39m([\u001b[33m\"\u001b[39m\u001b[33mmessages\u001b[39m\u001b[33m\"\u001b[39m, \u001b[33m\"\u001b[39m\u001b[33mmodel\u001b[39m\u001b[33m\"\u001b[39m], [\u001b[33m\"\u001b[39m\u001b[33mmessages\u001b[39m\u001b[33m\"\u001b[39m, \u001b[33m\"\u001b[39m\u001b[33mmodel\u001b[39m\u001b[33m\"\u001b[39m, \u001b[33m\"\u001b[39m\u001b[33mstream\u001b[39m\u001b[33m\"\u001b[39m])\n\u001b[32m    883\u001b[39m \u001b[38;5;28;01mdef\u001b[39;00m \u001b[34mcreate\u001b[39m(\n\u001b[32m    884\u001b[39m     \u001b[38;5;28mself\u001b[39m,\n\u001b[32m   (...)\u001b[39m\u001b[32m    922\u001b[39m     timeout: \u001b[38;5;28mfloat\u001b[39m | httpx.Timeout | \u001b[38;5;28;01mNone\u001b[39;00m | NotGiven = NOT_GIVEN,\n\u001b[32m    923\u001b[39m ) -> ChatCompletion | Stream[ChatCompletionChunk]:\n\u001b[32m    924\u001b[39m     validate_response_format(response_format)\n\u001b[32m--> \u001b[39m\u001b[32m925\u001b[39m     \u001b[38;5;28;01mreturn\u001b[39;00m \u001b[38;5;28;43mself\u001b[39;49m\u001b[43m.\u001b[49m\u001b[43m_post\u001b[49m\u001b[43m(\u001b[49m\n\u001b[32m    926\u001b[39m \u001b[43m        \u001b[49m\u001b[33;43m\"\u001b[39;49m\u001b[33;43m/chat/completions\u001b[39;49m\u001b[33;43m\"\u001b[39;49m\u001b[43m,\u001b[49m\n\u001b[32m    927\u001b[39m \u001b[43m        \u001b[49m\u001b[43mbody\u001b[49m\u001b[43m=\u001b[49m\u001b[43mmaybe_transform\u001b[49m\u001b[43m(\u001b[49m\n\u001b[32m    928\u001b[39m \u001b[43m            \u001b[49m\u001b[43m{\u001b[49m\n\u001b[32m    929\u001b[39m \u001b[43m                \u001b[49m\u001b[33;43m\"\u001b[39;49m\u001b[33;43mmessages\u001b[39;49m\u001b[33;43m\"\u001b[39;49m\u001b[43m:\u001b[49m\u001b[43m \u001b[49m\u001b[43mmessages\u001b[49m\u001b[43m,\u001b[49m\n\u001b[32m    930\u001b[39m \u001b[43m                \u001b[49m\u001b[33;43m\"\u001b[39;49m\u001b[33;43mmodel\u001b[39;49m\u001b[33;43m\"\u001b[39;49m\u001b[43m:\u001b[49m\u001b[43m \u001b[49m\u001b[43mmodel\u001b[49m\u001b[43m,\u001b[49m\n\u001b[32m    931\u001b[39m \u001b[43m                \u001b[49m\u001b[33;43m\"\u001b[39;49m\u001b[33;43maudio\u001b[39;49m\u001b[33;43m\"\u001b[39;49m\u001b[43m:\u001b[49m\u001b[43m \u001b[49m\u001b[43maudio\u001b[49m\u001b[43m,\u001b[49m\n\u001b[32m    932\u001b[39m \u001b[43m                \u001b[49m\u001b[33;43m\"\u001b[39;49m\u001b[33;43mfrequency_penalty\u001b[39;49m\u001b[33;43m\"\u001b[39;49m\u001b[43m:\u001b[49m\u001b[43m \u001b[49m\u001b[43mfrequency_penalty\u001b[49m\u001b[43m,\u001b[49m\n\u001b[32m    933\u001b[39m \u001b[43m                \u001b[49m\u001b[33;43m\"\u001b[39;49m\u001b[33;43mfunction_call\u001b[39;49m\u001b[33;43m\"\u001b[39;49m\u001b[43m:\u001b[49m\u001b[43m \u001b[49m\u001b[43mfunction_call\u001b[49m\u001b[43m,\u001b[49m\n\u001b[32m    934\u001b[39m \u001b[43m                \u001b[49m\u001b[33;43m\"\u001b[39;49m\u001b[33;43mfunctions\u001b[39;49m\u001b[33;43m\"\u001b[39;49m\u001b[43m:\u001b[49m\u001b[43m \u001b[49m\u001b[43mfunctions\u001b[49m\u001b[43m,\u001b[49m\n\u001b[32m    935\u001b[39m \u001b[43m                \u001b[49m\u001b[33;43m\"\u001b[39;49m\u001b[33;43mlogit_bias\u001b[39;49m\u001b[33;43m\"\u001b[39;49m\u001b[43m:\u001b[49m\u001b[43m \u001b[49m\u001b[43mlogit_bias\u001b[49m\u001b[43m,\u001b[49m\n\u001b[32m    936\u001b[39m \u001b[43m                \u001b[49m\u001b[33;43m\"\u001b[39;49m\u001b[33;43mlogprobs\u001b[39;49m\u001b[33;43m\"\u001b[39;49m\u001b[43m:\u001b[49m\u001b[43m \u001b[49m\u001b[43mlogprobs\u001b[49m\u001b[43m,\u001b[49m\n\u001b[32m    937\u001b[39m \u001b[43m                \u001b[49m\u001b[33;43m\"\u001b[39;49m\u001b[33;43mmax_completion_tokens\u001b[39;49m\u001b[33;43m\"\u001b[39;49m\u001b[43m:\u001b[49m\u001b[43m \u001b[49m\u001b[43mmax_completion_tokens\u001b[49m\u001b[43m,\u001b[49m\n\u001b[32m    938\u001b[39m \u001b[43m                \u001b[49m\u001b[33;43m\"\u001b[39;49m\u001b[33;43mmax_tokens\u001b[39;49m\u001b[33;43m\"\u001b[39;49m\u001b[43m:\u001b[49m\u001b[43m \u001b[49m\u001b[43mmax_tokens\u001b[49m\u001b[43m,\u001b[49m\n\u001b[32m    939\u001b[39m \u001b[43m                \u001b[49m\u001b[33;43m\"\u001b[39;49m\u001b[33;43mmetadata\u001b[39;49m\u001b[33;43m\"\u001b[39;49m\u001b[43m:\u001b[49m\u001b[43m \u001b[49m\u001b[43mmetadata\u001b[49m\u001b[43m,\u001b[49m\n\u001b[32m    940\u001b[39m \u001b[43m                \u001b[49m\u001b[33;43m\"\u001b[39;49m\u001b[33;43mmodalities\u001b[39;49m\u001b[33;43m\"\u001b[39;49m\u001b[43m:\u001b[49m\u001b[43m \u001b[49m\u001b[43mmodalities\u001b[49m\u001b[43m,\u001b[49m\n\u001b[32m    941\u001b[39m \u001b[43m                \u001b[49m\u001b[33;43m\"\u001b[39;49m\u001b[33;43mn\u001b[39;49m\u001b[33;43m\"\u001b[39;49m\u001b[43m:\u001b[49m\u001b[43m \u001b[49m\u001b[43mn\u001b[49m\u001b[43m,\u001b[49m\n\u001b[32m    942\u001b[39m \u001b[43m                \u001b[49m\u001b[33;43m\"\u001b[39;49m\u001b[33;43mparallel_tool_calls\u001b[39;49m\u001b[33;43m\"\u001b[39;49m\u001b[43m:\u001b[49m\u001b[43m \u001b[49m\u001b[43mparallel_tool_calls\u001b[49m\u001b[43m,\u001b[49m\n\u001b[32m    943\u001b[39m \u001b[43m                \u001b[49m\u001b[33;43m\"\u001b[39;49m\u001b[33;43mprediction\u001b[39;49m\u001b[33;43m\"\u001b[39;49m\u001b[43m:\u001b[49m\u001b[43m \u001b[49m\u001b[43mprediction\u001b[49m\u001b[43m,\u001b[49m\n\u001b[32m    944\u001b[39m \u001b[43m                \u001b[49m\u001b[33;43m\"\u001b[39;49m\u001b[33;43mpresence_penalty\u001b[39;49m\u001b[33;43m\"\u001b[39;49m\u001b[43m:\u001b[49m\u001b[43m \u001b[49m\u001b[43mpresence_penalty\u001b[49m\u001b[43m,\u001b[49m\n\u001b[32m    945\u001b[39m \u001b[43m                \u001b[49m\u001b[33;43m\"\u001b[39;49m\u001b[33;43mreasoning_effort\u001b[39;49m\u001b[33;43m\"\u001b[39;49m\u001b[43m:\u001b[49m\u001b[43m \u001b[49m\u001b[43mreasoning_effort\u001b[49m\u001b[43m,\u001b[49m\n\u001b[32m    946\u001b[39m \u001b[43m                \u001b[49m\u001b[33;43m\"\u001b[39;49m\u001b[33;43mresponse_format\u001b[39;49m\u001b[33;43m\"\u001b[39;49m\u001b[43m:\u001b[49m\u001b[43m \u001b[49m\u001b[43mresponse_format\u001b[49m\u001b[43m,\u001b[49m\n\u001b[32m    947\u001b[39m \u001b[43m                \u001b[49m\u001b[33;43m\"\u001b[39;49m\u001b[33;43mseed\u001b[39;49m\u001b[33;43m\"\u001b[39;49m\u001b[43m:\u001b[49m\u001b[43m \u001b[49m\u001b[43mseed\u001b[49m\u001b[43m,\u001b[49m\n\u001b[32m    948\u001b[39m \u001b[43m                \u001b[49m\u001b[33;43m\"\u001b[39;49m\u001b[33;43mservice_tier\u001b[39;49m\u001b[33;43m\"\u001b[39;49m\u001b[43m:\u001b[49m\u001b[43m \u001b[49m\u001b[43mservice_tier\u001b[49m\u001b[43m,\u001b[49m\n\u001b[32m    949\u001b[39m \u001b[43m                \u001b[49m\u001b[33;43m\"\u001b[39;49m\u001b[33;43mstop\u001b[39;49m\u001b[33;43m\"\u001b[39;49m\u001b[43m:\u001b[49m\u001b[43m \u001b[49m\u001b[43mstop\u001b[49m\u001b[43m,\u001b[49m\n\u001b[32m    950\u001b[39m \u001b[43m                \u001b[49m\u001b[33;43m\"\u001b[39;49m\u001b[33;43mstore\u001b[39;49m\u001b[33;43m\"\u001b[39;49m\u001b[43m:\u001b[49m\u001b[43m \u001b[49m\u001b[43mstore\u001b[49m\u001b[43m,\u001b[49m\n\u001b[32m    951\u001b[39m \u001b[43m                \u001b[49m\u001b[33;43m\"\u001b[39;49m\u001b[33;43mstream\u001b[39;49m\u001b[33;43m\"\u001b[39;49m\u001b[43m:\u001b[49m\u001b[43m \u001b[49m\u001b[43mstream\u001b[49m\u001b[43m,\u001b[49m\n\u001b[32m    952\u001b[39m \u001b[43m                \u001b[49m\u001b[33;43m\"\u001b[39;49m\u001b[33;43mstream_options\u001b[39;49m\u001b[33;43m\"\u001b[39;49m\u001b[43m:\u001b[49m\u001b[43m \u001b[49m\u001b[43mstream_options\u001b[49m\u001b[43m,\u001b[49m\n\u001b[32m    953\u001b[39m \u001b[43m                \u001b[49m\u001b[33;43m\"\u001b[39;49m\u001b[33;43mtemperature\u001b[39;49m\u001b[33;43m\"\u001b[39;49m\u001b[43m:\u001b[49m\u001b[43m \u001b[49m\u001b[43mtemperature\u001b[49m\u001b[43m,\u001b[49m\n\u001b[32m    954\u001b[39m \u001b[43m                \u001b[49m\u001b[33;43m\"\u001b[39;49m\u001b[33;43mtool_choice\u001b[39;49m\u001b[33;43m\"\u001b[39;49m\u001b[43m:\u001b[49m\u001b[43m \u001b[49m\u001b[43mtool_choice\u001b[49m\u001b[43m,\u001b[49m\n\u001b[32m    955\u001b[39m \u001b[43m                \u001b[49m\u001b[33;43m\"\u001b[39;49m\u001b[33;43mtools\u001b[39;49m\u001b[33;43m\"\u001b[39;49m\u001b[43m:\u001b[49m\u001b[43m \u001b[49m\u001b[43mtools\u001b[49m\u001b[43m,\u001b[49m\n\u001b[32m    956\u001b[39m \u001b[43m                \u001b[49m\u001b[33;43m\"\u001b[39;49m\u001b[33;43mtop_logprobs\u001b[39;49m\u001b[33;43m\"\u001b[39;49m\u001b[43m:\u001b[49m\u001b[43m \u001b[49m\u001b[43mtop_logprobs\u001b[49m\u001b[43m,\u001b[49m\n\u001b[32m    957\u001b[39m \u001b[43m                \u001b[49m\u001b[33;43m\"\u001b[39;49m\u001b[33;43mtop_p\u001b[39;49m\u001b[33;43m\"\u001b[39;49m\u001b[43m:\u001b[49m\u001b[43m \u001b[49m\u001b[43mtop_p\u001b[49m\u001b[43m,\u001b[49m\n\u001b[32m    958\u001b[39m \u001b[43m                \u001b[49m\u001b[33;43m\"\u001b[39;49m\u001b[33;43muser\u001b[39;49m\u001b[33;43m\"\u001b[39;49m\u001b[43m:\u001b[49m\u001b[43m \u001b[49m\u001b[43muser\u001b[49m\u001b[43m,\u001b[49m\n\u001b[32m    959\u001b[39m \u001b[43m                \u001b[49m\u001b[33;43m\"\u001b[39;49m\u001b[33;43mweb_search_options\u001b[39;49m\u001b[33;43m\"\u001b[39;49m\u001b[43m:\u001b[49m\u001b[43m \u001b[49m\u001b[43mweb_search_options\u001b[49m\u001b[43m,\u001b[49m\n\u001b[32m    960\u001b[39m \u001b[43m            \u001b[49m\u001b[43m}\u001b[49m\u001b[43m,\u001b[49m\n\u001b[32m    961\u001b[39m \u001b[43m            \u001b[49m\u001b[43mcompletion_create_params\u001b[49m\u001b[43m.\u001b[49m\u001b[43mCompletionCreateParamsStreaming\u001b[49m\n\u001b[32m    962\u001b[39m \u001b[43m            \u001b[49m\u001b[38;5;28;43;01mif\u001b[39;49;00m\u001b[43m \u001b[49m\u001b[43mstream\u001b[49m\n\u001b[32m    963\u001b[39m \u001b[43m            \u001b[49m\u001b[38;5;28;43;01melse\u001b[39;49;00m\u001b[43m \u001b[49m\u001b[43mcompletion_create_params\u001b[49m\u001b[43m.\u001b[49m\u001b[43mCompletionCreateParamsNonStreaming\u001b[49m\u001b[43m,\u001b[49m\n\u001b[32m    964\u001b[39m \u001b[43m        \u001b[49m\u001b[43m)\u001b[49m\u001b[43m,\u001b[49m\n\u001b[32m    965\u001b[39m \u001b[43m        \u001b[49m\u001b[43moptions\u001b[49m\u001b[43m=\u001b[49m\u001b[43mmake_request_options\u001b[49m\u001b[43m(\u001b[49m\n\u001b[32m    966\u001b[39m \u001b[43m            \u001b[49m\u001b[43mextra_headers\u001b[49m\u001b[43m=\u001b[49m\u001b[43mextra_headers\u001b[49m\u001b[43m,\u001b[49m\u001b[43m \u001b[49m\u001b[43mextra_query\u001b[49m\u001b[43m=\u001b[49m\u001b[43mextra_query\u001b[49m\u001b[43m,\u001b[49m\u001b[43m \u001b[49m\u001b[43mextra_body\u001b[49m\u001b[43m=\u001b[49m\u001b[43mextra_body\u001b[49m\u001b[43m,\u001b[49m\u001b[43m \u001b[49m\u001b[43mtimeout\u001b[49m\u001b[43m=\u001b[49m\u001b[43mtimeout\u001b[49m\n\u001b[32m    967\u001b[39m \u001b[43m        \u001b[49m\u001b[43m)\u001b[49m\u001b[43m,\u001b[49m\n\u001b[32m    968\u001b[39m \u001b[43m        \u001b[49m\u001b[43mcast_to\u001b[49m\u001b[43m=\u001b[49m\u001b[43mChatCompletion\u001b[49m\u001b[43m,\u001b[49m\n\u001b[32m    969\u001b[39m \u001b[43m        \u001b[49m\u001b[43mstream\u001b[49m\u001b[43m=\u001b[49m\u001b[43mstream\u001b[49m\u001b[43m \u001b[49m\u001b[38;5;129;43;01mor\u001b[39;49;00m\u001b[43m \u001b[49m\u001b[38;5;28;43;01mFalse\u001b[39;49;00m\u001b[43m,\u001b[49m\n\u001b[32m    970\u001b[39m \u001b[43m        \u001b[49m\u001b[43mstream_cls\u001b[49m\u001b[43m=\u001b[49m\u001b[43mStream\u001b[49m\u001b[43m[\u001b[49m\u001b[43mChatCompletionChunk\u001b[49m\u001b[43m]\u001b[49m\u001b[43m,\u001b[49m\n\u001b[32m    971\u001b[39m \u001b[43m    \u001b[49m\u001b[43m)\u001b[49m\n",
      "\u001b[36mFile \u001b[39m\u001b[32mc:\\Users\\A238737\\AppData\\Local\\anaconda3\\envs\\azure_environment\\Lib\\site-packages\\openai\\_base_client.py:1242\u001b[39m, in \u001b[36mSyncAPIClient.post\u001b[39m\u001b[34m(self, path, cast_to, body, options, files, stream, stream_cls)\u001b[39m\n\u001b[32m   1228\u001b[39m \u001b[38;5;28;01mdef\u001b[39;00m \u001b[34mpost\u001b[39m(\n\u001b[32m   1229\u001b[39m     \u001b[38;5;28mself\u001b[39m,\n\u001b[32m   1230\u001b[39m     path: \u001b[38;5;28mstr\u001b[39m,\n\u001b[32m   (...)\u001b[39m\u001b[32m   1237\u001b[39m     stream_cls: \u001b[38;5;28mtype\u001b[39m[_StreamT] | \u001b[38;5;28;01mNone\u001b[39;00m = \u001b[38;5;28;01mNone\u001b[39;00m,\n\u001b[32m   1238\u001b[39m ) -> ResponseT | _StreamT:\n\u001b[32m   1239\u001b[39m     opts = FinalRequestOptions.construct(\n\u001b[32m   1240\u001b[39m         method=\u001b[33m\"\u001b[39m\u001b[33mpost\u001b[39m\u001b[33m\"\u001b[39m, url=path, json_data=body, files=to_httpx_files(files), **options\n\u001b[32m   1241\u001b[39m     )\n\u001b[32m-> \u001b[39m\u001b[32m1242\u001b[39m     \u001b[38;5;28;01mreturn\u001b[39;00m cast(ResponseT, \u001b[38;5;28;43mself\u001b[39;49m\u001b[43m.\u001b[49m\u001b[43mrequest\u001b[49m\u001b[43m(\u001b[49m\u001b[43mcast_to\u001b[49m\u001b[43m,\u001b[49m\u001b[43m \u001b[49m\u001b[43mopts\u001b[49m\u001b[43m,\u001b[49m\u001b[43m \u001b[49m\u001b[43mstream\u001b[49m\u001b[43m=\u001b[49m\u001b[43mstream\u001b[49m\u001b[43m,\u001b[49m\u001b[43m \u001b[49m\u001b[43mstream_cls\u001b[49m\u001b[43m=\u001b[49m\u001b[43mstream_cls\u001b[49m\u001b[43m)\u001b[49m)\n",
      "\u001b[36mFile \u001b[39m\u001b[32mc:\\Users\\A238737\\AppData\\Local\\anaconda3\\envs\\azure_environment\\Lib\\site-packages\\openai\\_base_client.py:1004\u001b[39m, in \u001b[36mSyncAPIClient.request\u001b[39m\u001b[34m(self, cast_to, options, stream, stream_cls)\u001b[39m\n\u001b[32m   1001\u001b[39m         \u001b[38;5;28;01mcontinue\u001b[39;00m\n\u001b[32m   1003\u001b[39m     log.debug(\u001b[33m\"\u001b[39m\u001b[33mRaising connection error\u001b[39m\u001b[33m\"\u001b[39m)\n\u001b[32m-> \u001b[39m\u001b[32m1004\u001b[39m     \u001b[38;5;28;01mraise\u001b[39;00m APIConnectionError(request=request) \u001b[38;5;28;01mfrom\u001b[39;00m \u001b[34;01merr\u001b[39;00m\n\u001b[32m   1006\u001b[39m log.debug(\n\u001b[32m   1007\u001b[39m     \u001b[33m'\u001b[39m\u001b[33mHTTP Response: \u001b[39m\u001b[38;5;132;01m%s\u001b[39;00m\u001b[33m \u001b[39m\u001b[38;5;132;01m%s\u001b[39;00m\u001b[33m \u001b[39m\u001b[33m\"\u001b[39m\u001b[38;5;132;01m%i\u001b[39;00m\u001b[33m \u001b[39m\u001b[38;5;132;01m%s\u001b[39;00m\u001b[33m\"\u001b[39m\u001b[33m \u001b[39m\u001b[38;5;132;01m%s\u001b[39;00m\u001b[33m'\u001b[39m,\n\u001b[32m   1008\u001b[39m     request.method,\n\u001b[32m   (...)\u001b[39m\u001b[32m   1012\u001b[39m     response.headers,\n\u001b[32m   1013\u001b[39m )\n\u001b[32m   1014\u001b[39m log.debug(\u001b[33m\"\u001b[39m\u001b[33mrequest_id: \u001b[39m\u001b[38;5;132;01m%s\u001b[39;00m\u001b[33m\"\u001b[39m, response.headers.get(\u001b[33m\"\u001b[39m\u001b[33mx-request-id\u001b[39m\u001b[33m\"\u001b[39m))\n",
      "\u001b[31mAPIConnectionError\u001b[39m: Connection error."
     ]
    }
   ],
   "source": [
    "\n",
    "# Create client\n",
    "client = AzureOpenAI(\n",
    "  default_headers={\"Ocp-Apim-Subscription-Key\": API_KEY},\n",
    "  api_key=API_KEY,\n",
    "  azure_endpoint=API_ENDPOINT,\n",
    "  azure_deployment= AZURE_DEPLOYMENT,\n",
    "  api_version=API_VERSION, \n",
    ")\n",
    "\n",
    "# Create completions\n",
    "completion = client.chat.completions.create(\n",
    "  model=MODEL, \n",
    "  stream=True,\n",
    "  messages=[\n",
    "    {\n",
    "      \"role\": \"user\",\n",
    "      \"content\": \"Tell me a long joke\",\n",
    "    },\n",
    "  ],\n",
    ")\n",
    "\n",
    "for chunk in completion:\n",
    "  try:\n",
    "    print(chunk.choices[0].delta.content or \"\", end=\"\")\n",
    "  except Exception:\n",
    "    pass\n"
   ]
  },
  {
   "cell_type": "code",
   "execution_count": 7,
   "id": "fd8db19c",
   "metadata": {},
   "outputs": [],
   "source": [
    "\n",
    "# Create client\n",
    "client = AzureOpenAI(\n",
    "  default_headers={\"Ocp-Apim-Subscription-Key\": API_KEY},\n",
    "  api_key=API_KEY,\n",
    "  azure_endpoint=API_ENDPOINT,\n",
    "  azure_deployment= AZURE_DEPLOYMENT,\n",
    "  api_version=API_VERSION, \n",
    ")\n"
   ]
  },
  {
   "cell_type": "code",
   "execution_count": 8,
   "id": "496421f9",
   "metadata": {},
   "outputs": [
    {
     "name": "stderr",
     "output_type": "stream",
     "text": [
      "2025/06/16 09:33:42 WARNING mlflow.tracing.processor.mlflow_v2: Creating a trace within the default experiment with id '0'. It is strongly recommended to not use the default experiment to log traces due to ambiguous search results and probable performance issues over time due to directory table listing performance degradation with high volumes of directories within a specific path. To avoid performance and disambiguation issues, set the experiment for your environment using `mlflow.set_experiment()` API.\n"
     ]
    },
    {
     "name": "stdout",
     "output_type": "stream",
     "text": [
      "Absolutely! Here’s a long joke for you. Sit back and enjoy:\n",
      "\n",
      "---\n",
      "\n",
      "A man is driving down a country road when he sees a sign:  \n",
      "TALKING DOG FOR SALE – INQUIRE WITHIN\n",
      "\n",
      "Curious, he pulls in, walks up to the farmhouse, and knocks on the door. The owner greets him, and the man asks, “I saw your sign about a talking dog; is that for real?”\n",
      "\n",
      "The farmer nods and points to the backyard. The man steps through the gate, and sure enough, there’s an old dog sitting calmly on the porch. He hesitates, then says, “Excuse me… are you the talking dog?”\n",
      "\n",
      "The dog looks up and says, “Yep, that’s me.”\n",
      "\n",
      "The man’s jaw drops. “What? You can really talk?!”\n",
      "\n",
      "The dog nods. “Absolutely. I discovered it when I was young. It got me recruited by the CIA. I traveled the world, sat in on high-level meetings—no one ever suspected a dog was fluent in multiple languages. After that, I settled down here to relax. Now I just guard the porch, take naps, and give belly rubs to myself.”\n",
      "\n",
      "The man, stunned, runs back to the farmer. “How much do you want for this dog?”\n",
      "\n",
      "The farmer shrugs. “Ten dollars.”\n",
      "\n",
      "The man is incredulous. “Ten dollars? For a talking dog? Why so cheap?!”\n",
      "\n",
      "The farmer sighs.  \n",
      "“Because he’s a liar. He’s never left this yard.”"
     ]
    }
   ],
   "source": [
    "\n",
    "# Create completions\n",
    "completion = client.chat.completions.create(\n",
    "  model=MODEL, \n",
    "  stream=True,\n",
    "  messages=[\n",
    "    {\n",
    "      \"role\": \"user\",\n",
    "      \"content\": \"Tell me a long joke\",\n",
    "    },\n",
    "  ],\n",
    ")\n",
    "\n",
    "for chunk in completion:\n",
    "  try:\n",
    "    print(chunk.choices[0].delta.content or \"\", end=\"\")\n",
    "  except Exception:\n",
    "    pass\n"
   ]
  },
  {
   "cell_type": "code",
   "execution_count": null,
   "id": "a834701e",
   "metadata": {},
   "outputs": [],
   "source": [
    "def generate_response(prompt):\n",
    "    completions = client.chat.completions.create(\n",
    "        model=MODEL,\n",
    "        stream=True,\n",
    "        messages=[\n",
    "            {\"role\": \"user\", \"content\": prompt}\n",
    "        ]\n",
    "    )\n",
    "\n",
    "    for chunk in completions:\n",
    "        try:\n",
    "            # print(chunk.choices[0].delta.content or \"\", end=\"\")\n",
    "            print(chunk.choices[0].delta.content or \"\", end=\"\")\n",
    "        except Exception:\n",
    "            pass"
   ]
  },
  {
   "cell_type": "code",
   "execution_count": null,
   "id": "59e0f08c",
   "metadata": {},
   "outputs": [
    {
     "name": "stdout",
     "output_type": "stream",
     "text": [
      "Great question! To answer **what makes AI agents 'AI agents'**, let's break it down:\n",
      "\n",
      "### 1. **What is an Agent?**\n",
      "In artificial intelligence (AI), **an agent is anything that perceives its environment and acts upon it**. It can be as simple as a thermostat (perceives temperature, turns heater on/off) or as complex as an autonomous car.\n",
      "\n",
      "### 2. **What makes an Agent an AI Agent?**\n",
      "An **AI agent** is specifically a *computational* agent that uses **artificial intelligence techniques** to operate. This means:\n",
      "\n",
      "- **Perceives**: It gets input from the environment (via sensors or data).\n",
      "- **Thinks/Reasons**: It processes that input intelligently (using logic, learning, planning, etc).\n",
      "- **Acts**: It acts back on the environment (via effectors or commands).\n",
      "- **Goal-Oriented**: It typically works towards a goal, optimizing its actions to succeed.\n",
      "\n",
      "### 3. **Key Features That Make an Agent an AI Agent**\n",
      "- **Autonomy**: Makes at least some decisions on its own, with limited human intervention.\n",
      "- **Adaptivity**: Can learn or adapt its behavior over time (not always, but often).\n",
      "- **Rationality**: Tries to do the \"best\" thing based on its perceptions, knowledge, and goals.\n",
      "- **Proactivity & Reactivity**: Can act both in response to environmental changes (reactive) and in anticipation of future situations (proactive).\n",
      "\n",
      "### 4. **Examples**\n",
      "- **Chatbots**: Perceive your messages, reason about how to respond, and reply accordingly.\n",
      "- **Game AI**: Considers the state of the game, predicts outcomes, and chooses moves.\n",
      "- **Robots**: Use sensors to perceive surroundings and navigate towards goals.\n",
      "\n",
      "---\n",
      "\n",
      "**In summary:**  \n",
      "> **AI agents are systems that autonomously perceive their environment, reason using AI techniques, and act upon the environment to achieve specific goals.**\n",
      "\n",
      "**It's the combination of perception, reasoning, and intelligent action that turns a simple agent into an *AI agent*.**None\n"
     ]
    }
   ],
   "source": [
    "print(generate_response(\"What makes AI agents AI agents?\"))"
   ]
  },
  {
   "cell_type": "markdown",
   "id": "8a0c98d4",
   "metadata": {},
   "source": [
    "# SQL Queries"
   ]
  },
  {
   "cell_type": "code",
   "execution_count": null,
   "id": "d2de62ba",
   "metadata": {},
   "outputs": [],
   "source": [
    "# to the RSVR\n",
    "server_reservior = os.environ.get(\"rsvr\")\n",
    "rsvr_password = os.environ.get(\"rsvr_password\")\n",
    "rsvr_user =  os.environ.get(\"rsvr_user\") #\"SBICZA01\\A238737\"\n",
    "\n",
    "# Connecting to the Resevoir\n",
    "conn_reservior = pymssql.connect(server = server_reservior,\n",
    "                                user = rsvr_user, \n",
    "                                password = rsvr_password)\n",
    "cursor_rsvr = conn_reservior.cursor()"
   ]
  },
  {
   "cell_type": "code",
   "execution_count": null,
   "id": "806966ee",
   "metadata": {},
   "outputs": [],
   "source": [
    "# Query to get the data from the Reservoir\n",
    "# df_data = pd.read_sql_query(\"\"\"\n",
    "#                             SELECT top 1000 * \n",
    "#                             FROM [RSVRRealtimeFinacleLS].[PLSFIN].[vwCuratedLSOFinacleTransactionsHistoryImpl] WITH (NOLOCK)\n",
    "#                             \"\"\", conn_reservior)\n",
    "# cursor_rsvr.close()\n",
    "# conn_reservior.close()\n",
    "\n",
    "# df_data.head()"
   ]
  },
  {
   "cell_type": "code",
   "execution_count": null,
   "id": "49f3101b",
   "metadata": {},
   "outputs": [],
   "source": [
    "import re\n",
    "import pandas as pd\n",
    "import pymssql\n",
    "import os\n",
    "from tqdm import tqdm\n",
    "\n",
    "def validate_sql_query(query):\n",
    "    \"\"\"\n",
    "    Validates SQL query to ensure it's safe and only contains SELECT statements.\n",
    "    Returns (is_valid, error_message).\n",
    "    \"\"\"\n",
    "    import re\n",
    "    \n",
    "    # Normalize query - remove comments and extra whitespace\n",
    "    normalized_query = re.sub(r'--.*', '', query)  # Remove line comments\n",
    "    normalized_query = re.sub(r'/\\*.*?\\*/', '', normalized_query, flags=re.DOTALL)  # Remove block comments\n",
    "    normalized_query = ' '.join(normalized_query.split()).upper()  # Normalize whitespace and convert to uppercase\n",
    "    \n",
    "    # List of dangerous SQL keywords that should be blocked\n",
    "    dangerous_keywords = [\n",
    "        'INSERT', 'UPDATE', 'DELETE', 'DROP', 'CREATE', 'ALTER', 'TRUNCATE',\n",
    "        'MERGE', 'REPLACE', 'EXEC', 'EXECUTE', 'CALL', 'DECLARE', 'SET',\n",
    "        'GRANT', 'REVOKE', 'COMMIT', 'ROLLBACK', 'SAVEPOINT', 'BEGIN',\n",
    "        'TRANSACTION', 'LOCK', 'UNLOCK', 'BACKUP', 'RESTORE', 'SHUTDOWN',\n",
    "        'USE', 'SHOW', 'DESCRIBE', 'EXPLAIN', 'LOAD', 'OUTFILE', 'INFILE',\n",
    "        'IMPORT', 'EXPORT', 'BULK', 'OPENROWSET', 'OPENDATASOURCE'\n",
    "    ]\n",
    "    \n",
    "    # Check for dangerous keywords\n",
    "    for keyword in dangerous_keywords:\n",
    "        if re.search(r'\\b' + keyword + r'\\b', normalized_query):\n",
    "            return False, f\"Dangerous SQL keyword detected: {keyword}\"\n",
    "    \n",
    "    # Ensure query starts with SELECT\n",
    "    if not normalized_query.strip().startswith('SELECT'):\n",
    "        return False, \"Only SELECT statements are allowed\"\n",
    "    \n",
    "    # Check for suspicious patterns\n",
    "    suspicious_patterns = [\n",
    "        r';\\s*(INSERT|UPDATE|DELETE|DROP|CREATE|ALTER)',  # Multiple statements\n",
    "        r'UNION.*?(INSERT|UPDATE|DELETE|DROP|CREATE|ALTER)',  # Union injection\n",
    "        r'OR\\s+1\\s*=\\s*1',  # SQL injection pattern\n",
    "        r'AND\\s+1\\s*=\\s*1',  # SQL injection pattern\n",
    "        r\"'.*?'.*?;\",  # Potential injection with semicolon\n",
    "    ]\n",
    "    \n",
    "    for pattern in suspicious_patterns:\n",
    "        if re.search(pattern, normalized_query, re.IGNORECASE):\n",
    "            return False, f\"Suspicious SQL pattern detected: {pattern}\"\n",
    "    \n",
    "    return True, \"Query is valid\"\n",
    "\n",
    "def execute_multiple_sql_code(sql_code, connection=None, connection_type=\"mssql\"):\n",
    "    \"\"\"\n",
    "    Accepts a string containing one or more SQL queries, each enclosed in triple backticks.\n",
    "    Executes each query sequentially and stores the results in a list.\n",
    "    \n",
    "    Parameters:\n",
    "    - sql_code: String containing SQL queries in ```sql code blocks\n",
    "    - connection: Database connection object (pymssql, sqlite3, etc.)\n",
    "    - connection_type: Type of database connection (\"mssql\", \"sqlite\", \"mysql\", \"postgresql\")\n",
    "    \n",
    "    Returns a list of results (SELECT returns DataFrame as JSON, validation errors return error messages).\n",
    "    \"\"\"\n",
    "    import pandas as pd\n",
    "    import json\n",
    "    import re\n",
    "    \n",
    "    if connection is None:\n",
    "        return [{\"query\": \"\", \"result\": \"Error: No database connection provided\", \"status\": \"connection_error\"}]\n",
    "    \n",
    "    # Improved regex to handle various backtick formats\n",
    "    # This covers both ```sql and ``` sql (with spaces) and handles multiline blocks better\n",
    "    queries = re.findall(r'```\\s*sql\\s*(.*?)```', sql_code, re.DOTALL)\n",
    "    results = []\n",
    "    \n",
    "    if not queries:\n",
    "        # Try more lenient pattern (without sql keyword)\n",
    "        queries = re.findall(r'```(.*?)```', sql_code, re.DOTALL)\n",
    "        \n",
    "        if not queries:\n",
    "            return [{\"query\": sql_code, \n",
    "                    \"result\": \"No SQL queries found in the provided code. Please format queries in ```sql code blocks.\",\n",
    "                    \"status\": \"format_error\"}]\n",
    "    \n",
    "    for query_idx, query in enumerate(queries):\n",
    "        query = query.strip()\n",
    "        if not query:\n",
    "            results.append({\n",
    "                \"query\": \"\", \n",
    "                \"result\": f\"Empty query found in code block #{query_idx+1}\",\n",
    "                \"status\": \"validation_error\"\n",
    "            })\n",
    "            continue\n",
    "            \n",
    "        # Validate the query first\n",
    "        is_valid, validation_message = validate_sql_query(query)\n",
    "        \n",
    "        if not is_valid:\n",
    "            results.append({\n",
    "                \"query\": query, \n",
    "                \"result\": f\"Query validation failed: {validation_message}\",\n",
    "                \"status\": \"validation_error\"\n",
    "            })\n",
    "            continue\n",
    "        \n",
    "        try:\n",
    "            # Execute only SELECT statements (already validated)\n",
    "            print(f\"Running Query #{query_idx+1} ______________________\")\n",
    "            print(f\"Executing query: {query[:100]}{'...' if len(query) > 100 else ''}\")\n",
    "            \n",
    "            # Execute query\n",
    "            df = pd.read_sql_query(query, connection)\n",
    "            \n",
    "            print(f\"Query executed successfully - returned {len(df)} rows with {len(df.columns)} columns\")\n",
    "            \n",
    "            # Handle empty result sets gracefully\n",
    "            if len(df) == 0:\n",
    "                results.append({\n",
    "                    \"query\": query,\n",
    "                    \"result\": \"[]\",  # Empty JSON array\n",
    "                    \"status\": \"success\",\n",
    "                    \"row_count\": 0,\n",
    "                    \"column_count\": len(df.columns),\n",
    "                    \"columns\": df.columns.tolist()\n",
    "                })\n",
    "                continue\n",
    "            \n",
    "            # Convert to JSON with error handling\n",
    "            try:\n",
    "                json_result = df.to_json(orient='records', date_format='iso')\n",
    "                results.append({\n",
    "                    \"query\": query, \n",
    "                    \"result\": json_result,\n",
    "                    \"status\": \"success\",\n",
    "                    \"row_count\": len(df),\n",
    "                    \"column_count\": len(df.columns),\n",
    "                    \"columns\": df.columns.tolist()\n",
    "                })\n",
    "            except Exception as json_err:\n",
    "                # Fallback for JSON conversion errors\n",
    "                results.append({\n",
    "                    \"query\": query, \n",
    "                    \"result\": f\"Error converting results to JSON: {str(json_err)}\",\n",
    "                    \"status\": \"json_error\",\n",
    "                    \"row_count\": len(df),\n",
    "                    \"column_info\": {col: str(dtype) for col, dtype in df.dtypes.items()}\n",
    "                })\n",
    "                \n",
    "        except Exception as e:\n",
    "            results.append({\n",
    "                \"query\": query, \n",
    "                \"result\": f\"Error executing SQL: {str(e)}\",\n",
    "                \"status\": \"execution_error\"\n",
    "            })\n",
    "    \n",
    "    return results\n",
    "\n",
    "def execute_sql_with_mssql_connection(sql_code):\n",
    "    \"\"\"\n",
    "    Execute SQL queries using the existing MSSQL connection setup.\n",
    "    \"\"\"\n",
    "    try:\n",
    "        # Use your existing connection setup\n",
    "        server_reservior = os.environ.get(\"rsvr\")\n",
    "        rsvr_password = os.environ.get(\"rsvr_password\")\n",
    "        rsvr_user = os.environ.get(\"rsvr_user\")\n",
    "        \n",
    "        if not all([server_reservior, rsvr_password, rsvr_user]):\n",
    "            return [{\"query\": \"\", \n",
    "                    \"result\": \"Missing environment variables for database connection. Check rsvr, rsvr_password, rsvr_user\", \n",
    "                    \"status\": \"configuration_error\"}]\n",
    "        \n",
    "        conn_reservior = pymssql.connect(\n",
    "            server=server_reservior,\n",
    "            user=rsvr_user, \n",
    "            password=rsvr_password\n",
    "        )\n",
    "        \n",
    "        # Execute the queries\n",
    "        results = execute_multiple_sql_code(sql_code, conn_reservior, \"mssql\")\n",
    "        \n",
    "        # Close connection\n",
    "        conn_reservior.close()\n",
    "        \n",
    "        return results\n",
    "        \n",
    "    except Exception as e:\n",
    "        return [{\"query\": \"\", \"result\": f\"Connection error: {str(e)}\", \"status\": \"connection_error\"}]"
   ]
  },
  {
   "cell_type": "code",
   "execution_count": null,
   "id": "0a2d2977",
   "metadata": {},
   "outputs": [],
   "source": [
    "def execute_multiple_sql_code(sql_code, connection=None, connection_type=\"mssql\", use_raw_cursor=False):\n",
    "    import pandas as pd\n",
    "    import json\n",
    "    import re\n",
    "\n",
    "    if connection is None:\n",
    "        return [{\"query\": \"\", \"result\": \"Error: No database connection provided\", \"status\": \"connection_error\"}]\n",
    "\n",
    "    queries = re.findall(r'```\\s*sql\\s*(.*?)```', sql_code, re.DOTALL)\n",
    "    results = []\n",
    "\n",
    "    if not queries:\n",
    "        queries = re.findall(r'```(.*?)```', sql_code, re.DOTALL)\n",
    "        if not queries:\n",
    "            return [{\"query\": sql_code, \n",
    "                     \"result\": \"No SQL queries found in the provided code. Please format queries in ```sql code blocks.\",\n",
    "                     \"status\": \"format_error\"}]\n",
    "\n",
    "    for query_idx, query in enumerate(queries):\n",
    "        query = query.strip()\n",
    "        if not query:\n",
    "            results.append({\n",
    "                \"query\": \"\", \n",
    "                \"result\": f\"Empty query found in code block #{query_idx+1}\",\n",
    "                \"status\": \"validation_error\"\n",
    "            })\n",
    "            continue\n",
    "\n",
    "        is_valid, validation_message = validate_sql_query(query)\n",
    "        if not is_valid:\n",
    "            results.append({\n",
    "                \"query\": query, \n",
    "                \"result\": f\"Query validation failed: {validation_message}\",\n",
    "                \"status\": \"validation_error\"\n",
    "            })\n",
    "            continue\n",
    "\n",
    "        try:\n",
    "            print(f\"Running Query #{query_idx+1} ______________________\")\n",
    "            print(f\"Executing query: {query[:100]}{'...' if len(query) > 100 else ''}\")\n",
    "\n",
    "            if use_raw_cursor:\n",
    "                cursor = connection.cursor()\n",
    "                cursor.execute(query)\n",
    "                columns = [desc[0] for desc in cursor.description]\n",
    "                rows = cursor.fetchall()\n",
    "                df = pd.DataFrame(rows, columns=columns)\n",
    "            else:\n",
    "                df = pd.read_sql_query(query, connection)\n",
    "\n",
    "            if len(df) == 0:\n",
    "                results.append({\n",
    "                    \"query\": query,\n",
    "                    \"result\": \"[]\",\n",
    "                    \"status\": \"success\",\n",
    "                    \"row_count\": 0,\n",
    "                    \"column_count\": len(df.columns),\n",
    "                    \"columns\": df.columns.tolist()\n",
    "                })\n",
    "                continue\n",
    "\n",
    "            try:\n",
    "                json_result = df.to_json(orient='records', date_format='iso')\n",
    "                results.append({\n",
    "                    \"query\": query, \n",
    "                    \"result\": json_result,\n",
    "                    \"status\": \"success\",\n",
    "                    \"row_count\": len(df),\n",
    "                    \"column_count\": len(df.columns),\n",
    "                    \"columns\": df.columns.tolist()\n",
    "                })\n",
    "            except Exception as json_err:\n",
    "                results.append({\n",
    "                    \"query\": query, \n",
    "                    \"result\": f\"Error converting results to JSON: {str(json_err)}\",\n",
    "                    \"status\": \"json_error\",\n",
    "                    \"row_count\": len(df),\n",
    "                    \"column_info\": {col: str(dtype) for col, dtype in df.dtypes.items()}\n",
    "                })\n",
    "\n",
    "        except Exception as e:\n",
    "            results.append({\n",
    "                \"query\": query, \n",
    "                \"result\": f\"Error executing SQL: {str(e)}\",\n",
    "                \"status\": \"execution_error\"\n",
    "            })\n",
    "\n",
    "    return results\n"
   ]
  },
  {
   "cell_type": "code",
   "execution_count": null,
   "id": "730652b8",
   "metadata": {},
   "outputs": [],
   "source": [
    "# Example usage:\n",
    "sql_code_example = \"\"\"\n",
    "```sql\n",
    "SELECT top 100 * \n",
    "FROM [RSVRRealtimeFinacleLS].[PLSFIN].[vwCuratedLSOFinacleTransactionsHistoryImpl] WITH (NOLOCK);\n",
    "```\n",
    "\"\"\"\n"
   ]
  },
  {
   "cell_type": "markdown",
   "id": "09228889",
   "metadata": {},
   "source": [
    "# LocalDB: pyodbc"
   ]
  },
  {
   "cell_type": "code",
   "execution_count": 2,
   "id": "7764bc49",
   "metadata": {},
   "outputs": [],
   "source": [
    "server = os.environ.get(\"server_data_studio\") \n",
    "database = os.environ.get(\"database\")\n",
    "password = os.environ.get(\"password\")\n",
    "username =  os.environ.get(\"username\") #\"SBICZA01\\A238737\""
   ]
  },
  {
   "cell_type": "code",
   "execution_count": 3,
   "id": "6841f4a0",
   "metadata": {},
   "outputs": [
    {
     "data": {
      "text/plain": [
       "('localhost\\\\SQLEXPRESS', 'master', 'A238737')"
      ]
     },
     "execution_count": 3,
     "metadata": {},
     "output_type": "execute_result"
    }
   ],
   "source": [
    "server, database, username"
   ]
  },
  {
   "cell_type": "code",
   "execution_count": 4,
   "id": "e56e62ae",
   "metadata": {},
   "outputs": [
    {
     "name": "stdout",
     "output_type": "stream",
     "text": [
      "Available drivers:\n",
      "  - SQL Server\n",
      "  - ODBC Driver 17 for SQL Server\n",
      "  - SQL Server Native Client RDA 11.0\n",
      "  - Microsoft Access Driver (*.mdb, *.accdb)\n",
      "  - Microsoft Excel Driver (*.xls, *.xlsx, *.xlsm, *.xlsb)\n",
      "  - Microsoft Access Text Driver (*.txt, *.csv)\n",
      "  - Microsoft Access dBASE Driver (*.dbf, *.ndx, *.mdx)\n"
     ]
    }
   ],
   "source": [
    "import pyodbc\n",
    "\n",
    "# List available drivers\n",
    "print(\"Available drivers:\")\n",
    "for driver in pyodbc.drivers():\n",
    "    print(f\"  - {driver}\")"
   ]
  },
  {
   "cell_type": "markdown",
   "id": "cb6a320a",
   "metadata": {},
   "source": [
    "## Connect to satabase"
   ]
  },
  {
   "cell_type": "code",
   "execution_count": 5,
   "id": "d516c78c",
   "metadata": {},
   "outputs": [
    {
     "name": "stdout",
     "output_type": "stream",
     "text": [
      "Successfully imported\n"
     ]
    }
   ],
   "source": [
    "# import connect_to_sql_server module\n",
    "parent_dir = os.path.abspath(os.path.join(os.getcwd(), '..'))\n",
    "if parent_dir not in sys.path:\n",
    "    sys.path.append(parent_dir)\n",
    "\n",
    "try:\n",
    "    from db.sql_connector import connect_to_sql_server\n",
    "    from db.sql_query_executor import execute_sql_with_pyodbc\n",
    "    print(\"Successfully imported\")\n",
    "except ImportError as e:\n",
    "    print(f\"Error importing: {e}\")\n",
    "    print(\"Ensure the file/s is in the parent directory of your current script.\")\n",
    "    sys.exit(1)\n"
   ]
  },
  {
   "cell_type": "code",
   "execution_count": 10,
   "id": "45b29347",
   "metadata": {},
   "outputs": [
    {
     "name": "stdout",
     "output_type": "stream",
     "text": [
      "No .env file found. Will use provided parameters or defaults.\n",
      "Available SQL Server drivers: ODBC Driver 17 for SQL Server, SQL Server, SQL Server Native Client RDA 11.0\n",
      "Attempting connection: windows auth using ODBC Driver 17 for SQL Server\n",
      "Server: localhost\\SQLEXPRESS, Database: master\n",
      "✓ Successfully connected to SQL Server\n",
      "  Server: localhost\\SQLEXPRESS\n",
      "  Database: master\n",
      "  Authentication: windows\n",
      "  Driver: ODBC Driver 17 for SQL Server\n",
      "============================================================\n"
     ]
    }
   ],
   "source": [
    "# Example usage:\n",
    "# Windows authentication\n",
    "conn, cursor = connect_to_sql_server(server, database, auth_type='windows')\n",
    "\n",
    "# SQL Server authentication\n",
    "# conn, cursor = connect_to_sql_server(server, database, auth_type='sql', username= username, password=password)\n",
    "\n",
    "# Don't forget to close the connection when done\n",
    "# if conn:\n",
    "#     conn.close()"
   ]
  },
  {
   "cell_type": "code",
   "execution_count": 11,
   "id": "282a3c71",
   "metadata": {},
   "outputs": [
    {
     "data": {
      "application/vnd.microsoft.datawrangler.viewer.v0+json": {
       "columns": [
        {
         "name": "index",
         "rawType": "int64",
         "type": "integer"
        },
        {
         "name": "id",
         "rawType": "int64",
         "type": "integer"
        },
        {
         "name": "full_name",
         "rawType": "object",
         "type": "string"
        },
        {
         "name": "email",
         "rawType": "object",
         "type": "string"
        },
        {
         "name": "phone_number",
         "rawType": "object",
         "type": "string"
        },
        {
         "name": "address",
         "rawType": "object",
         "type": "string"
        },
        {
         "name": "account_number",
         "rawType": "object",
         "type": "string"
        },
        {
         "name": "account_type",
         "rawType": "object",
         "type": "string"
        },
        {
         "name": "balance",
         "rawType": "float64",
         "type": "float"
        },
        {
         "name": "gender",
         "rawType": "object",
         "type": "string"
        },
        {
         "name": "age",
         "rawType": "int64",
         "type": "integer"
        },
        {
         "name": "occupation",
         "rawType": "object",
         "type": "string"
        },
        {
         "name": "income",
         "rawType": "float64",
         "type": "float"
        },
        {
         "name": "income_source",
         "rawType": "object",
         "type": "string"
        },
        {
         "name": "income_category",
         "rawType": "object",
         "type": "string"
        },
        {
         "name": "previous_loans_count",
         "rawType": "int64",
         "type": "integer"
        },
        {
         "name": "credit_score",
         "rawType": "int64",
         "type": "integer"
        },
        {
         "name": "loan_eligible",
         "rawType": "bool",
         "type": "boolean"
        },
        {
         "name": "eligible_loan_amount",
         "rawType": "float64",
         "type": "float"
        },
        {
         "name": "loan_amount_applied_for",
         "rawType": "float64",
         "type": "float"
        },
        {
         "name": "loan_status",
         "rawType": "object",
         "type": "unknown"
        },
        {
         "name": "loan_tenure",
         "rawType": "float64",
         "type": "float"
        },
        {
         "name": "loan_interest_rate",
         "rawType": "float64",
         "type": "float"
        },
        {
         "name": "loan_purpose",
         "rawType": "object",
         "type": "unknown"
        },
        {
         "name": "loan_application_date",
         "rawType": "datetime64[ns]",
         "type": "datetime"
        },
        {
         "name": "last_login",
         "rawType": "datetime64[ns]",
         "type": "datetime"
        },
        {
         "name": "product_holding",
         "rawType": "object",
         "type": "string"
        },
        {
         "name": "no_product_holding",
         "rawType": "int64",
         "type": "integer"
        },
        {
         "name": "entrenchment_score",
         "rawType": "float64",
         "type": "float"
        }
       ],
       "ref": "ac23f294-32d0-48f6-b68d-d3b43819b96d",
       "rows": [
        [
         "0",
         "10067724",
         "Paula Gonzales",
         "adam09@example.org",
         "(854)608-8053",
         "31026 Elizabeth Squares Apt. 357, Evansland, SC 37801",
         "1144700244",
         "Business",
         "3522.19",
         "Male",
         "72",
         "Music therapist",
         "120363.25",
         "Investments",
         "High",
         "4",
         "766",
         "True",
         "37674.5",
         "9113.06",
         "Pending",
         "24.0",
         "10.34",
         "Vehicle",
         "2024-09-25 13:46:35",
         "2024-12-18 13:25:39",
         "[\"Certificates of Deposit (CDs)\", \"Brokerage Accounts\", \"Auto Loans\", \"Foreign Currency Exchange\", \"Investment Advisory Services\", \"Retirement Accounts (IRA, 401k)\", \"Overdraft Protection\", \"Personal Loans\", \"Savings Account\", \"Checking Account\"]",
         "10",
         "43.48"
        ],
        [
         "1",
         "10236697",
         "Crystal Mayo",
         "leemike@example.net",
         "516.613.2503x620",
         "048 Vazquez Plains, Peterbury, KY 76257",
         "689676928",
         "Business",
         "36295.28",
         "Male",
         "31",
         "Psychologist, occupational",
         "25472.13",
         "Investments",
         "Low",
         "0",
         "522",
         "False",
         "0.0",
         "0.0",
         null,
         null,
         null,
         null,
         null,
         "2025-03-31 02:26:54",
         "[\"Certificates of Deposit (CDs)\", \"Retirement Accounts (IRA, 401k)\", \"Insurance Products\"]",
         "3",
         "13.04"
        ],
        [
         "2",
         "10285422",
         "Lindsey Davis",
         "zacharybaker@example.org",
         "(325)803-7553x6772",
         "04781 Kelly Ville Suite 382, Andrewsbury, WY 97687",
         "6365367477",
         "Savings",
         "28218.26",
         "Female",
         "55",
         "Energy engineer",
         "54660.13",
         "Rental",
         "Medium",
         "3",
         "713",
         "True",
         "14871.1",
         "0.0",
         null,
         null,
         null,
         null,
         null,
         "2024-09-08 12:08:27",
         "[\"Safe Deposit Boxes\", \"Credit Cards\", \"Savings Account\", \"Mobile & Online Banking\", \"Overdraft Protection\", \"Foreign Currency Exchange\", \"Certificates of Deposit (CDs)\"]",
         "7",
         "30.43"
        ],
        [
         "3",
         "10406511",
         "Shelly Hernandez",
         "cookdiane@example.com",
         "264-669-3151",
         "325 Jessica Greens Suite 275, Port Aprilfurt, AL 78827",
         "5108727028",
         "Business",
         "47836.64",
         "Female",
         "58",
         "Librarian, academic",
         "82146.21",
         "Freelance",
         "High",
         "4",
         "633",
         "True",
         "4115.98",
         "4115.98",
         "Approved",
         "9.0",
         "11.37",
         "Home",
         "2023-10-18 17:18:19",
         "2025-02-19 01:39:36",
         "[\"Overdraft Protection\", \"Foreign Currency Exchange\", \"Insurance Products\", \"Credit Cards\", \"Checking Account\", \"Mobile & Online Banking\", \"Retirement Accounts (IRA, 401k)\", \"Personal Loans\", \"Investment Advisory Services\", \"Savings Account\", \"Home Mortgages\", \"Certificates of Deposit (CDs)\"]",
         "12",
         "52.17"
        ],
        [
         "4",
         "57305723",
         "Alejandro Sims",
         "reyesjared@example.com",
         "299-339-8079x17778",
         "4658 Snyder Landing Suite 653, East Christopherfurt, AR 31394",
         "6455579108",
         "Business",
         "28142.83",
         "Female",
         "60",
         "Print production planner",
         "93338.78",
         "Business",
         "High",
         "5",
         "554",
         "False",
         "0.0",
         "0.0",
         null,
         null,
         null,
         null,
         null,
         "2025-03-29 17:59:33",
         "[\"Credit Cards\", \"Home Mortgages\", \"Auto Loans\", \"Retirement Accounts (IRA, 401k)\", \"Brokerage Accounts\"]",
         "5",
         "21.74"
        ]
       ],
       "shape": {
        "columns": 28,
        "rows": 5
       }
      },
      "text/html": [
       "<div>\n",
       "<style scoped>\n",
       "    .dataframe tbody tr th:only-of-type {\n",
       "        vertical-align: middle;\n",
       "    }\n",
       "\n",
       "    .dataframe tbody tr th {\n",
       "        vertical-align: top;\n",
       "    }\n",
       "\n",
       "    .dataframe thead th {\n",
       "        text-align: right;\n",
       "    }\n",
       "</style>\n",
       "<table border=\"1\" class=\"dataframe\">\n",
       "  <thead>\n",
       "    <tr style=\"text-align: right;\">\n",
       "      <th></th>\n",
       "      <th>id</th>\n",
       "      <th>full_name</th>\n",
       "      <th>email</th>\n",
       "      <th>phone_number</th>\n",
       "      <th>address</th>\n",
       "      <th>account_number</th>\n",
       "      <th>account_type</th>\n",
       "      <th>balance</th>\n",
       "      <th>gender</th>\n",
       "      <th>age</th>\n",
       "      <th>...</th>\n",
       "      <th>loan_amount_applied_for</th>\n",
       "      <th>loan_status</th>\n",
       "      <th>loan_tenure</th>\n",
       "      <th>loan_interest_rate</th>\n",
       "      <th>loan_purpose</th>\n",
       "      <th>loan_application_date</th>\n",
       "      <th>last_login</th>\n",
       "      <th>product_holding</th>\n",
       "      <th>no_product_holding</th>\n",
       "      <th>entrenchment_score</th>\n",
       "    </tr>\n",
       "  </thead>\n",
       "  <tbody>\n",
       "    <tr>\n",
       "      <th>0</th>\n",
       "      <td>10067724</td>\n",
       "      <td>Paula Gonzales</td>\n",
       "      <td>adam09@example.org</td>\n",
       "      <td>(854)608-8053</td>\n",
       "      <td>31026 Elizabeth Squares Apt. 357, Evansland, S...</td>\n",
       "      <td>1144700244</td>\n",
       "      <td>Business</td>\n",
       "      <td>3522.19</td>\n",
       "      <td>Male</td>\n",
       "      <td>72</td>\n",
       "      <td>...</td>\n",
       "      <td>9113.06</td>\n",
       "      <td>Pending</td>\n",
       "      <td>24.0</td>\n",
       "      <td>10.34</td>\n",
       "      <td>Vehicle</td>\n",
       "      <td>2024-09-25 13:46:35</td>\n",
       "      <td>2024-12-18 13:25:39</td>\n",
       "      <td>[\"Certificates of Deposit (CDs)\", \"Brokerage A...</td>\n",
       "      <td>10</td>\n",
       "      <td>43.48</td>\n",
       "    </tr>\n",
       "    <tr>\n",
       "      <th>1</th>\n",
       "      <td>10236697</td>\n",
       "      <td>Crystal Mayo</td>\n",
       "      <td>leemike@example.net</td>\n",
       "      <td>516.613.2503x620</td>\n",
       "      <td>048 Vazquez Plains, Peterbury, KY 76257</td>\n",
       "      <td>689676928</td>\n",
       "      <td>Business</td>\n",
       "      <td>36295.28</td>\n",
       "      <td>Male</td>\n",
       "      <td>31</td>\n",
       "      <td>...</td>\n",
       "      <td>0.00</td>\n",
       "      <td>None</td>\n",
       "      <td>NaN</td>\n",
       "      <td>NaN</td>\n",
       "      <td>None</td>\n",
       "      <td>NaT</td>\n",
       "      <td>2025-03-31 02:26:54</td>\n",
       "      <td>[\"Certificates of Deposit (CDs)\", \"Retirement ...</td>\n",
       "      <td>3</td>\n",
       "      <td>13.04</td>\n",
       "    </tr>\n",
       "    <tr>\n",
       "      <th>2</th>\n",
       "      <td>10285422</td>\n",
       "      <td>Lindsey Davis</td>\n",
       "      <td>zacharybaker@example.org</td>\n",
       "      <td>(325)803-7553x6772</td>\n",
       "      <td>04781 Kelly Ville Suite 382, Andrewsbury, WY 9...</td>\n",
       "      <td>6365367477</td>\n",
       "      <td>Savings</td>\n",
       "      <td>28218.26</td>\n",
       "      <td>Female</td>\n",
       "      <td>55</td>\n",
       "      <td>...</td>\n",
       "      <td>0.00</td>\n",
       "      <td>None</td>\n",
       "      <td>NaN</td>\n",
       "      <td>NaN</td>\n",
       "      <td>None</td>\n",
       "      <td>NaT</td>\n",
       "      <td>2024-09-08 12:08:27</td>\n",
       "      <td>[\"Safe Deposit Boxes\", \"Credit Cards\", \"Saving...</td>\n",
       "      <td>7</td>\n",
       "      <td>30.43</td>\n",
       "    </tr>\n",
       "    <tr>\n",
       "      <th>3</th>\n",
       "      <td>10406511</td>\n",
       "      <td>Shelly Hernandez</td>\n",
       "      <td>cookdiane@example.com</td>\n",
       "      <td>264-669-3151</td>\n",
       "      <td>325 Jessica Greens Suite 275, Port Aprilfurt, ...</td>\n",
       "      <td>5108727028</td>\n",
       "      <td>Business</td>\n",
       "      <td>47836.64</td>\n",
       "      <td>Female</td>\n",
       "      <td>58</td>\n",
       "      <td>...</td>\n",
       "      <td>4115.98</td>\n",
       "      <td>Approved</td>\n",
       "      <td>9.0</td>\n",
       "      <td>11.37</td>\n",
       "      <td>Home</td>\n",
       "      <td>2023-10-18 17:18:19</td>\n",
       "      <td>2025-02-19 01:39:36</td>\n",
       "      <td>[\"Overdraft Protection\", \"Foreign Currency Exc...</td>\n",
       "      <td>12</td>\n",
       "      <td>52.17</td>\n",
       "    </tr>\n",
       "    <tr>\n",
       "      <th>4</th>\n",
       "      <td>57305723</td>\n",
       "      <td>Alejandro Sims</td>\n",
       "      <td>reyesjared@example.com</td>\n",
       "      <td>299-339-8079x17778</td>\n",
       "      <td>4658 Snyder Landing Suite 653, East Christophe...</td>\n",
       "      <td>6455579108</td>\n",
       "      <td>Business</td>\n",
       "      <td>28142.83</td>\n",
       "      <td>Female</td>\n",
       "      <td>60</td>\n",
       "      <td>...</td>\n",
       "      <td>0.00</td>\n",
       "      <td>None</td>\n",
       "      <td>NaN</td>\n",
       "      <td>NaN</td>\n",
       "      <td>None</td>\n",
       "      <td>NaT</td>\n",
       "      <td>2025-03-29 17:59:33</td>\n",
       "      <td>[\"Credit Cards\", \"Home Mortgages\", \"Auto Loans...</td>\n",
       "      <td>5</td>\n",
       "      <td>21.74</td>\n",
       "    </tr>\n",
       "  </tbody>\n",
       "</table>\n",
       "<p>5 rows × 28 columns</p>\n",
       "</div>"
      ],
      "text/plain": [
       "         id         full_name                     email        phone_number  \\\n",
       "0  10067724    Paula Gonzales        adam09@example.org       (854)608-8053   \n",
       "1  10236697      Crystal Mayo       leemike@example.net    516.613.2503x620   \n",
       "2  10285422     Lindsey Davis  zacharybaker@example.org  (325)803-7553x6772   \n",
       "3  10406511  Shelly Hernandez     cookdiane@example.com        264-669-3151   \n",
       "4  57305723    Alejandro Sims    reyesjared@example.com  299-339-8079x17778   \n",
       "\n",
       "                                             address account_number  \\\n",
       "0  31026 Elizabeth Squares Apt. 357, Evansland, S...     1144700244   \n",
       "1            048 Vazquez Plains, Peterbury, KY 76257      689676928   \n",
       "2  04781 Kelly Ville Suite 382, Andrewsbury, WY 9...     6365367477   \n",
       "3  325 Jessica Greens Suite 275, Port Aprilfurt, ...     5108727028   \n",
       "4  4658 Snyder Landing Suite 653, East Christophe...     6455579108   \n",
       "\n",
       "  account_type   balance  gender  age  ... loan_amount_applied_for  \\\n",
       "0     Business   3522.19    Male   72  ...                 9113.06   \n",
       "1     Business  36295.28    Male   31  ...                    0.00   \n",
       "2      Savings  28218.26  Female   55  ...                    0.00   \n",
       "3     Business  47836.64  Female   58  ...                 4115.98   \n",
       "4     Business  28142.83  Female   60  ...                    0.00   \n",
       "\n",
       "   loan_status loan_tenure loan_interest_rate  loan_purpose  \\\n",
       "0      Pending        24.0              10.34       Vehicle   \n",
       "1         None         NaN                NaN          None   \n",
       "2         None         NaN                NaN          None   \n",
       "3     Approved         9.0              11.37          Home   \n",
       "4         None         NaN                NaN          None   \n",
       "\n",
       "   loan_application_date          last_login  \\\n",
       "0    2024-09-25 13:46:35 2024-12-18 13:25:39   \n",
       "1                    NaT 2025-03-31 02:26:54   \n",
       "2                    NaT 2024-09-08 12:08:27   \n",
       "3    2023-10-18 17:18:19 2025-02-19 01:39:36   \n",
       "4                    NaT 2025-03-29 17:59:33   \n",
       "\n",
       "                                     product_holding  no_product_holding  \\\n",
       "0  [\"Certificates of Deposit (CDs)\", \"Brokerage A...                  10   \n",
       "1  [\"Certificates of Deposit (CDs)\", \"Retirement ...                   3   \n",
       "2  [\"Safe Deposit Boxes\", \"Credit Cards\", \"Saving...                   7   \n",
       "3  [\"Overdraft Protection\", \"Foreign Currency Exc...                  12   \n",
       "4  [\"Credit Cards\", \"Home Mortgages\", \"Auto Loans...                   5   \n",
       "\n",
       "  entrenchment_score  \n",
       "0              43.48  \n",
       "1              13.04  \n",
       "2              30.43  \n",
       "3              52.17  \n",
       "4              21.74  \n",
       "\n",
       "[5 rows x 28 columns]"
      ]
     },
     "metadata": {},
     "output_type": "display_data"
    }
   ],
   "source": [
    "try:\n",
    "    query = \"\"\"\n",
    "    SELECT TOP 100 * \n",
    "    FROM [master].[dbo].[customer_information] WITH (NOLOCK);\n",
    "    \"\"\"\n",
    "    df_pandas = pd.read_sql_query(query, conn)\n",
    "    display(df_pandas.head())\n",
    "except Exception as e:\n",
    "    print(f\"Error executing query: {e}\")"
   ]
  },
  {
   "cell_type": "code",
   "execution_count": 12,
   "id": "a70d4707",
   "metadata": {},
   "outputs": [
    {
     "data": {
      "application/vnd.microsoft.datawrangler.viewer.v0+json": {
       "columns": [
        {
         "name": "index",
         "rawType": "int64",
         "type": "integer"
        },
        {
         "name": "transaction_id",
         "rawType": "int64",
         "type": "integer"
        },
        {
         "name": "customer_id",
         "rawType": "int64",
         "type": "integer"
        },
        {
         "name": "transaction_date",
         "rawType": "datetime64[ns]",
         "type": "datetime"
        },
        {
         "name": "transaction_type",
         "rawType": "object",
         "type": "string"
        },
        {
         "name": "amount",
         "rawType": "float64",
         "type": "float"
        },
        {
         "name": "currency",
         "rawType": "object",
         "type": "string"
        },
        {
         "name": "description",
         "rawType": "object",
         "type": "string"
        },
        {
         "name": "category",
         "rawType": "object",
         "type": "string"
        },
        {
         "name": "channel",
         "rawType": "object",
         "type": "string"
        },
        {
         "name": "status",
         "rawType": "object",
         "type": "string"
        },
        {
         "name": "reference_number",
         "rawType": "object",
         "type": "string"
        },
        {
         "name": "merchant_name",
         "rawType": "object",
         "type": "unknown"
        },
        {
         "name": "merchant_category",
         "rawType": "object",
         "type": "unknown"
        },
        {
         "name": "account_from",
         "rawType": "object",
         "type": "string"
        },
        {
         "name": "account_to",
         "rawType": "object",
         "type": "unknown"
        },
        {
         "name": "balance_after",
         "rawType": "float64",
         "type": "float"
        },
        {
         "name": "location",
         "rawType": "object",
         "type": "string"
        },
        {
         "name": "created_at",
         "rawType": "datetime64[ns]",
         "type": "datetime"
        },
        {
         "name": "updated_at",
         "rawType": "datetime64[ns]",
         "type": "datetime"
        }
       ],
       "ref": "c899be6d-b89b-4ff6-bedd-d8210435225b",
       "rows": [
        [
         "0",
         "137676085",
         "72592271",
         "2025-06-08 11:29:15",
         "Refund",
         "8688.23",
         "ZAR",
         "Refund - Refund",
         "Refund",
         "Online Banking",
         "Pending",
         "REF6314Bk0120",
         null,
         null,
         "6768494328",
         null,
         "10943.45",
         "Gonzalezton, Bermuda",
         "2025-06-09 20:44:55",
         "2025-06-09 20:44:55"
        ],
        [
         "1",
         "323151607",
         "72696383",
         "2025-05-18 10:48:40",
         "Interest",
         "85.04",
         "ZAR",
         "Interest - Investment",
         "Investment",
         "Branch",
         "Pending",
         "REF4902Vo9993",
         null,
         null,
         "153279519",
         null,
         "16167.8",
         "East Danielside, Hong Kong",
         "2025-06-09 20:44:56",
         "2025-06-09 20:44:56"
        ],
        [
         "2",
         "425991815",
         "38285644",
         "2025-04-14 00:47:58",
         "Interest",
         "765.52",
         "ZAR",
         "Interest - Insurance",
         "Insurance",
         "ACH",
         "Failed",
         "REF4463MB2350",
         null,
         null,
         "5103145505",
         null,
         "3021.18",
         "Johnsonland, Turkmenistan",
         "2025-06-09 20:44:56",
         "2025-06-09 20:44:56"
        ],
        [
         "3",
         "485118858",
         "85824178",
         "2023-08-30 00:09:12",
         "Loan Payment",
         "-7760.13",
         "EUR",
         "Loan Payment - Shopping",
         "Shopping",
         "ATM",
         "Failed",
         "REF1586BH1647",
         null,
         null,
         "3476035664",
         null,
         "44766.26",
         "South Veronicabury, Saudi Arabia",
         "2025-06-09 20:44:56",
         "2025-06-09 20:44:56"
        ],
        [
         "4",
         "848137932",
         "53536452",
         "2023-09-06 01:26:15",
         "Loan Payment",
         "-4450.32",
         "ZAR",
         "Loan Payment - Gas",
         "Gas",
         "Branch",
         "Cancelled",
         "REF3560Qk4253",
         null,
         null,
         "6284806913",
         null,
         "14417.54",
         "Murphychester, Brazil",
         "2025-06-09 20:44:56",
         "2025-06-09 20:44:56"
        ]
       ],
       "shape": {
        "columns": 19,
        "rows": 5
       }
      },
      "text/html": [
       "<div>\n",
       "<style scoped>\n",
       "    .dataframe tbody tr th:only-of-type {\n",
       "        vertical-align: middle;\n",
       "    }\n",
       "\n",
       "    .dataframe tbody tr th {\n",
       "        vertical-align: top;\n",
       "    }\n",
       "\n",
       "    .dataframe thead th {\n",
       "        text-align: right;\n",
       "    }\n",
       "</style>\n",
       "<table border=\"1\" class=\"dataframe\">\n",
       "  <thead>\n",
       "    <tr style=\"text-align: right;\">\n",
       "      <th></th>\n",
       "      <th>transaction_id</th>\n",
       "      <th>customer_id</th>\n",
       "      <th>transaction_date</th>\n",
       "      <th>transaction_type</th>\n",
       "      <th>amount</th>\n",
       "      <th>currency</th>\n",
       "      <th>description</th>\n",
       "      <th>category</th>\n",
       "      <th>channel</th>\n",
       "      <th>status</th>\n",
       "      <th>reference_number</th>\n",
       "      <th>merchant_name</th>\n",
       "      <th>merchant_category</th>\n",
       "      <th>account_from</th>\n",
       "      <th>account_to</th>\n",
       "      <th>balance_after</th>\n",
       "      <th>location</th>\n",
       "      <th>created_at</th>\n",
       "      <th>updated_at</th>\n",
       "    </tr>\n",
       "  </thead>\n",
       "  <tbody>\n",
       "    <tr>\n",
       "      <th>0</th>\n",
       "      <td>137676085</td>\n",
       "      <td>72592271</td>\n",
       "      <td>2025-06-08 11:29:15</td>\n",
       "      <td>Refund</td>\n",
       "      <td>8688.23</td>\n",
       "      <td>ZAR</td>\n",
       "      <td>Refund - Refund</td>\n",
       "      <td>Refund</td>\n",
       "      <td>Online Banking</td>\n",
       "      <td>Pending</td>\n",
       "      <td>REF6314Bk0120</td>\n",
       "      <td>None</td>\n",
       "      <td>None</td>\n",
       "      <td>6768494328</td>\n",
       "      <td>None</td>\n",
       "      <td>10943.45</td>\n",
       "      <td>Gonzalezton, Bermuda</td>\n",
       "      <td>2025-06-09 20:44:55</td>\n",
       "      <td>2025-06-09 20:44:55</td>\n",
       "    </tr>\n",
       "    <tr>\n",
       "      <th>1</th>\n",
       "      <td>323151607</td>\n",
       "      <td>72696383</td>\n",
       "      <td>2025-05-18 10:48:40</td>\n",
       "      <td>Interest</td>\n",
       "      <td>85.04</td>\n",
       "      <td>ZAR</td>\n",
       "      <td>Interest - Investment</td>\n",
       "      <td>Investment</td>\n",
       "      <td>Branch</td>\n",
       "      <td>Pending</td>\n",
       "      <td>REF4902Vo9993</td>\n",
       "      <td>None</td>\n",
       "      <td>None</td>\n",
       "      <td>153279519</td>\n",
       "      <td>None</td>\n",
       "      <td>16167.80</td>\n",
       "      <td>East Danielside, Hong Kong</td>\n",
       "      <td>2025-06-09 20:44:56</td>\n",
       "      <td>2025-06-09 20:44:56</td>\n",
       "    </tr>\n",
       "    <tr>\n",
       "      <th>2</th>\n",
       "      <td>425991815</td>\n",
       "      <td>38285644</td>\n",
       "      <td>2025-04-14 00:47:58</td>\n",
       "      <td>Interest</td>\n",
       "      <td>765.52</td>\n",
       "      <td>ZAR</td>\n",
       "      <td>Interest - Insurance</td>\n",
       "      <td>Insurance</td>\n",
       "      <td>ACH</td>\n",
       "      <td>Failed</td>\n",
       "      <td>REF4463MB2350</td>\n",
       "      <td>None</td>\n",
       "      <td>None</td>\n",
       "      <td>5103145505</td>\n",
       "      <td>None</td>\n",
       "      <td>3021.18</td>\n",
       "      <td>Johnsonland, Turkmenistan</td>\n",
       "      <td>2025-06-09 20:44:56</td>\n",
       "      <td>2025-06-09 20:44:56</td>\n",
       "    </tr>\n",
       "    <tr>\n",
       "      <th>3</th>\n",
       "      <td>485118858</td>\n",
       "      <td>85824178</td>\n",
       "      <td>2023-08-30 00:09:12</td>\n",
       "      <td>Loan Payment</td>\n",
       "      <td>-7760.13</td>\n",
       "      <td>EUR</td>\n",
       "      <td>Loan Payment - Shopping</td>\n",
       "      <td>Shopping</td>\n",
       "      <td>ATM</td>\n",
       "      <td>Failed</td>\n",
       "      <td>REF1586BH1647</td>\n",
       "      <td>None</td>\n",
       "      <td>None</td>\n",
       "      <td>3476035664</td>\n",
       "      <td>None</td>\n",
       "      <td>44766.26</td>\n",
       "      <td>South Veronicabury, Saudi Arabia</td>\n",
       "      <td>2025-06-09 20:44:56</td>\n",
       "      <td>2025-06-09 20:44:56</td>\n",
       "    </tr>\n",
       "    <tr>\n",
       "      <th>4</th>\n",
       "      <td>848137932</td>\n",
       "      <td>53536452</td>\n",
       "      <td>2023-09-06 01:26:15</td>\n",
       "      <td>Loan Payment</td>\n",
       "      <td>-4450.32</td>\n",
       "      <td>ZAR</td>\n",
       "      <td>Loan Payment - Gas</td>\n",
       "      <td>Gas</td>\n",
       "      <td>Branch</td>\n",
       "      <td>Cancelled</td>\n",
       "      <td>REF3560Qk4253</td>\n",
       "      <td>None</td>\n",
       "      <td>None</td>\n",
       "      <td>6284806913</td>\n",
       "      <td>None</td>\n",
       "      <td>14417.54</td>\n",
       "      <td>Murphychester, Brazil</td>\n",
       "      <td>2025-06-09 20:44:56</td>\n",
       "      <td>2025-06-09 20:44:56</td>\n",
       "    </tr>\n",
       "  </tbody>\n",
       "</table>\n",
       "</div>"
      ],
      "text/plain": [
       "   transaction_id  customer_id    transaction_date transaction_type   amount  \\\n",
       "0       137676085     72592271 2025-06-08 11:29:15           Refund  8688.23   \n",
       "1       323151607     72696383 2025-05-18 10:48:40         Interest    85.04   \n",
       "2       425991815     38285644 2025-04-14 00:47:58         Interest   765.52   \n",
       "3       485118858     85824178 2023-08-30 00:09:12     Loan Payment -7760.13   \n",
       "4       848137932     53536452 2023-09-06 01:26:15     Loan Payment -4450.32   \n",
       "\n",
       "  currency              description    category         channel     status  \\\n",
       "0      ZAR          Refund - Refund      Refund  Online Banking    Pending   \n",
       "1      ZAR    Interest - Investment  Investment          Branch    Pending   \n",
       "2      ZAR     Interest - Insurance   Insurance             ACH     Failed   \n",
       "3      EUR  Loan Payment - Shopping    Shopping             ATM     Failed   \n",
       "4      ZAR       Loan Payment - Gas         Gas          Branch  Cancelled   \n",
       "\n",
       "  reference_number merchant_name merchant_category account_from account_to  \\\n",
       "0    REF6314Bk0120          None              None   6768494328       None   \n",
       "1    REF4902Vo9993          None              None    153279519       None   \n",
       "2    REF4463MB2350          None              None   5103145505       None   \n",
       "3    REF1586BH1647          None              None   3476035664       None   \n",
       "4    REF3560Qk4253          None              None   6284806913       None   \n",
       "\n",
       "   balance_after                          location          created_at  \\\n",
       "0       10943.45              Gonzalezton, Bermuda 2025-06-09 20:44:55   \n",
       "1       16167.80        East Danielside, Hong Kong 2025-06-09 20:44:56   \n",
       "2        3021.18         Johnsonland, Turkmenistan 2025-06-09 20:44:56   \n",
       "3       44766.26  South Veronicabury, Saudi Arabia 2025-06-09 20:44:56   \n",
       "4       14417.54             Murphychester, Brazil 2025-06-09 20:44:56   \n",
       "\n",
       "           updated_at  \n",
       "0 2025-06-09 20:44:55  \n",
       "1 2025-06-09 20:44:56  \n",
       "2 2025-06-09 20:44:56  \n",
       "3 2025-06-09 20:44:56  \n",
       "4 2025-06-09 20:44:56  "
      ]
     },
     "metadata": {},
     "output_type": "display_data"
    }
   ],
   "source": [
    "try:\n",
    "    query = \"\"\"\n",
    "    SELECT TOP 100 * \n",
    "    FROM [master].[dbo].[transaction_history] WITH (NOLOCK);\n",
    "    \"\"\"\n",
    "    df_pandas = pd.read_sql_query(query, conn)\n",
    "    display(df_pandas.head())\n",
    "except Exception as e:\n",
    "    print(f\"Error executing query: {e}\")"
   ]
  },
  {
   "cell_type": "code",
   "execution_count": 13,
   "id": "35b037a5",
   "metadata": {},
   "outputs": [
    {
     "data": {
      "application/vnd.microsoft.datawrangler.viewer.v0+json": {
       "columns": [
        {
         "name": "index",
         "rawType": "int64",
         "type": "integer"
        },
        {
         "name": "transaction_id",
         "rawType": "int64",
         "type": "integer"
        },
        {
         "name": "customer_id",
         "rawType": "int64",
         "type": "integer"
        },
        {
         "name": "transaction_date",
         "rawType": "datetime64[ns]",
         "type": "datetime"
        },
        {
         "name": "transaction_type",
         "rawType": "object",
         "type": "string"
        },
        {
         "name": "amount",
         "rawType": "object",
         "type": "unknown"
        },
        {
         "name": "currency",
         "rawType": "object",
         "type": "string"
        },
        {
         "name": "description",
         "rawType": "object",
         "type": "string"
        },
        {
         "name": "category",
         "rawType": "object",
         "type": "string"
        },
        {
         "name": "channel",
         "rawType": "object",
         "type": "string"
        },
        {
         "name": "status",
         "rawType": "object",
         "type": "string"
        },
        {
         "name": "reference_number",
         "rawType": "object",
         "type": "string"
        },
        {
         "name": "merchant_name",
         "rawType": "object",
         "type": "unknown"
        },
        {
         "name": "merchant_category",
         "rawType": "object",
         "type": "unknown"
        },
        {
         "name": "account_from",
         "rawType": "object",
         "type": "string"
        },
        {
         "name": "account_to",
         "rawType": "object",
         "type": "unknown"
        },
        {
         "name": "balance_after",
         "rawType": "object",
         "type": "unknown"
        },
        {
         "name": "location",
         "rawType": "object",
         "type": "string"
        },
        {
         "name": "created_at",
         "rawType": "datetime64[ns]",
         "type": "datetime"
        },
        {
         "name": "updated_at",
         "rawType": "datetime64[ns]",
         "type": "datetime"
        }
       ],
       "ref": "1f60e0d7-1283-4764-a971-97fe38f324d9",
       "rows": [
        [
         "0",
         "137676085",
         "72592271",
         "2025-06-08 11:29:15",
         "Refund",
         "8688.23",
         "ZAR",
         "Refund - Refund",
         "Refund",
         "Online Banking",
         "Pending",
         "REF6314Bk0120",
         null,
         null,
         "6768494328",
         null,
         "10943.45",
         "Gonzalezton, Bermuda",
         "2025-06-09 20:44:55",
         "2025-06-09 20:44:55"
        ],
        [
         "1",
         "323151607",
         "72696383",
         "2025-05-18 10:48:40",
         "Interest",
         "85.04",
         "ZAR",
         "Interest - Investment",
         "Investment",
         "Branch",
         "Pending",
         "REF4902Vo9993",
         null,
         null,
         "153279519",
         null,
         "16167.80",
         "East Danielside, Hong Kong",
         "2025-06-09 20:44:56",
         "2025-06-09 20:44:56"
        ],
        [
         "2",
         "425991815",
         "38285644",
         "2025-04-14 00:47:58",
         "Interest",
         "765.52",
         "ZAR",
         "Interest - Insurance",
         "Insurance",
         "ACH",
         "Failed",
         "REF4463MB2350",
         null,
         null,
         "5103145505",
         null,
         "3021.18",
         "Johnsonland, Turkmenistan",
         "2025-06-09 20:44:56",
         "2025-06-09 20:44:56"
        ],
        [
         "3",
         "485118858",
         "85824178",
         "2023-08-30 00:09:12",
         "Loan Payment",
         "-7760.13",
         "EUR",
         "Loan Payment - Shopping",
         "Shopping",
         "ATM",
         "Failed",
         "REF1586BH1647",
         null,
         null,
         "3476035664",
         null,
         "44766.26",
         "South Veronicabury, Saudi Arabia",
         "2025-06-09 20:44:56",
         "2025-06-09 20:44:56"
        ],
        [
         "4",
         "848137932",
         "53536452",
         "2023-09-06 01:26:15",
         "Loan Payment",
         "-4450.32",
         "ZAR",
         "Loan Payment - Gas",
         "Gas",
         "Branch",
         "Cancelled",
         "REF3560Qk4253",
         null,
         null,
         "6284806913",
         null,
         "14417.54",
         "Murphychester, Brazil",
         "2025-06-09 20:44:56",
         "2025-06-09 20:44:56"
        ]
       ],
       "shape": {
        "columns": 19,
        "rows": 5
       }
      },
      "text/html": [
       "<div>\n",
       "<style scoped>\n",
       "    .dataframe tbody tr th:only-of-type {\n",
       "        vertical-align: middle;\n",
       "    }\n",
       "\n",
       "    .dataframe tbody tr th {\n",
       "        vertical-align: top;\n",
       "    }\n",
       "\n",
       "    .dataframe thead th {\n",
       "        text-align: right;\n",
       "    }\n",
       "</style>\n",
       "<table border=\"1\" class=\"dataframe\">\n",
       "  <thead>\n",
       "    <tr style=\"text-align: right;\">\n",
       "      <th></th>\n",
       "      <th>transaction_id</th>\n",
       "      <th>customer_id</th>\n",
       "      <th>transaction_date</th>\n",
       "      <th>transaction_type</th>\n",
       "      <th>amount</th>\n",
       "      <th>currency</th>\n",
       "      <th>description</th>\n",
       "      <th>category</th>\n",
       "      <th>channel</th>\n",
       "      <th>status</th>\n",
       "      <th>reference_number</th>\n",
       "      <th>merchant_name</th>\n",
       "      <th>merchant_category</th>\n",
       "      <th>account_from</th>\n",
       "      <th>account_to</th>\n",
       "      <th>balance_after</th>\n",
       "      <th>location</th>\n",
       "      <th>created_at</th>\n",
       "      <th>updated_at</th>\n",
       "    </tr>\n",
       "  </thead>\n",
       "  <tbody>\n",
       "    <tr>\n",
       "      <th>0</th>\n",
       "      <td>137676085</td>\n",
       "      <td>72592271</td>\n",
       "      <td>2025-06-08 11:29:15</td>\n",
       "      <td>Refund</td>\n",
       "      <td>8688.23</td>\n",
       "      <td>ZAR</td>\n",
       "      <td>Refund - Refund</td>\n",
       "      <td>Refund</td>\n",
       "      <td>Online Banking</td>\n",
       "      <td>Pending</td>\n",
       "      <td>REF6314Bk0120</td>\n",
       "      <td>None</td>\n",
       "      <td>None</td>\n",
       "      <td>6768494328</td>\n",
       "      <td>None</td>\n",
       "      <td>10943.45</td>\n",
       "      <td>Gonzalezton, Bermuda</td>\n",
       "      <td>2025-06-09 20:44:55</td>\n",
       "      <td>2025-06-09 20:44:55</td>\n",
       "    </tr>\n",
       "    <tr>\n",
       "      <th>1</th>\n",
       "      <td>323151607</td>\n",
       "      <td>72696383</td>\n",
       "      <td>2025-05-18 10:48:40</td>\n",
       "      <td>Interest</td>\n",
       "      <td>85.04</td>\n",
       "      <td>ZAR</td>\n",
       "      <td>Interest - Investment</td>\n",
       "      <td>Investment</td>\n",
       "      <td>Branch</td>\n",
       "      <td>Pending</td>\n",
       "      <td>REF4902Vo9993</td>\n",
       "      <td>None</td>\n",
       "      <td>None</td>\n",
       "      <td>153279519</td>\n",
       "      <td>None</td>\n",
       "      <td>16167.80</td>\n",
       "      <td>East Danielside, Hong Kong</td>\n",
       "      <td>2025-06-09 20:44:56</td>\n",
       "      <td>2025-06-09 20:44:56</td>\n",
       "    </tr>\n",
       "    <tr>\n",
       "      <th>2</th>\n",
       "      <td>425991815</td>\n",
       "      <td>38285644</td>\n",
       "      <td>2025-04-14 00:47:58</td>\n",
       "      <td>Interest</td>\n",
       "      <td>765.52</td>\n",
       "      <td>ZAR</td>\n",
       "      <td>Interest - Insurance</td>\n",
       "      <td>Insurance</td>\n",
       "      <td>ACH</td>\n",
       "      <td>Failed</td>\n",
       "      <td>REF4463MB2350</td>\n",
       "      <td>None</td>\n",
       "      <td>None</td>\n",
       "      <td>5103145505</td>\n",
       "      <td>None</td>\n",
       "      <td>3021.18</td>\n",
       "      <td>Johnsonland, Turkmenistan</td>\n",
       "      <td>2025-06-09 20:44:56</td>\n",
       "      <td>2025-06-09 20:44:56</td>\n",
       "    </tr>\n",
       "    <tr>\n",
       "      <th>3</th>\n",
       "      <td>485118858</td>\n",
       "      <td>85824178</td>\n",
       "      <td>2023-08-30 00:09:12</td>\n",
       "      <td>Loan Payment</td>\n",
       "      <td>-7760.13</td>\n",
       "      <td>EUR</td>\n",
       "      <td>Loan Payment - Shopping</td>\n",
       "      <td>Shopping</td>\n",
       "      <td>ATM</td>\n",
       "      <td>Failed</td>\n",
       "      <td>REF1586BH1647</td>\n",
       "      <td>None</td>\n",
       "      <td>None</td>\n",
       "      <td>3476035664</td>\n",
       "      <td>None</td>\n",
       "      <td>44766.26</td>\n",
       "      <td>South Veronicabury, Saudi Arabia</td>\n",
       "      <td>2025-06-09 20:44:56</td>\n",
       "      <td>2025-06-09 20:44:56</td>\n",
       "    </tr>\n",
       "    <tr>\n",
       "      <th>4</th>\n",
       "      <td>848137932</td>\n",
       "      <td>53536452</td>\n",
       "      <td>2023-09-06 01:26:15</td>\n",
       "      <td>Loan Payment</td>\n",
       "      <td>-4450.32</td>\n",
       "      <td>ZAR</td>\n",
       "      <td>Loan Payment - Gas</td>\n",
       "      <td>Gas</td>\n",
       "      <td>Branch</td>\n",
       "      <td>Cancelled</td>\n",
       "      <td>REF3560Qk4253</td>\n",
       "      <td>None</td>\n",
       "      <td>None</td>\n",
       "      <td>6284806913</td>\n",
       "      <td>None</td>\n",
       "      <td>14417.54</td>\n",
       "      <td>Murphychester, Brazil</td>\n",
       "      <td>2025-06-09 20:44:56</td>\n",
       "      <td>2025-06-09 20:44:56</td>\n",
       "    </tr>\n",
       "  </tbody>\n",
       "</table>\n",
       "</div>"
      ],
      "text/plain": [
       "   transaction_id  customer_id    transaction_date transaction_type    amount  \\\n",
       "0       137676085     72592271 2025-06-08 11:29:15           Refund   8688.23   \n",
       "1       323151607     72696383 2025-05-18 10:48:40         Interest     85.04   \n",
       "2       425991815     38285644 2025-04-14 00:47:58         Interest    765.52   \n",
       "3       485118858     85824178 2023-08-30 00:09:12     Loan Payment  -7760.13   \n",
       "4       848137932     53536452 2023-09-06 01:26:15     Loan Payment  -4450.32   \n",
       "\n",
       "  currency              description    category         channel     status  \\\n",
       "0      ZAR          Refund - Refund      Refund  Online Banking    Pending   \n",
       "1      ZAR    Interest - Investment  Investment          Branch    Pending   \n",
       "2      ZAR     Interest - Insurance   Insurance             ACH     Failed   \n",
       "3      EUR  Loan Payment - Shopping    Shopping             ATM     Failed   \n",
       "4      ZAR       Loan Payment - Gas         Gas          Branch  Cancelled   \n",
       "\n",
       "  reference_number merchant_name merchant_category account_from account_to  \\\n",
       "0    REF6314Bk0120          None              None   6768494328       None   \n",
       "1    REF4902Vo9993          None              None    153279519       None   \n",
       "2    REF4463MB2350          None              None   5103145505       None   \n",
       "3    REF1586BH1647          None              None   3476035664       None   \n",
       "4    REF3560Qk4253          None              None   6284806913       None   \n",
       "\n",
       "  balance_after                          location          created_at  \\\n",
       "0      10943.45              Gonzalezton, Bermuda 2025-06-09 20:44:55   \n",
       "1      16167.80        East Danielside, Hong Kong 2025-06-09 20:44:56   \n",
       "2       3021.18         Johnsonland, Turkmenistan 2025-06-09 20:44:56   \n",
       "3      44766.26  South Veronicabury, Saudi Arabia 2025-06-09 20:44:56   \n",
       "4      14417.54             Murphychester, Brazil 2025-06-09 20:44:56   \n",
       "\n",
       "           updated_at  \n",
       "0 2025-06-09 20:44:55  \n",
       "1 2025-06-09 20:44:56  \n",
       "2 2025-06-09 20:44:56  \n",
       "3 2025-06-09 20:44:56  \n",
       "4 2025-06-09 20:44:56  "
      ]
     },
     "metadata": {},
     "output_type": "display_data"
    }
   ],
   "source": [
    "try:# Option 2: Using cursor directly\n",
    "    cursor.execute(query)\n",
    "    rows = cursor.fetchall()\n",
    "    columns = [column[0] for column in cursor.description]\n",
    "\n",
    "    # Create DataFrame from cursor results\n",
    "    df_cursor = pd.DataFrame.from_records(rows, columns=columns)\n",
    "    # Display the DataFrame\n",
    "    display(df_cursor.head())\n",
    "except Exception as e:\n",
    "    print(f\"Error executing query with cursor: {e}\")"
   ]
  },
  {
   "cell_type": "markdown",
   "id": "ebfd0a51",
   "metadata": {},
   "source": [
    "## Multiple SQL Queries Execution"
   ]
  },
  {
   "cell_type": "code",
   "execution_count": null,
   "id": "55d42818",
   "metadata": {},
   "outputs": [
    {
     "name": "stdout",
     "output_type": "stream",
     "text": [
      "No .env file found. Will use provided parameters or defaults.\n",
      "Available SQL Server drivers: ODBC Driver 17 for SQL Server, SQL Server, SQL Server Native Client RDA 11.0\n",
      "Attempting connection: windows auth using ODBC Driver 17 for SQL Server\n",
      "Server: localhost\\SQLEXPRESS, Database: master\n",
      "✓ Successfully connected to SQL Server\n",
      "  Server: localhost\\SQLEXPRESS\n",
      "  Database: master\n",
      "  Authentication: windows\n",
      "  Driver: ODBC Driver 17 for SQL Server\n",
      "============================================================\n",
      "Running Query #1 ______________________\n",
      "Executing query: -- 1. Quarterly highest and lowest transaction amount\n",
      "WITH QuarterlySummary AS (\n",
      "    SELECT \n",
      "        'Q' + CAST(DATEPART(QUARTER, transaction_date) AS VARCHAR) + ' ' + \n",
      "        CAST(DATEPART(YEAR, transaction_date) AS VARCHAR) AS quarter_year,\n",
      "        SUM(amount) AS total_amount\n",
      "    FROM [master].[dbo].[transaction_history] WITH (NOLOCK)\n",
      "    WHERE status = 'Completed'\n",
      "    GROUP BY DATEPART(YEAR, t...\n",
      "\n",
      "\n",
      "Query executed successfully - returned 2 rows with 3 columns\n",
      "Status: success\n",
      "Query: -- 1. Quarterly highest and lowest transaction amount\n",
      "WITH QuarterlySummary AS (\n",
      "    SELECT \n",
      "       ...\n",
      "Rows returned: 2\n",
      "Result: [{\"quarter_year\":\"Q4 2024\",\"total_amount\":1608701.77,\"amount_category\":\"Highest Amount\"},{\"quarter_year\":\"Q2 2023\",\"total_amount\":91590.26,\"amount_category\":\"Lowest Amount\"}]...\n",
      "--------------------------------------------------\n"
     ]
    }
   ],
   "source": [
    "# Example usage:\n",
    "sql_code_example = \"\"\"\n",
    "```sql\n",
    "SELECT top 1000 * \n",
    "FROM [master].[dbo].[transaction_history] WITH (NOLOCK);\n",
    "```\n",
    "```sql\n",
    "SELECT distinct transaction_id \n",
    "FROM [master].[dbo].[transaction_history] WITH (NOLOCK);\n",
    "```\n",
    "\n",
    "\"\"\"\n",
    "\n",
    "# Execute the example (uncomment to test)\n",
    "results = execute_sql_with_pyodbc(sql_code_example, auth_type='windows')\n",
    "for res in results:\n",
    "    print(f\"Status: {res['status']}\")\n",
    "    print(f\"Query: {res['query'][:100]}...\")\n",
    "    if res['status'] == 'success':\n",
    "        print(f\"Rows returned: {res['row_count']}\")\n",
    "    print(f\"Result: {res['result'][:200]}...\")\n",
    "    print(\"-\" * 50)"
   ]
  },
  {
   "cell_type": "code",
   "execution_count": 27,
   "id": "bd9896df",
   "metadata": {},
   "outputs": [
    {
     "data": {
      "text/plain": [
       "[{'query': \"-- 1. Quarterly highest and lowest transaction amount\\nWITH QuarterlySummary AS (\\n    SELECT \\n        'Q' + CAST(DATEPART(QUARTER, transaction_date) AS VARCHAR) + ' ' + \\n        CAST(DATEPART(YEAR, transaction_date) AS VARCHAR) AS quarter_year,\\n        SUM(amount) AS total_amount\\n    FROM [master].[dbo].[transaction_history] WITH (NOLOCK)\\n    WHERE status = 'Completed'\\n    GROUP BY DATEPART(YEAR, transaction_date), DATEPART(QUARTER, transaction_date)\\n),\\nRankedQuarters AS (\\n    SELECT \\n        quarter_year,\\n        total_amount,\\n        RANK() OVER (ORDER BY total_amount DESC) AS highest_rank,\\n        RANK() OVER (ORDER BY total_amount ASC) AS lowest_rank\\n    FROM QuarterlySummary\\n)\\nSELECT \\n    quarter_year,\\n    total_amount,\\n    CASE \\n        WHEN highest_rank = 1 THEN 'Highest Amount'\\n        WHEN lowest_rank = 1 THEN 'Lowest Amount'\\n    END AS amount_category\\nFROM RankedQuarters\\nWHERE highest_rank = 1 OR lowest_rank = 1\\nORDER BY total_amount DESC;\\n\\n-- 2. Customer with lowest and highest account balance\\nWITH CustomerRanking AS (\\n    SELECT \\n        full_name,\\n        balance,\\n        RANK() OVER (ORDER BY balance DESC) AS highest_rank,\\n        RANK() OVER (ORDER BY balance ASC) AS lowest_rank\\n    FROM [master].[dbo].[customer_information] WITH (NOLOCK)\\n)\\nSELECT \\n    full_name,\\n    balance,\\n    CASE \\n        WHEN highest_rank = 1 THEN 'Highest Balance'\\n        WHEN lowest_rank = 1 THEN 'Lowest Balance'\\n    END as balance_category\\nFROM CustomerRanking\\nWHERE highest_rank = 1 OR lowest_rank = 1\\nORDER BY balance DESC;\\n\\n-- 3. Transaction channel with the highest transaction volume\\nWITH ChannelVolume AS (\\n    SELECT\\n        channel,\\n        COUNT(*) AS transaction_count\\n    FROM [master].[dbo].[transaction_history] WITH (NOLOCK)\\n    WHERE status = 'Completed'\\n    GROUP BY channel\\n)\\nSELECT TOP 1\\n    channel,\\n    transaction_count\\nFROM ChannelVolume\\nORDER BY transaction_count DESC;\",\n",
       "  'status': 'success',\n",
       "  'row_count': 2,\n",
       "  'column_count': 3,\n",
       "  'columns': ['quarter_year', 'total_amount', 'amount_category'],\n",
       "  'result': '[{\"quarter_year\":\"Q4 2024\",\"total_amount\":1608701.77,\"amount_category\":\"Highest Amount\"},{\"quarter_year\":\"Q2 2023\",\"total_amount\":91590.26,\"amount_category\":\"Lowest Amount\"}]'}]"
      ]
     },
     "execution_count": 27,
     "metadata": {},
     "output_type": "execute_result"
    }
   ],
   "source": [
    "results"
   ]
  },
  {
   "cell_type": "code",
   "execution_count": 13,
   "id": "05c5f7a0",
   "metadata": {},
   "outputs": [],
   "source": [
    "def display_sql_results(results, max_query_preview=200, max_result_preview=100):\n",
    "    \"\"\"\n",
    "    Display SQL query results in a formatted way.\n",
    "    \n",
    "    Parameters:\n",
    "    - results: List of result dictionaries from execute_sql_with_pyodbc\n",
    "    - max_query_preview: Maximum number of characters to show in query preview\n",
    "    - max_result_preview: Maximum number of characters to show in result preview\n",
    "    \n",
    "    Returns:\n",
    "    - None (prints results to console)\n",
    "    \"\"\"\n",
    "    if not results:\n",
    "        print(\"No results to display.\")\n",
    "        return\n",
    "        \n",
    "    for idx, res in enumerate(results, 1):\n",
    "        # Create a separator with query number\n",
    "        print(f\"\\n{'=' * 20} QUERY #{idx} {'=' * 20}\")\n",
    "        \n",
    "        # Status with color indicators (using ANSI escape codes)\n",
    "        status = res['status']\n",
    "        status_color = {\n",
    "            'success': '\\033[92m',      # Green\n",
    "            'validation_error': '\\033[93m',  # Yellow\n",
    "            'execution_error': '\\033[91m',   # Red\n",
    "            'connection_error': '\\033[91m',  # Red\n",
    "            'json_error': '\\033[93m',        # Yellow\n",
    "            'format_error': '\\033[93m',      # Yellow\n",
    "            'configuration_error': '\\033[91m' # Red\n",
    "        }.get(status, '')\n",
    "        end_color = '\\033[0m'  # Reset color\n",
    "        \n",
    "        print(f\"Status: {status_color}{status}{end_color}\")\n",
    "        \n",
    "        # Query preview with ellipsis if truncated\n",
    "        query = res.get('query', '')\n",
    "        query_preview = query[:max_query_preview]\n",
    "        if len(query) > max_query_preview:\n",
    "            query_preview += \"...\"\n",
    "        print(f\"Query: {query_preview}\")\n",
    "        \n",
    "        # For successful queries, show row and column info\n",
    "        if status == 'success':\n",
    "            print(f\"Rows: {res.get('row_count', 'N/A')} | Columns: {res.get('column_count', 'N/A')}\")\n",
    "            if 'columns' in res:\n",
    "                print(f\"Column names: {', '.join(res['columns'])}\")\n",
    "        \n",
    "        # Result preview with ellipsis if truncated\n",
    "        result = res.get('result', '')\n",
    "        result_preview = result[:max_result_preview]\n",
    "        if len(result) > max_result_preview:\n",
    "            result_preview += \"...\"\n",
    "        print(f\"Result: {result_preview}\")\n",
    "        \n",
    "        # End of result separator\n",
    "        print(\"-\" * 50)"
   ]
  },
  {
   "cell_type": "code",
   "execution_count": 14,
   "id": "5eae0c05",
   "metadata": {},
   "outputs": [
    {
     "name": "stdout",
     "output_type": "stream",
     "text": [
      "\n",
      "==================== QUERY #1 ====================\n",
      "Status: \u001b[92msuccess\u001b[0m\n",
      "Query: SELECT top 1000 * \n",
      "FROM [master].[dbo].[transaction_history] WITH (NOLOCK);\n",
      "Rows: 1000 | Columns: 19\n",
      "Column names: transaction_id, customer_id, transaction_date, transaction_type, amount, currency, description, category, channel, status, reference_number, merchant_name, merchant_category, account_from, account_to, balance_after, location, created_at, updated_at\n",
      "Result: [{\"transaction_id\":137676085,\"customer_id\":72592271,\"transaction_date\":\"2025-06-08T11:29:15.000\",\"tr...\n",
      "--------------------------------------------------\n",
      "\n",
      "==================== QUERY #2 ====================\n",
      "Status: \u001b[92msuccess\u001b[0m\n",
      "Query: SELECT distinct transaction_id \n",
      "FROM [master].[dbo].[transaction_history] WITH (NOLOCK);\n",
      "Rows: 7000 | Columns: 1\n",
      "Column names: transaction_id\n",
      "Result: [{\"transaction_id\":137676085},{\"transaction_id\":323151607},{\"transaction_id\":425991815},{\"transactio...\n",
      "--------------------------------------------------\n"
     ]
    }
   ],
   "source": [
    "display_sql_results(results)"
   ]
  },
  {
   "cell_type": "markdown",
   "id": "82081a68",
   "metadata": {},
   "source": [
    "# Agents"
   ]
  },
  {
   "cell_type": "code",
   "execution_count": 6,
   "id": "d6ccdabf",
   "metadata": {},
   "outputs": [
    {
     "data": {
      "text/plain": [
       "True"
      ]
     },
     "execution_count": 6,
     "metadata": {},
     "output_type": "execute_result"
    }
   ],
   "source": [
    "from pathlib import Path\n",
    "\n",
    "import os\n",
    "import re\n",
    "import sys\n",
    "from openai import AzureOpenAI\n",
    "import pandas as pd\n",
    "import numpy as np\n",
    "import json\n",
    "from dotenv import load_dotenv, find_dotenv\n",
    "import warnings \n",
    "warnings.filterwarnings(\"ignore\")\n",
    "load_dotenv(find_dotenv())\n",
    "\n",
    "# Add the src directory to the Python path\n",
    "# src_dir = str(Path(__file__).parent.parent)\n",
    "# sys.path.append(src_dir)\n",
    "# Add the parent directory to sys.path to allow imports from rag-compliance"
   ]
  },
  {
   "cell_type": "code",
   "execution_count": 7,
   "id": "b44ccfcd",
   "metadata": {},
   "outputs": [
    {
     "name": "stdout",
     "output_type": "stream",
     "text": [
      "Successfully imported modules from rag-compliance directory\n"
     ]
    }
   ],
   "source": [
    "\n",
    "parent_dir = os.path.abspath(os.path.join(os.getcwd(), '..'))\n",
    "if parent_dir not in sys.path:\n",
    "    sys.path.append(parent_dir)\n",
    "\n",
    "# Now import the modules from rag-compliance\n",
    "try:\n",
    "    # Import prompts\n",
    "    from prompts.prompt_agent_router import prompt_agent_router\n",
    "    from prompts.prompt_agent_sql_analysis import prompt_agent_sql_analysis\n",
    "    from agents.agents import routing_agent,  agent_sql_analysis, agent_final_response\n",
    "    \n",
    "\n",
    "    from tools.tools import tools_definitions\n",
    "    \n",
    "    # Import agents (if any)\n",
    "    # from rag_compliance.agents.your_agent_module import your_agent_function\n",
    "    \n",
    "    print(\"Successfully imported modules from rag-compliance directory\")\n",
    "except ImportError as e:\n",
    "    print(f\"Error importing modules: {e}\")\n",
    "    print(\"Make sure the directory structure is correct and modules exist\")\n",
    "    \n",
    "    # Debugging information\n",
    "    print(\"\\nDebugging information:\")\n",
    "    print(f\"Current working directory: {os.getcwd()}\")\n",
    "    print(f\"Parent directory added to path: {parent_dir}\")\n",
    "    print(f\"Full sys.path: {sys.path}\")\n",
    "    \n",
    "    # List files in the expected directories to help with debugging\n",
    "    rag_compliance_dir = os.path.join(parent_dir, 'rag_compliance')\n",
    "    if os.path.exists(rag_compliance_dir):\n",
    "        print(f\"\\nContents of {rag_compliance_dir}:\")\n",
    "        print(os.listdir(rag_compliance_dir))\n",
    "        \n",
    "        prompts_dir = os.path.join(rag_compliance_dir, 'prompts')\n",
    "        if os.path.exists(prompts_dir):\n",
    "            print(f\"\\nContents of {prompts_dir}:\")\n",
    "            print(os.listdir(prompts_dir))"
   ]
  },
  {
   "cell_type": "markdown",
   "id": "735ea76e",
   "metadata": {},
   "source": [
    "## Tools"
   ]
  },
  {
   "cell_type": "code",
   "execution_count": 15,
   "id": "4e85f3ab",
   "metadata": {},
   "outputs": [
    {
     "data": {
      "text/plain": [
       "[{'type': 'function',\n",
       "  'function': {'name': 'agent_sql_analysis',\n",
       "   'description': \"multi-intent sql analysis. Generates executable Microsoft SQL Server (MSSQL) queries based on user requests for database operations. The 'user_requests' parameter can be any data type (string, list, dictionary, tuple, JSON object, etc.), including natural language, structured instructions, or outputs from other agents. The function can handle complex queries involving multiple tables, aggregations, and conditions.The function should interpret the intent or intents and generate an appropriate SQL query.\",\n",
       "   'parameters': {'type': 'object',\n",
       "    'properties': {'user_requests': {'type': 'string',\n",
       "      'description': \"The user's request/s, which can be any data type (string, list, dictionary, tuple, JSON object, etc.), including natural language, structured input, or the output from the router agent about what database operation to perform.user request can be multiple intents or single intents.Multi-intent Example: 1. Which customer has the lowest and highest account balance? 2. which quarter has the highest amount and the lowest amount?\"},\n",
       "     'identifier': {'type': 'string',\n",
       "      'description': 'Optional: The customer ID or account number if specified in the request'}},\n",
       "    'required': ['user_requests']}}}]"
      ]
     },
     "execution_count": 15,
     "metadata": {},
     "output_type": "execute_result"
    }
   ],
   "source": [
    "tools_definitions()"
   ]
  },
  {
   "cell_type": "code",
   "execution_count": 16,
   "id": "4dc2da13",
   "metadata": {},
   "outputs": [],
   "source": [
    "# def agent_sql_analysis(user_request=None, identifier=None):\n",
    "#     pass\n",
    "\n",
    "def agent_product_offerings(user_request=None, identifier=None):\n",
    "    pass\n",
    "\n",
    "def agent_file_validation(file_path=None, validation_type=\"standard\"):\n",
    "    pass\n",
    "\n",
    "def agent_compare_files(baseline_data=None, comparison_data=None, comparison_type=\"standard\"):\n",
    "    pass\n",
    "def agent_others(baseline_data=None, comparison_data=None, comparison_type=\"standard\"):\n",
    "    pass"
   ]
  },
  {
   "cell_type": "markdown",
   "id": "cdc7aa6e",
   "metadata": {},
   "source": [
    "## Router Agent"
   ]
  },
  {
   "cell_type": "code",
   "execution_count": 8,
   "id": "677a068d",
   "metadata": {},
   "outputs": [],
   "source": [
    "# Get the Keys\n",
    "API_KEY = os.environ.get(\"AZURE_OPENAI_KEY\") \n",
    "API_ENDPOINT = os.environ.get(\"AZURE_OPENAI_ENDPOINT\")\n",
    "AZURE_DEPLOYMENT = os.environ.get(\"AZURE_OPENAI_DEPLOYMENT_NAME\")\n",
    "API_VERSION = os.environ.get(\"AZURE_OPENAI_VERSION\")\n",
    "MODEL = os.environ.get(\"AZURE_OPENAI_DEPLOYMENT_NAME\")"
   ]
  },
  {
   "cell_type": "markdown",
   "id": "2547f784",
   "metadata": {},
   "source": [
    "### For Windows"
   ]
  },
  {
   "cell_type": "code",
   "execution_count": 9,
   "id": "f67f2e1e",
   "metadata": {},
   "outputs": [],
   "source": [
    "# Create httpx client with SSL verification disabled\n",
    "http_client = httpx.Client(verify=False)\n",
    "\n",
    "# Create client with custom http_client\n",
    "client = AzureOpenAI(\n",
    "    api_key=API_KEY,\n",
    "    azure_endpoint=API_ENDPOINT,\n",
    "    api_version=API_VERSION,\n",
    "    http_client=http_client\n",
    ")"
   ]
  },
  {
   "cell_type": "code",
   "execution_count": null,
   "id": "44bc940e",
   "metadata": {},
   "outputs": [],
   "source": [
    "# Create client\n",
    "# client = AzureOpenAI(\n",
    "#   default_headers={\"Ocp-Apim-Subscription-Key\": API_KEY},\n",
    "#   api_key=API_KEY,\n",
    "#   azure_endpoint=API_ENDPOINT,\n",
    "#   azure_deployment= AZURE_DEPLOYMENT,\n",
    "#   api_version=API_VERSION, \n",
    "# )\n"
   ]
  },
  {
   "cell_type": "code",
   "execution_count": 19,
   "id": "fbad468f",
   "metadata": {},
   "outputs": [
    {
     "name": "stdout",
     "output_type": "stream",
     "text": [
      "Great question! Let’s break it down:\n",
      "\n",
      "**An “AI agent” is, simply, any system that:**\n",
      "1. **Operates autonomously** (acts on its own, without needing constant human guidance),\n",
      "2. **Perceives its environment** (gathers information, e.g., via sensors or data input),\n",
      "3. **Makes decisions** (uses reasoning or learned patterns to choose what to do),\n",
      "4. **Acts** (takes actions to achieve goals),\n",
      "5. **Often adapts over time** (learns from experience to improve).\n",
      "\n",
      "### Core Characteristics\n",
      "\n",
      "#### 1. **Autonomy**\n",
      "   - An AI agent can operate by itself to some extent, making decisions and acting on them.\n",
      "\n",
      "#### 2. **Perception**\n",
      "   - The agent senses its environment (literal sensors, user inputs, web data, etc.).\n",
      "\n",
      "#### 3. **Goal-directed behavior**\n",
      "   - It acts to reach a goal (e.g., answering questions, playing a game, navigating a room).\n",
      "\n",
      "#### 4. **Decision-making / Reasoning**\n",
      "   - Uses algorithms (logic, machine learning, etc.) to decide what action to take next.\n",
      "\n",
      "#### 5. **(Optional) Learning**\n",
      "   - Many AI agents improve with experience, but not all.\n",
      "\n",
      "---\n",
      "\n",
      "### **Examples:**\n",
      "- **Roomba** (robot vacuum): Senses obstacles, decides where to move, cleans, returns to base.\n",
      "- **ChatGPT**: Reads your prompt (perception), decides how to respond (reasoning), generates text (action), sometimes adapts with user feedback (learning).\n",
      "- **Self-driving car**: Uses cameras and sensors (perception), plans route and maneuvers (decision-making), steers/brakes (action), gets better with more data (learning).\n",
      "\n",
      "---\n",
      "\n",
      "### **Summary:**  \n",
      "**AI agents** are *systems that sense, make decisions, and act* autonomously in their environment, usually with some goal in mind.\n",
      "\n",
      "If you want to get formal:  \n",
      "> \"**An AI agent is any entity that perceives its environment via sensors and acts upon it using actuators, to achieve designated objectives.**\"\n",
      "\n",
      "Let me know if you'd like concrete examples, code, or a deeper dive!None\n"
     ]
    }
   ],
   "source": [
    "\n",
    "def generate_response(user_query):\n",
    "    completions = client.chat.completions.create(\n",
    "        model=MODEL,\n",
    "        stream=True,\n",
    "        \n",
    "        messages=[\n",
    "            {\"role\": \"user\", \"content\": user_query}\n",
    "        ],\n",
    "        # tools=tools_definitions(),\n",
    "        # tool_choice=\"auto\"\n",
    "    )\n",
    "\n",
    "    for chunk in completions:\n",
    "        try:\n",
    "            # print(chunk.choices[0].delta.content or \"\", end=\"\")\n",
    "            print(chunk.choices[0].delta.content or \"\", end=\"\")\n",
    "        except Exception:\n",
    "            pass\n",
    "\n",
    "print(generate_response(\"What makes AI agents AI agents?\"))"
   ]
  },
  {
   "cell_type": "code",
   "execution_count": 21,
   "id": "7755bbf3",
   "metadata": {},
   "outputs": [],
   "source": [
    "def agent_router(user_query):\n",
    "    completions = client.chat.completions.create(\n",
    "        model=MODEL,\n",
    "        # stream=True,\n",
    "        messages=[\n",
    "            {\"role\": \"system\", \"content\": prompt_agent_router()},\n",
    "            {\"role\": \"user\", \"content\": user_query}\n",
    "        ],\n",
    "        tools=tools_definitions(),\n",
    "        tool_choice=\"auto\"\n",
    "    )\n",
    "    return completions\n"
   ]
  },
  {
   "cell_type": "code",
   "execution_count": 22,
   "id": "603b4aec",
   "metadata": {},
   "outputs": [],
   "source": [
    "# No tool call\n",
    "response = agent_router(\"what is an ai agent?\")"
   ]
  },
  {
   "cell_type": "code",
   "execution_count": 24,
   "id": "1a39cd47",
   "metadata": {},
   "outputs": [],
   "source": [
    "response = routing_agent(\"what is an ai agent?\", chat_history=[])"
   ]
  },
  {
   "cell_type": "code",
   "execution_count": 25,
   "id": "6ee7bfd1",
   "metadata": {},
   "outputs": [
    {
     "data": {
      "text/plain": [
       "ChatCompletion(id='chatcmpl-Bj1DAsf7FAi8fx7k3S8BJj4jFF6SX', choices=[Choice(finish_reason='stop', index=0, logprobs=None, message=ChatCompletionMessage(content='An AI agent is a system or software program that can perceive its environment, make decisions, and take actions to achieve specific goals using artificial intelligence techniques. It can process information, learn from data, and act autonomously or semi-autonomously to complete tasks. AI agents are used in various applications, such as virtual assistants, recommendation systems, autonomous vehicles, and customer support bots. They often combine techniques like machine learning, natural language processing, and rule-based reasoning to solve problems and interact with users or other systems.', refusal=None, role='assistant', annotations=[], audio=None, function_call=None, tool_calls=None), content_filter_results={'hate': {'filtered': False, 'severity': 'safe'}, 'protected_material_code': {'filtered': False, 'detected': False}, 'protected_material_text': {'filtered': False, 'detected': False}, 'self_harm': {'filtered': False, 'severity': 'safe'}, 'sexual': {'filtered': False, 'severity': 'safe'}, 'violence': {'filtered': False, 'severity': 'safe'}})], created=1750069116, model='gpt-4.1-2025-04-14', object='chat.completion', service_tier=None, system_fingerprint='fp_07e970ab25', usage=CompletionUsage(completion_tokens=105, prompt_tokens=1043, total_tokens=1148, completion_tokens_details=CompletionTokensDetails(accepted_prediction_tokens=0, audio_tokens=0, reasoning_tokens=0, rejected_prediction_tokens=0), prompt_tokens_details=PromptTokensDetails(audio_tokens=0, cached_tokens=0)), prompt_filter_results=[{'prompt_index': 0, 'content_filter_results': {'hate': {'filtered': False, 'severity': 'safe'}, 'jailbreak': {'filtered': False, 'detected': False}, 'self_harm': {'filtered': False, 'severity': 'safe'}, 'sexual': {'filtered': False, 'severity': 'safe'}, 'violence': {'filtered': False, 'severity': 'safe'}}}])"
      ]
     },
     "execution_count": 25,
     "metadata": {},
     "output_type": "execute_result"
    }
   ],
   "source": [
    "response"
   ]
  },
  {
   "cell_type": "code",
   "execution_count": 26,
   "id": "b2df92ba",
   "metadata": {},
   "outputs": [
    {
     "data": {
      "text/plain": [
       "Choice(finish_reason='stop', index=0, logprobs=None, message=ChatCompletionMessage(content='An AI agent is a system or software program that can perceive its environment, make decisions, and take actions to achieve specific goals using artificial intelligence techniques. It can process information, learn from data, and act autonomously or semi-autonomously to complete tasks. AI agents are used in various applications, such as virtual assistants, recommendation systems, autonomous vehicles, and customer support bots. They often combine techniques like machine learning, natural language processing, and rule-based reasoning to solve problems and interact with users or other systems.', refusal=None, role='assistant', annotations=[], audio=None, function_call=None, tool_calls=None), content_filter_results={'hate': {'filtered': False, 'severity': 'safe'}, 'protected_material_code': {'filtered': False, 'detected': False}, 'protected_material_text': {'filtered': False, 'detected': False}, 'self_harm': {'filtered': False, 'severity': 'safe'}, 'sexual': {'filtered': False, 'severity': 'safe'}, 'violence': {'filtered': False, 'severity': 'safe'}})"
      ]
     },
     "execution_count": 26,
     "metadata": {},
     "output_type": "execute_result"
    }
   ],
   "source": [
    "response.choices[0]"
   ]
  },
  {
   "cell_type": "code",
   "execution_count": 27,
   "id": "bc0c89d4",
   "metadata": {},
   "outputs": [
    {
     "name": "stdout",
     "output_type": "stream",
     "text": [
      "An AI agent is a system or software program that can perceive its environment, make decisions, and take actions to achieve specific goals using artificial intelligence techniques. It can process information, learn from data, and act autonomously or semi-autonomously to complete tasks. AI agents are used in various applications, such as virtual assistants, recommendation systems, autonomous vehicles, and customer support bots. They often combine techniques like machine learning, natural language processing, and rule-based reasoning to solve problems and interact with users or other systems.\n"
     ]
    }
   ],
   "source": [
    "print(response.choices[0].message.content)"
   ]
  },
  {
   "cell_type": "code",
   "execution_count": 26,
   "id": "1d2139c4",
   "metadata": {},
   "outputs": [],
   "source": [
    "# tool call\n",
    "response = agent_router(\"show me top 5 clients by account balance?\")"
   ]
  },
  {
   "cell_type": "code",
   "execution_count": 12,
   "id": "acbf7ea2",
   "metadata": {},
   "outputs": [
    {
     "name": "stderr",
     "output_type": "stream",
     "text": [
      "2025/06/16 12:28:26 WARNING mlflow.tracing.processor.mlflow_v2: Creating a trace within the default experiment with id '0'. It is strongly recommended to not use the default experiment to log traces due to ambiguous search results and probable performance issues over time due to directory table listing performance degradation with high volumes of directories within a specific path. To avoid performance and disambiguation issues, set the experiment for your environment using `mlflow.set_experiment()` API.\n"
     ]
    }
   ],
   "source": [
    "# tool call\n",
    "response = routing_agent(\"show me top 5 clients by account balance?\", chat_history=[])"
   ]
  },
  {
   "cell_type": "code",
   "execution_count": 13,
   "id": "e55cb9a5",
   "metadata": {},
   "outputs": [
    {
     "data": {
      "text/plain": [
       "Choice(finish_reason='tool_calls', index=0, logprobs=None, message=ChatCompletionMessage(content=None, refusal=None, role='assistant', annotations=[], audio=None, function_call=None, tool_calls=[ChatCompletionMessageToolCall(id='call_E4SHRjmAr8gM10sW5rgMR9Lg', function=Function(arguments='{\"user_request\":\"Retrieve the top 5 clients with the highest account balances from the customer_information table. Provide their full names and balance amounts, sorted by balance descending.\"}', name='agent_sql_analysis'), type='function')]), content_filter_results={})"
      ]
     },
     "execution_count": 13,
     "metadata": {},
     "output_type": "execute_result"
    }
   ],
   "source": [
    "response.choices[0]"
   ]
  },
  {
   "cell_type": "code",
   "execution_count": 14,
   "id": "60311471",
   "metadata": {},
   "outputs": [
    {
     "data": {
      "text/plain": [
       "ChatCompletionMessage(content=None, refusal=None, role='assistant', annotations=[], audio=None, function_call=None, tool_calls=[ChatCompletionMessageToolCall(id='call_E4SHRjmAr8gM10sW5rgMR9Lg', function=Function(arguments='{\"user_request\":\"Retrieve the top 5 clients with the highest account balances from the customer_information table. Provide their full names and balance amounts, sorted by balance descending.\"}', name='agent_sql_analysis'), type='function')])"
      ]
     },
     "execution_count": 14,
     "metadata": {},
     "output_type": "execute_result"
    }
   ],
   "source": [
    "output = response.choices[0].message\n",
    "output"
   ]
  },
  {
   "cell_type": "code",
   "execution_count": 15,
   "id": "80006e6e",
   "metadata": {},
   "outputs": [
    {
     "name": "stdout",
     "output_type": "stream",
     "text": [
      "None\n"
     ]
    }
   ],
   "source": [
    "print(output.content)"
   ]
  },
  {
   "cell_type": "code",
   "execution_count": 16,
   "id": "a4e38a4d",
   "metadata": {},
   "outputs": [
    {
     "data": {
      "text/plain": [
       "ChatCompletionMessageToolCall(id='call_E4SHRjmAr8gM10sW5rgMR9Lg', function=Function(arguments='{\"user_request\":\"Retrieve the top 5 clients with the highest account balances from the customer_information table. Provide their full names and balance amounts, sorted by balance descending.\"}', name='agent_sql_analysis'), type='function')"
      ]
     },
     "execution_count": 16,
     "metadata": {},
     "output_type": "execute_result"
    }
   ],
   "source": [
    "output.tool_calls[0]"
   ]
  },
  {
   "cell_type": "code",
   "execution_count": 17,
   "id": "0876f24f",
   "metadata": {},
   "outputs": [
    {
     "data": {
      "text/plain": [
       "'agent_sql_analysis'"
      ]
     },
     "execution_count": 17,
     "metadata": {},
     "output_type": "execute_result"
    }
   ],
   "source": [
    "output.tool_calls[0].function.name"
   ]
  },
  {
   "cell_type": "code",
   "execution_count": 18,
   "id": "252654bc",
   "metadata": {},
   "outputs": [
    {
     "data": {
      "text/plain": [
       "'{\"user_request\":\"Retrieve the top 5 clients with the highest account balances from the customer_information table. Provide their full names and balance amounts, sorted by balance descending.\"}'"
      ]
     },
     "execution_count": 18,
     "metadata": {},
     "output_type": "execute_result"
    }
   ],
   "source": [
    "output.tool_calls[0].function.arguments"
   ]
  },
  {
   "cell_type": "markdown",
   "id": "ff277e99",
   "metadata": {},
   "source": [
    "## agent_sql_analysis"
   ]
  },
  {
   "cell_type": "code",
   "execution_count": 20,
   "id": "de172d45",
   "metadata": {},
   "outputs": [],
   "source": [
    "def agent_sql_analysis(user_input):\n",
    "    \"\"\"\n",
    "    Processes SQL query-related requests.\n",
    "    \n",
    "    Args:\n",
    "        user_input: String or JSON-serializable input from the user\n",
    "        \n",
    "    Returns:\n",
    "        str: The generated response text\n",
    "    \"\"\"\n",
    "    # Accepts any data type: string, dict, list, etc.\n",
    "    # If not string, convert to JSON string for the LLM\n",
    "    if not isinstance(user_input, str):\n",
    "        user_input_serialized = json.dumps(user_input)\n",
    "    else:\n",
    "        user_input_serialized = user_input\n",
    "\n",
    "    completions = client.chat.completions.create(\n",
    "        model=MODEL,\n",
    "        messages=[\n",
    "            {\"role\": \"system\", \"content\": prompt_agent_sql_analysis()},\n",
    "            {\"role\": \"user\", \"content\": user_input_serialized}\n",
    "        ],\n",
    "    )\n",
    "    return completions.choices[0].message.content\n",
    "\n"
   ]
  },
  {
   "cell_type": "code",
   "execution_count": 27,
   "id": "b3afc7de",
   "metadata": {},
   "outputs": [],
   "source": [
    "user_query = output.tool_calls[0].function.arguments\n",
    "sql_output = agent_sql_analysis(user_query)"
   ]
  },
  {
   "cell_type": "code",
   "execution_count": 28,
   "id": "3c14c870",
   "metadata": {},
   "outputs": [
    {
     "data": {
      "text/plain": [
       "'{\"user_request\":\"Retrieve the top 5 clients with the highest account balances from the customer_information table. Provide their full names and balance amounts, sorted by balance descending.\"}'"
      ]
     },
     "execution_count": 28,
     "metadata": {},
     "output_type": "execute_result"
    }
   ],
   "source": [
    "user_query"
   ]
  },
  {
   "cell_type": "code",
   "execution_count": 29,
   "id": "868ead25",
   "metadata": {},
   "outputs": [
    {
     "name": "stdout",
     "output_type": "stream",
     "text": [
      "```sql\n",
      "SELECT TOP 5 full_name, balance\n",
      "FROM [dbo].[customer_information] WITH (NOLOCK)\n",
      "ORDER BY balance DESC;\n",
      "```\n"
     ]
    }
   ],
   "source": [
    "print(sql_output)"
   ]
  },
  {
   "cell_type": "code",
   "execution_count": 32,
   "id": "df20d4bb",
   "metadata": {},
   "outputs": [
    {
     "name": "stdout",
     "output_type": "stream",
     "text": [
      "Loaded environment variables from /Users/mzwandilemhlongo/Desktop/Data Science/PersonalProjects/rag-system/rag-text2sql/.env\n",
      "Available SQL Server drivers: ODBC Driver 18 for SQL Server, ODBC Driver 17 for SQL Server\n",
      "Attempting connection: sql auth using ODBC Driver 18 for SQL Server\n",
      "Server: localhost,1433, Database: master\n",
      "✓ Successfully connected to SQL Server\n",
      "  Server: localhost,1433\n",
      "  Database: master\n",
      "  Authentication: sql\n",
      "  Driver: ODBC Driver 18 for SQL Server\n",
      "============================================================\n",
      "Running Query #1 ______________________\n",
      "Executing query: SELECT TOP 5 full_name, balance\n",
      "FROM [dbo].[customer_information] WITH (NOLOCK)\n",
      "ORDER BY balance DES...\n",
      "\n",
      "\n",
      "Query executed successfully - returned 5 rows with 2 columns\n",
      "\n",
      "==================== QUERY #1 ====================\n",
      "Status: \u001b[92msuccess\u001b[0m\n",
      "Query: SELECT TOP 5 full_name, balance\n",
      "FROM [dbo].[customer_information] WITH (NOLOCK)\n",
      "ORDER BY balance DESC;\n",
      "Rows: 5 | Columns: 2\n",
      "Column names: full_name, balance\n",
      "Result: [{\"full_name\":\"Madeline Blanchard\",\"balance\":49695.65},{\"full_name\":\"Richard Elliott\",\"balance\":4900...\n",
      "--------------------------------------------------\n"
     ]
    }
   ],
   "source": [
    "sql_results = execute_sql_with_pyodbc(sql_output)\n",
    "display_sql_results(sql_results, max_query_preview=200, max_result_preview=100)"
   ]
  },
  {
   "cell_type": "markdown",
   "id": "f60c6f2f",
   "metadata": {},
   "source": [
    "# Chat Loops"
   ]
  },
  {
   "cell_type": "code",
   "execution_count": 20,
   "id": "25330e55",
   "metadata": {},
   "outputs": [],
   "source": [
    "chat_history =[]"
   ]
  },
  {
   "cell_type": "code",
   "execution_count": 11,
   "id": "f386d5d5",
   "metadata": {},
   "outputs": [],
   "source": [
    "import json\n",
    "\n",
    "# def routing_agent(user_request, chat_history):\n",
    "#     \"\"\"Routes the user request to the appropriate function/tool, using chat history for context.\"\"\"\n",
    "#     prompt = prompt_agent_router()\n",
    "\n",
    "#     messages = [{\"role\": \"system\", \"content\": prompt}]\n",
    "#     messages.extend(chat_history)\n",
    "\n",
    "#     # Ensure latest user message is not duplicated\n",
    "#     if not chat_history or chat_history[-1][\"role\"] != \"user\" or chat_history[-1][\"content\"] != user_request:\n",
    "#         messages.append({\"role\": \"user\", \"content\": user_request})\n",
    "\n",
    "#     response = client.chat.completions.create(\n",
    "#         model=MODEL,\n",
    "#         messages=messages,\n",
    "#         tools=tools_definitions(),\n",
    "#         tool_choice=\"auto\"\n",
    "#     )\n",
    "#     return response\n",
    "\n",
    "def ai_chatbot(user_input, chat_history):\n",
    "    # Avoid duplicate user input\n",
    "    if not chat_history or chat_history[-1][\"role\"] != \"user\" or chat_history[-1][\"content\"] != user_input:\n",
    "        chat_history.append({\"role\": \"user\", \"content\": user_input})\n",
    "\n",
    "    response = routing_agent(user_input, chat_history)\n",
    "\n",
    "    message = response.choices[0].message\n",
    "\n",
    "    if hasattr(message, 'tool_calls') and message.tool_calls:\n",
    "        tool_call = message.tool_calls[0]\n",
    "        function_name = tool_call.function.name\n",
    "        function_args = json.loads(tool_call.function.arguments)\n",
    "        print(f\"Function Name: {function_name}\")\n",
    "        print(f\"Function Arguments: {function_args}\")\n",
    "        print(\"\\n\")\n",
    "\n",
    "        sql_results, product_offerings, validation_results = [], [], None\n",
    "\n",
    "        if function_name == \"agent_sql_analysis\":\n",
    "            sql_code = agent_sql_analysis(function_args[\"user_request\"])\n",
    "            print(f\"SQL Code: {sql_code}\")\n",
    "            sql_results = execute_sql_with_pyodbc(sql_code)\n",
    "            print(f\"SQL Results: {sql_results}\")\n",
    "\n",
    "        elif function_name == \"agent_product_offerings\":\n",
    "            product_offerings = [agent_product_offerings(function_args[\"user_request\"])]\n",
    "\n",
    "        elif function_name == \"agent_file_validation\":\n",
    "            validation_results = agent_file_validation(function_args[\"file_path\"])\n",
    "\n",
    "        elif function_name == \"agent_compare_files\":\n",
    "            validation_results = agent_compare_files(\n",
    "                function_args[\"baseline_data\"],\n",
    "                function_args[\"comparison_data\"],\n",
    "                function_args.get(\"comparison_type\", \"standard\")\n",
    "            )\n",
    "\n",
    "        else:\n",
    "            assistant_msg = \"I don't know how to handle that request.\"\n",
    "            if not chat_history or chat_history[-1][\"role\"] != \"assistant\" or chat_history[-1][\"content\"] != assistant_msg:\n",
    "                chat_history.append({\"role\": \"assistant\", \"content\": assistant_msg})\n",
    "            return chat_history\n",
    "\n",
    "        # Process SQL results\n",
    "        processed_sql_data = []\n",
    "        for res in sql_results:\n",
    "            if isinstance(res, dict) and res.get(\"status\") == \"success\":\n",
    "                try:\n",
    "                    json_data = json.loads(res[\"result\"])\n",
    "                    processed_sql_data.append({\n",
    "                        \"query_info\": f\"Query returned {res['row_count']} rows with columns: {', '.join(res['columns'])}\",\n",
    "                        \"data\": json_data\n",
    "                    })\n",
    "                except json.JSONDecodeError:\n",
    "                    processed_sql_data.append({\n",
    "                        \"query_info\": f\"Query returned {res['row_count']} rows\",\n",
    "                        \"data\": res[\"result\"]\n",
    "                    })\n",
    "            else:\n",
    "                processed_sql_data.append({\n",
    "                    \"query_info\": f\"Query failed with status: {res.get('status', 'unknown')}\",\n",
    "                    \"data\": res.get(\"result\", \"No data available\")\n",
    "                })\n",
    "\n",
    "        # Build polish prompt\n",
    "        if validation_results:\n",
    "            polish_prompt = (\n",
    "                \"Please provide a clear, friendly response about the validation results: \"\n",
    "                f\"{validation_results}. Format the response to be easy to understand.\"\n",
    "            )\n",
    "        elif sql_results and product_offerings:\n",
    "            polish_prompt = (\n",
    "                \"The user asked for both data and product information. Provide a comprehensive response that:\\n\"\n",
    "                f\"1. Summarizes the data results: {processed_sql_data}\\n\"\n",
    "                f\"2. Describes the product offerings: {product_offerings}\"\n",
    "            )\n",
    "        elif sql_results:\n",
    "            polish_prompt = (\n",
    "                \"Summarize the following database query results in a clear, friendly way:\\n\"\n",
    "                f\"{processed_sql_data}\"\n",
    "            )\n",
    "        elif product_offerings:\n",
    "            polish_prompt = (\n",
    "                \"Present the following product information in a helpful way:\\n\"\n",
    "                f\"{product_offerings}\"\n",
    "            )\n",
    "        else:\n",
    "            assistant_msg = \"I couldn't process your request. Please try again.\"\n",
    "            if not chat_history or chat_history[-1][\"role\"] != \"assistant\" or chat_history[-1][\"content\"] != assistant_msg:\n",
    "                chat_history.append({\"role\": \"assistant\", \"content\": assistant_msg})\n",
    "            return chat_history\n",
    "        # Use polish_messages correctly\n",
    "        polish_messages = [\n",
    "            {\"role\": \"system\", \"content\": \"You are a helpful banking assistant that provides clear, friendly responses to users.\"},\n",
    "            {\"role\": \"user\", \"content\": polish_prompt}\n",
    "        ]\n",
    "\n",
    "        # polish_response = client.chat.completions.create(\n",
    "        #     model=MODEL,\n",
    "        #     messages=polish_messages\n",
    "        # )\n",
    "\n",
    "        polish_response = routing_agent(polish_prompt, chat_history)\n",
    "\n",
    "        final_message = polish_response.choices[0].message.content\n",
    "        if final_message and final_message.strip():\n",
    "            if not chat_history or chat_history[-1][\"role\"] != \"assistant\" or chat_history[-1][\"content\"] != final_message:\n",
    "                chat_history.append({\"role\": \"assistant\", \"content\": final_message})\n",
    "\n",
    "    else:\n",
    "        content = message.content or \"I don't have a response for that.\"\n",
    "        if not chat_history or chat_history[-1][\"role\"] != \"assistant\" or chat_history[-1][\"content\"] != content:\n",
    "            chat_history.append({\"role\": \"assistant\", \"content\": content})\n",
    "\n",
    "    return chat_history\n"
   ]
  },
  {
   "cell_type": "code",
   "execution_count": 10,
   "id": "d8492065",
   "metadata": {},
   "outputs": [
    {
     "name": "stdout",
     "output_type": "stream",
     "text": [
      "You: Exiting chat.\n"
     ]
    }
   ],
   "source": [
    "from IPython.display import clear_output, display, Markdown\n",
    "import sys\n",
    "\n",
    "chat_history = []\n",
    "\n",
    "def inline_input(prompt=\"\"):\n",
    "    \"\"\"Custom input function that displays inline in Jupyter notebook\"\"\"\n",
    "    print(prompt, end='')\n",
    "    sys.stdout.flush()\n",
    "    return input()\n",
    "\n",
    "def display_chat(chat_history):\n",
    "    \"\"\"Nicely formats and displays the full chat history\"\"\"\n",
    "    clear_output(wait=True)\n",
    "    for msg in chat_history:\n",
    "        role = msg[\"role\"]\n",
    "        content = msg[\"content\"]\n",
    "        if role == \"user\":\n",
    "            display(Markdown(f\"**You:** {content}\"))\n",
    "        elif role == \"assistant\":\n",
    "            display(Markdown(f\"**Assistant:** {content}\"))\n",
    "\n",
    "# Main loop\n",
    "while True:\n",
    "    display_chat(chat_history)\n",
    "    user_input = inline_input(\"You: \")\n",
    "    \n",
    "    if user_input.lower() in [\"exit\", \"quit\"]:\n",
    "        print(\"Exiting chat.\")\n",
    "        break\n",
    "\n",
    "    # Process input and update chat history\n",
    "    chat_history = ai_chatbot(user_input, chat_history)\n"
   ]
  },
  {
   "cell_type": "code",
   "execution_count": 22,
   "id": "9a16562e",
   "metadata": {},
   "outputs": [
    {
     "data": {
      "text/plain": [
       "[{'role': 'user',\n",
       "  'content': 'which quarter had the highest and lowest transaction amount?'},\n",
       " {'role': 'user', 'content': 'which client has the lowest balance?'}]"
      ]
     },
     "execution_count": 22,
     "metadata": {},
     "output_type": "execute_result"
    }
   ],
   "source": [
    "chat_history"
   ]
  },
  {
   "cell_type": "markdown",
   "id": "484b1df4",
   "metadata": {},
   "source": [
    "# MLFlow Integration"
   ]
  },
  {
   "cell_type": "code",
   "execution_count": 10,
   "id": "7181ebfd",
   "metadata": {},
   "outputs": [],
   "source": [
    "import mlflow\n",
    "mlflow.openai.autolog()"
   ]
  },
  {
   "cell_type": "code",
   "execution_count": 11,
   "id": "165811c6",
   "metadata": {},
   "outputs": [],
   "source": [
    "# utils/mlflow_logger.py\n",
    "import mlflow\n",
    "import json\n",
    "\n",
    "def start_chat_run(user_input):\n",
    "    mlflow.set_experiment(\"Chatbot_Tracing\")\n",
    "    mlflow.start_run(nested=True)\n",
    "    mlflow.log_param(\"user_input\", user_input)\n",
    "\n",
    "def log_router_response(message):\n",
    "    mlflow.log_text(str(message), \"router_response.json\")\n",
    "\n",
    "def log_sql_code(sql_code):\n",
    "    mlflow.log_text(sql_code, \"generated_sql.json\")\n",
    "\n",
    "def log_sql_results(results):\n",
    "    mlflow.log_text(json.dumps(results, indent=2), \"sql_results.json\")\n",
    "\n",
    "def log_product_info(info):\n",
    "    mlflow.log_text(json.dumps(info, indent=2), \"product_info.json\")\n",
    "\n",
    "def log_validation_result(result, filename=\"validation_result.txt\"):\n",
    "    mlflow.log_text(str(result), filename)\n",
    "\n",
    "def log_final_response(response):\n",
    "    mlflow.log_text(response, \"final_response.txt\")\n",
    "\n",
    "def end_chat_run():\n",
    "    mlflow.end_run()\n"
   ]
  },
  {
   "cell_type": "code",
   "execution_count": 12,
   "id": "4e055abf",
   "metadata": {},
   "outputs": [],
   "source": [
    "from utils.mlflow_logger import (\n",
    "    start_chat_run, log_router_response, log_sql_code, log_sql_results,\n",
    "    log_product_info, log_validation_result, log_final_response, end_chat_run\n",
    ")\n"
   ]
  },
  {
   "cell_type": "code",
   "execution_count": 13,
   "id": "0994a3ac",
   "metadata": {},
   "outputs": [],
   "source": [
    "def ai_chatbot(user_input, chat_history):\n",
    "    if not chat_history or chat_history[-1][\"role\"] != \"user\" or chat_history[-1][\"content\"] != user_input:\n",
    "        chat_history.append({\"role\": \"user\", \"content\": user_input})\n",
    "\n",
    "    start_chat_run(user_input)\n",
    "\n",
    "    try:\n",
    "        response = routing_agent(user_input, chat_history)\n",
    "        message = response.choices[0].message\n",
    "        log_router_response(message)\n",
    "\n",
    "        if hasattr(message, 'tool_calls') and message.tool_calls:\n",
    "            tool_call = message.tool_calls[0]\n",
    "            function_name = tool_call.function.name\n",
    "            function_args = json.loads(tool_call.function.arguments)\n",
    "            # print(f\"Function Name: {function_name}\")\n",
    "            print(f\"\\nFunction Arguments:\\n {function_args}\")\n",
    "\n",
    "            sql_results, product_offerings, validation_results = [], [], None\n",
    "\n",
    "            if function_name == \"agent_sql_analysis\":\n",
    "                sql_code = agent_sql_analysis(function_args[\"user_requests\"])\n",
    "                log_sql_code(sql_code)\n",
    "                # print(f\"\\n________________Generated SQL Code:\\n {sql_code}\") \n",
    "                sql_results = execute_sql_with_pyodbc(sql_code, auth_type='windows')\n",
    "                # sql_results = execute_sql_with_pyodbc(sql_code)\n",
    "                # print(f\"\\n\\n__________SQL Results:________________\\n {sql_results}\")\n",
    "                log_sql_results(sql_results)\n",
    "\n",
    "            elif function_name == \"agent_product_offerings\":\n",
    "                product_info = agent_product_offerings(function_args[\"user_request\"])\n",
    "                product_offerings = [product_info]\n",
    "                log_product_info(product_info)\n",
    "\n",
    "            elif function_name == \"agent_file_validation\":\n",
    "                validation_results = agent_file_validation(function_args[\"file_path\"])\n",
    "                log_validation_result(validation_results, \"file_validation.txt\")\n",
    "\n",
    "            elif function_name == \"agent_compare_files\":\n",
    "                validation_results = agent_compare_files(\n",
    "                    function_args[\"baseline_data\"],\n",
    "                    function_args[\"comparison_data\"],\n",
    "                    function_args.get(\"comparison_type\", \"standard\")\n",
    "                )\n",
    "                log_validation_result(validation_results, \"file_comparison.txt\")\n",
    "\n",
    "            else:\n",
    "                assistant_msg = \"I don't know how to handle that request.\"\n",
    "                if not chat_history or chat_history[-1][\"role\"] != \"assistant\" or chat_history[-1][\"content\"] != assistant_msg:\n",
    "                    chat_history.append({\"role\": \"assistant\", \"content\": assistant_msg})\n",
    "                return chat_history\n",
    "\n",
    "            # Process SQL results\n",
    "            processed_sql_data = []\n",
    "            for res in sql_results:\n",
    "                if isinstance(res, dict) and res.get(\"status\") == \"success\":\n",
    "                    try:\n",
    "                        json_data = json.loads(res[\"result\"])\n",
    "                        processed_sql_data.append({\n",
    "                            \"query_info\": f\"Query returned {res['row_count']} rows with columns: {', '.join(res['columns'])}\",\n",
    "                            \"data\": json_data\n",
    "                        })\n",
    "                    except json.JSONDecodeError:\n",
    "                        processed_sql_data.append({\n",
    "                            \"query_info\": f\"Query returned {res['row_count']} rows\",\n",
    "                            \"data\": res[\"result\"]\n",
    "                        })\n",
    "                else:\n",
    "                    processed_sql_data.append({\n",
    "                        \"query_info\": f\"Query failed with status: {res.get('status', 'unknown')}\",\n",
    "                        \"data\": res.get(\"result\", \"No data available\")\n",
    "                    })\n",
    "\n",
    "            # Build polish prompt\n",
    "            if sql_results:\n",
    "                polish_prompt = (\n",
    "                    f\"\"\"Summarize the following database query results in a clear, friendly way based on the user requests:\n",
    "                    ** User Requests:** {function_args.get(\"user_requests\")} \\n\n",
    "                    ** Results: {processed_sql_data}\"\"\"\n",
    "                                                               \n",
    "                )\n",
    "                \n",
    "            elif validation_results:\n",
    "                polish_prompt = (\n",
    "                    \"Please provide a clear, friendly response about the validation results: \"\n",
    "                    f\"{validation_results}. Format the response to be easy to understand.\"\n",
    "                )\n",
    "            elif product_offerings:\n",
    "                polish_prompt = (\n",
    "                    \"Present the following product information in a helpful way:\\n\"\n",
    "                    f\"{product_offerings}\"\n",
    "                )\n",
    "            else:\n",
    "                assistant_msg = \"I couldn't process your request. Please try again.\"\n",
    "                if not chat_history or chat_history[-1][\"role\"] != \"assistant\" or chat_history[-1][\"content\"] != assistant_msg:\n",
    "                    chat_history.append({\"role\": \"assistant\", \"content\": assistant_msg})\n",
    "                return chat_history\n",
    "\n",
    "            # print(f\"\\nPolish Prompt:\\n {polish_prompt}\")\n",
    "            \n",
    "            # Use routing_agent but with a fresh chat history containing only the polish prompt\n",
    "            # This prevents context confusion from the previous messages\n",
    "            polish_chat_history = [\n",
    "                {\"role\": \"user\", \"content\": polish_prompt}\n",
    "            ]\n",
    "            \n",
    "            polish_response = agent_final_response(polish_prompt, polish_chat_history)\n",
    "            # polish_response = routing_agent(polish_prompt, polish_chat_history)\n",
    "            \n",
    "\n",
    "            \n",
    "            if polish_response and polish_response.choices and polish_response.choices[0].message:\n",
    "                final_message = polish_response.choices[0].message.content\n",
    "                # print(f\"\\nPolish Response: {final_message}\")\n",
    "                \n",
    "                log_final_response(final_message)\n",
    "\n",
    "                if final_message and final_message.strip():\n",
    "                    if not chat_history or chat_history[-1][\"role\"] != \"assistant\" or chat_history[-1][\"content\"] != final_message:\n",
    "                        chat_history.append({\"role\": \"assistant\", \"content\": final_message})\n",
    "            else:\n",
    "                # Fallback if polish_response is not properly formed\n",
    "                fallback_message = \"I've analyzed your request but encountered an issue formatting the results. Here's what I found: \"\n",
    "                if sql_results:\n",
    "                    fallback_message += f\"Query results show data for {len(sql_results)} SQL queries.\"\n",
    "                chat_history.append({\"role\": \"assistant\", \"content\": fallback_message})\n",
    "                log_final_response(fallback_message)\n",
    "\n",
    "        else:\n",
    "            content = message.content or \"I don't have a response for that.\"\n",
    "            log_final_response(content)\n",
    "            if not chat_history or chat_history[-1][\"role\"] != \"assistant\" or chat_history[-1][\"content\"] != content:\n",
    "                chat_history.append({\"role\": \"assistant\", \"content\": content})\n",
    "\n",
    "    finally:\n",
    "        end_chat_run()\n",
    "\n",
    "    return chat_history"
   ]
  },
  {
   "cell_type": "code",
   "execution_count": null,
   "id": "d16bebde",
   "metadata": {},
   "outputs": [],
   "source": []
  },
  {
   "cell_type": "code",
   "execution_count": 21,
   "id": "ecf5f75f",
   "metadata": {},
   "outputs": [
    {
     "data": {
      "text/markdown": [
       "**You:** which quarter has the highest amount and the lowest amount? Which client has the lowest and highest balance? Tell me, whats an ai agents?"
      ],
      "text/plain": [
       "<IPython.core.display.Markdown object>"
      ]
     },
     "metadata": {},
     "output_type": "display_data"
    },
    {
     "data": {
      "text/markdown": [
       "**Assistant:** Here’s a summary of your requested information:\n",
       "\n",
       "1. **Quarters with Highest and Lowest Amounts:**\n",
       "   - **Highest Amount:** Q4 2024, with a total amount of $1,608,701.77 from 244 transactions.\n",
       "   - **Lowest Amount:** Q2 2023, with a total amount of $91,590.26 from 38 transactions.\n",
       "\n",
       "2. **Clients with the Highest and Lowest Balances:**\n",
       "   - **Highest Balance:** Charles Cline, with a balance of $49,859.96.\n",
       "   - **Lowest Balance:** Christy Adams, with a balance of $158.62.\n",
       "\n",
       "If you need more details or information on other quarters or clients, feel free to ask!"
      ],
      "text/plain": [
       "<IPython.core.display.Markdown object>"
      ]
     },
     "metadata": {},
     "output_type": "display_data"
    },
    {
     "name": "stdout",
     "output_type": "stream",
     "text": [
      "You: Exiting chat.\n"
     ]
    }
   ],
   "source": [
    "from IPython.display import clear_output, display, Markdown\n",
    "import sys\n",
    "\n",
    "chat_history = []\n",
    "\n",
    "def inline_input(prompt=\"\"):\n",
    "    \"\"\"Custom input function that displays inline in Jupyter notebook\"\"\"\n",
    "    print(prompt, end='')\n",
    "    sys.stdout.flush()\n",
    "    return input()\n",
    "\n",
    "def display_chat(chat_history):\n",
    "    \"\"\"Nicely formats and displays the full chat history\"\"\"\n",
    "    clear_output(wait=True)\n",
    "    for msg in chat_history:\n",
    "        role = msg[\"role\"]\n",
    "        content = msg[\"content\"]\n",
    "        if role == \"user\":\n",
    "            display(Markdown(f\"**You:** {content}\"))\n",
    "        elif role == \"assistant\":\n",
    "            display(Markdown(f\"**Assistant:** {content}\"))\n",
    "\n",
    "# Main loop\n",
    "while True:\n",
    "    display_chat(chat_history)\n",
    "    user_input = inline_input(\"You: \")\n",
    "    \n",
    "    if user_input.lower() in [\"exit\", \"quit\"]:\n",
    "        print(\"Exiting chat.\")\n",
    "        break\n",
    "\n",
    "    # Process input and update chat history\n",
    "    chat_history = ai_chatbot(user_input, chat_history)\n"
   ]
  },
  {
   "cell_type": "code",
   "execution_count": null,
   "id": "4b7d1ca6",
   "metadata": {},
   "outputs": [],
   "source": [
    "which quarter has the highest amount and the lowest amount? Which client has the lowest and highest balance? Tell me, whats an ai agents?"
   ]
  },
  {
   "cell_type": "code",
   "execution_count": 34,
   "id": "af6a8b13",
   "metadata": {},
   "outputs": [
    {
     "data": {
      "text/plain": [
       "[{'role': 'user',\n",
       "  'content': 'which quarter has the highest amount and the lowest amount? Which client has the lowest and highest balance? Tell me, whats an ai agents?'}]"
      ]
     },
     "execution_count": 34,
     "metadata": {},
     "output_type": "execute_result"
    }
   ],
   "source": [
    "chat_history"
   ]
  },
  {
   "cell_type": "code",
   "execution_count": 14,
   "id": "e7ef3ac0",
   "metadata": {},
   "outputs": [
    {
     "data": {
      "text/plain": [
       "[{'role': 'user', 'content': 'Tell me, whats an ai agents? '},\n",
       " {'role': 'assistant',\n",
       "  'content': 'An AI agent is a software program or system that uses artificial intelligence to perceive its environment, process information, make decisions, and take actions to achieve specific goals. In simple terms, an AI agent is like a digital assistant that can understand inputs (like language, data, or images), reason about them, and respond appropriately—often learning and improving over time.\\n\\nKey characteristics of an AI agent:\\n- **Autonomy**: Acts independently based on goals or instructions.\\n- **Perception**: Senses or gathers information about its environment (e.g., through sensors, data, or user input).\\n- **Reasoning**: Processes and interprets this information, often using AI techniques like machine learning or rules.\\n- **Action**: Takes actions or provides responses based on its analysis.\\n- **Learning**: Some AI agents improve their performance through experience.\\n\\nExamples of AI agents include:\\n- Virtual assistants (like Siri or Alexa)\\n- Chatbots and customer support bots\\n- Self-driving car navigation systems\\n- Automated stock trading systems\\n- Smart home devices\\n\\nIn short, an AI agent is any system that can autonomously perceive, decide, and act towards a goal using artificial intelligence techniques.'}]"
      ]
     },
     "execution_count": 14,
     "metadata": {},
     "output_type": "execute_result"
    }
   ],
   "source": [
    "chat_history = []\n",
    "user_input = \"Tell me, whats an ai agents? \"\n",
    "ai_chatbot(user_input, chat_history)"
   ]
  },
  {
   "cell_type": "code",
   "execution_count": 16,
   "id": "1a5bc42d",
   "metadata": {},
   "outputs": [],
   "source": [
    "chat_history = []\n",
    "session_id = \"user_001\""
   ]
  },
  {
   "cell_type": "code",
   "execution_count": 17,
   "id": "55bfeafa",
   "metadata": {},
   "outputs": [
    {
     "name": "stdout",
     "output_type": "stream",
     "text": [
      "\n",
      "Function Arguments:\n",
      " {'user_requests': '1. Which quarter has the highest amount and the lowest amount? 2. Which customer has the lowest and highest account balance? 3. Which channel has the highest transaction volume?'}\n",
      "No .env file found. Will use provided parameters or defaults.\n",
      "Available SQL Server drivers: ODBC Driver 17 for SQL Server, SQL Server, SQL Server Native Client RDA 11.0\n",
      "Attempting connection: windows auth using ODBC Driver 17 for SQL Server\n",
      "Server: localhost\\SQLEXPRESS, Database: master\n",
      "✓ Successfully connected to SQL Server\n",
      "  Server: localhost\\SQLEXPRESS\n",
      "  Database: master\n",
      "  Authentication: windows\n",
      "  Driver: ODBC Driver 17 for SQL Server\n",
      "============================================================\n",
      "Running Query #1 ______________________\n",
      "Executing query: -- 1. Quarter with the highest and lowest total transaction amount\n",
      "WITH QuarterlySummary AS (\n",
      "    SELECT \n",
      "        DATEPART(YEAR, transaction_date) AS txn_year,\n",
      "        DATEPART(QUARTER, transaction_date) AS txn_quarter,\n",
      "        'Q' + CAST(DATEPART(QUARTER, transaction_date) AS VARCHAR) + ' ' + CAST(DATEPART(YEAR, transaction_date) AS VARCHAR) AS quarter_year,\n",
      "        SUM(amount) AS total_amount\n",
      "  ...\n",
      "\n",
      "\n",
      "Query executed successfully - returned 2 rows with 3 columns\n",
      "Running Query #2 ______________________\n",
      "Executing query: -- 2. Customer with lowest and highest account balance\n",
      "WITH CustomerRanking AS (\n",
      "    SELECT \n",
      "        full_name,\n",
      "        account_number,\n",
      "        balance,\n",
      "        RANK() OVER (ORDER BY balance DESC) AS highest_rank,\n",
      "        RANK() OVER (ORDER BY balance ASC) AS lowest_rank\n",
      "    FROM [master].[dbo].[customer_information] WITH (NOLOCK)\n",
      ")\n",
      "SELECT \n",
      "    full_name,\n",
      "    account_number,\n",
      "    balance,\n",
      "    CASE ...\n",
      "\n",
      "\n",
      "Query executed successfully - returned 2 rows with 4 columns\n",
      "Running Query #3 ______________________\n",
      "Executing query: -- 3. Channel with the highest transaction volume\n",
      "WITH ChannelVol AS (\n",
      "    SELECT \n",
      "        channel,\n",
      "        COUNT(*) AS transaction_count\n",
      "    FROM [master].[dbo].[transaction_history] WITH (NOLOCK)\n",
      "    WHERE status = 'Completed'\n",
      "    GROUP BY channel\n",
      ")\n",
      "SELECT TOP 1 \n",
      "    channel,\n",
      "    transaction_count\n",
      "FROM ChannelVol\n",
      "ORDER BY transaction_count DESC;...\n",
      "\n",
      "\n",
      "Query executed successfully - returned 1 rows with 2 columns\n"
     ]
    },
    {
     "data": {
      "text/plain": [
       "[{'role': 'user',\n",
       "  'content': 'which quarter has the highest amount and the lowest amount? Which customer has the lowest and highest account balance? Which channel has the highest transaction volume?'},\n",
       " {'role': 'assistant',\n",
       "  'content': \"Here's a summary of your requested database insights:\\n\\n1. **Quarter with the Highest and Lowest Amounts:**\\n   - **Highest Amount:** Q4 2024, with a total of 1,608,701.77.\\n   - **Lowest Amount:** Q2 2023, with a total of 91,590.26.\\n\\n2. **Customers with the Highest and Lowest Account Balances:**\\n   - **Highest Balance:** Charles Cline (Account: 5423480814), with a balance of 49,859.96.\\n   - **Lowest Balance:** Christy Adams (Account: 2310140863), with a balance of 158.62.\\n\\n3. **Channel with the Highest Transaction Volume:**\\n   - **Check** channel, with 205 transactions.\\n\\nLet me know if you need more details or further analysis!\"}]"
      ]
     },
     "execution_count": 17,
     "metadata": {},
     "output_type": "execute_result"
    }
   ],
   "source": [
    "user_input = \"which quarter has the highest amount and the lowest amount? Which customer has the lowest and highest account balance? Which channel has the highest transaction volume?\"\n",
    "ai_chatbot(user_input, chat_history)"
   ]
  },
  {
   "cell_type": "code",
   "execution_count": 26,
   "id": "6405a86e",
   "metadata": {},
   "outputs": [
    {
     "name": "stdout",
     "output_type": "stream",
     "text": [
      "\n",
      "Function Arguments:\n",
      " {'user_requests': '1. Which quarter has the highest amount and the lowest amount? 2. Which client has the lowest and highest balance?'}\n",
      "No .env file found. Will use provided parameters or defaults.\n",
      "Available SQL Server drivers: ODBC Driver 17 for SQL Server, SQL Server, SQL Server Native Client RDA 11.0\n",
      "Attempting connection: windows auth using ODBC Driver 17 for SQL Server\n",
      "Server: localhost\\SQLEXPRESS, Database: master\n",
      "✓ Successfully connected to SQL Server\n",
      "  Server: localhost\\SQLEXPRESS\n",
      "  Database: master\n",
      "  Authentication: windows\n",
      "  Driver: ODBC Driver 17 for SQL Server\n",
      "============================================================\n",
      "Running Query #1 ______________________\n",
      "Executing query: -- 1. Quarter with the highest and lowest total amount\n",
      "WITH QuarterlySummary AS (\n",
      "    SELECT \n",
      "        'Q' + CAST(DATEPART(QUARTER, transaction_date) AS VARCHAR) + ' ' + \n",
      "        CAST(DATEPART(YEAR, transaction_date) AS VARCHAR) AS quarter_year,\n",
      "        SUM(amount) AS total_amount,\n",
      "        COUNT(*) AS transaction_count\n",
      "    FROM [master].[dbo].[transaction_history] WITH (NOLOCK)\n",
      "    WHERE status = '...\n",
      "\n",
      "\n",
      "Query executed successfully - returned 2 rows with 4 columns\n",
      "Running Query #2 ______________________\n",
      "Executing query: -- 2. Client with the lowest and highest balance\n",
      "WITH CustomerRanking AS (\n",
      "    SELECT \n",
      "        full_name,\n",
      "        balance,\n",
      "        RANK() OVER (ORDER BY balance DESC) as highest_rank,\n",
      "        RANK() OVER (ORDER BY balance ASC) as lowest_rank\n",
      "    FROM [master].[dbo].[customer_information] WITH (NOLOCK)\n",
      ")\n",
      "SELECT \n",
      "    full_name,\n",
      "    balance,\n",
      "    CASE \n",
      "        WHEN highest_rank = 1 THEN 'Highest Balan...\n",
      "\n",
      "\n",
      "Query executed successfully - returned 2 rows with 3 columns\n"
     ]
    },
    {
     "data": {
      "text/plain": [
       "[{'role': 'user',\n",
       "  'content': 'Tell me, whats an ai agents? which quarter has the highest amount and the lowest amount? Which client has the lowest and highest balance? '},\n",
       " {'role': 'assistant',\n",
       "  'content': 'Here’s a summary based on your requests:\\n\\n1. **Quarter with the Highest and Lowest Amounts:**\\n   - The quarter with the **highest total amount** is **Q4 2024** with **$1,608,701.77** across 244 transactions.\\n   - The quarter with the **lowest total amount** is **Q2 2023** with **$91,590.26** across 38 transactions.\\n\\n2. **Client with the Highest and Lowest Balances:**\\n   - The client with the **highest balance** is **Charles Cline**, with a balance of **$49,859.96**.\\n   - The client with the **lowest balance** is **Christy Adams**, with a balance of **$158.62**.\\n\\nLet me know if you need more details or further breakdowns!'}]"
      ]
     },
     "execution_count": 26,
     "metadata": {},
     "output_type": "execute_result"
    }
   ],
   "source": [
    "\n",
    "user_input = \"Tell me, whats an ai agents? which quarter has the highest amount and the lowest amount? Which client has the lowest and highest balance? \"\n",
    "ai_chatbot(user_input, chat_history)"
   ]
  },
  {
   "cell_type": "code",
   "execution_count": 19,
   "id": "bafcf8b1",
   "metadata": {},
   "outputs": [
    {
     "data": {
      "text/plain": [
       "[{'role': 'user',\n",
       "  'content': 'which quarter has the highest amount and the lowest amount? Which customer has the lowest and highest account balance? Which channel has the highest transaction volume?'},\n",
       " {'role': 'assistant',\n",
       "  'content': \"Here's a summary of your requested database insights:\\n\\n1. **Quarter with the Highest and Lowest Amounts:**\\n   - **Highest Amount:** Q4 2024, with a total of 1,608,701.77.\\n   - **Lowest Amount:** Q2 2023, with a total of 91,590.26.\\n\\n2. **Customers with the Highest and Lowest Account Balances:**\\n   - **Highest Balance:** Charles Cline (Account: 5423480814), with a balance of 49,859.96.\\n   - **Lowest Balance:** Christy Adams (Account: 2310140863), with a balance of 158.62.\\n\\n3. **Channel with the Highest Transaction Volume:**\\n   - **Check** channel, with 205 transactions.\\n\\nLet me know if you need more details or further analysis!\"},\n",
       " {'role': 'user', 'content': 'what was my previous question? '},\n",
       " {'role': 'assistant',\n",
       "  'content': 'Your previous question was:\\n\\n\"Which quarter has the highest amount and the lowest amount? Which customer has the lowest and highest account balance? Which channel has the highest transaction volume?\"\\n\\nLet me know if you need any more details or have other questions!'}]"
      ]
     },
     "execution_count": 19,
     "metadata": {},
     "output_type": "execute_result"
    }
   ],
   "source": [
    "user_input = \"what was my previous question? \"\n",
    "ai_chatbot(user_input, chat_history)"
   ]
  },
  {
   "cell_type": "code",
   "execution_count": 20,
   "id": "38e988e5",
   "metadata": {},
   "outputs": [
    {
     "data": {
      "text/plain": [
       "[{'role': 'user',\n",
       "  'content': 'which quarter has the highest amount and the lowest amount? Which customer has the lowest and highest account balance? Which channel has the highest transaction volume?'},\n",
       " {'role': 'assistant',\n",
       "  'content': \"Here's a summary of your requested database insights:\\n\\n1. **Quarter with the Highest and Lowest Amounts:**\\n   - **Highest Amount:** Q4 2024, with a total of 1,608,701.77.\\n   - **Lowest Amount:** Q2 2023, with a total of 91,590.26.\\n\\n2. **Customers with the Highest and Lowest Account Balances:**\\n   - **Highest Balance:** Charles Cline (Account: 5423480814), with a balance of 49,859.96.\\n   - **Lowest Balance:** Christy Adams (Account: 2310140863), with a balance of 158.62.\\n\\n3. **Channel with the Highest Transaction Volume:**\\n   - **Check** channel, with 205 transactions.\\n\\nLet me know if you need more details or further analysis!\"},\n",
       " {'role': 'user', 'content': 'what was my previous question? '},\n",
       " {'role': 'assistant',\n",
       "  'content': 'Your previous question was:\\n\\n\"Which quarter has the highest amount and the lowest amount? Which customer has the lowest and highest account balance? Which channel has the highest transaction volume?\"\\n\\nLet me know if you need any more details or have other questions!'},\n",
       " {'role': 'user', 'content': 'and what was your answer to that question? '},\n",
       " {'role': 'assistant',\n",
       "  'content': 'Here was my answer to your previous question:\\n\\n1. **Quarter with the Highest and Lowest Amounts:**\\n   - **Highest Amount:** Q4 2024, with a total of 1,608,701.77.\\n   - **Lowest Amount:** Q2 2023, with a total of 91,590.26.\\n\\n2. **Customers with the Highest and Lowest Account Balances:**\\n   - **Highest Balance:** Charles Cline (Account: 5423480814), with a balance of 49,859.96.\\n   - **Lowest Balance:** Christy Adams (Account: 2310140863), with a balance of 158.62.\\n\\n3. **Channel with the Highest Transaction Volume:**\\n   - **Check** channel, with 205 transactions.\\n\\nIf you have more questions or need further details, feel free to ask!'}]"
      ]
     },
     "execution_count": 20,
     "metadata": {},
     "output_type": "execute_result"
    }
   ],
   "source": [
    "user_input = \"and what was your answer to that question? \"\n",
    "ai_chatbot(user_input, chat_history)"
   ]
  },
  {
   "cell_type": "code",
   "execution_count": 18,
   "id": "d9a54559",
   "metadata": {},
   "outputs": [
    {
     "data": {
      "text/plain": [
       "[{'role': 'user',\n",
       "  'content': 'which quarter has the highest amount and the lowest amount? Which customer has the lowest and highest account balance? Which channel has the highest transaction volume?'},\n",
       " {'role': 'assistant',\n",
       "  'content': \"Here's a summary of your requested database insights:\\n\\n1. **Quarter with the Highest and Lowest Amounts:**\\n   - **Highest Amount:** Q4 2024, with a total of 1,608,701.77.\\n   - **Lowest Amount:** Q2 2023, with a total of 91,590.26.\\n\\n2. **Customers with the Highest and Lowest Account Balances:**\\n   - **Highest Balance:** Charles Cline (Account: 5423480814), with a balance of 49,859.96.\\n   - **Lowest Balance:** Christy Adams (Account: 2310140863), with a balance of 158.62.\\n\\n3. **Channel with the Highest Transaction Volume:**\\n   - **Check** channel, with 205 transactions.\\n\\nLet me know if you need more details or further analysis!\"}]"
      ]
     },
     "execution_count": 18,
     "metadata": {},
     "output_type": "execute_result"
    }
   ],
   "source": [
    "chat_history"
   ]
  },
  {
   "cell_type": "code",
   "execution_count": 21,
   "id": "bf199049",
   "metadata": {},
   "outputs": [
    {
     "name": "stdout",
     "output_type": "stream",
     "text": [
      "\n",
      "Function Arguments:\n",
      " {'user_requests': 'Show the total transaction amount for each transaction type for customer ID 10067724.', 'identifier': '10067724'}\n",
      "No .env file found. Will use provided parameters or defaults.\n",
      "Available SQL Server drivers: ODBC Driver 17 for SQL Server, SQL Server, SQL Server Native Client RDA 11.0\n",
      "Attempting connection: windows auth using ODBC Driver 17 for SQL Server\n",
      "Server: localhost\\SQLEXPRESS, Database: master\n",
      "✓ Successfully connected to SQL Server\n",
      "  Server: localhost\\SQLEXPRESS\n",
      "  Database: master\n",
      "  Authentication: windows\n",
      "  Driver: ODBC Driver 17 for SQL Server\n",
      "============================================================\n",
      "Running Query #1 ______________________\n",
      "Executing query: SELECT \n",
      "    transaction_type,\n",
      "    SUM(amount) AS total_amount\n",
      "FROM [master].[dbo].[transaction_history] WITH (NOLOCK)\n",
      "WHERE customer_id = 10067724\n",
      "  AND status = 'Completed'\n",
      "GROUP BY transaction_type\n",
      "ORDER BY transaction_type;...\n",
      "\n",
      "\n",
      "Query executed successfully - returned 1 rows with 2 columns\n"
     ]
    },
    {
     "data": {
      "text/plain": [
       "[{'role': 'user',\n",
       "  'content': 'which quarter has the highest amount and the lowest amount? Which customer has the lowest and highest account balance? Which channel has the highest transaction volume?'},\n",
       " {'role': 'assistant',\n",
       "  'content': \"Here's a summary of your requested database insights:\\n\\n1. **Quarter with the Highest and Lowest Amounts:**\\n   - **Highest Amount:** Q4 2024, with a total of 1,608,701.77.\\n   - **Lowest Amount:** Q2 2023, with a total of 91,590.26.\\n\\n2. **Customers with the Highest and Lowest Account Balances:**\\n   - **Highest Balance:** Charles Cline (Account: 5423480814), with a balance of 49,859.96.\\n   - **Lowest Balance:** Christy Adams (Account: 2310140863), with a balance of 158.62.\\n\\n3. **Channel with the Highest Transaction Volume:**\\n   - **Check** channel, with 205 transactions.\\n\\nLet me know if you need more details or further analysis!\"},\n",
       " {'role': 'user', 'content': 'what was my previous question? '},\n",
       " {'role': 'assistant',\n",
       "  'content': 'Your previous question was:\\n\\n\"Which quarter has the highest amount and the lowest amount? Which customer has the lowest and highest account balance? Which channel has the highest transaction volume?\"\\n\\nLet me know if you need any more details or have other questions!'},\n",
       " {'role': 'user', 'content': 'and what was your answer to that question? '},\n",
       " {'role': 'assistant',\n",
       "  'content': 'Here was my answer to your previous question:\\n\\n1. **Quarter with the Highest and Lowest Amounts:**\\n   - **Highest Amount:** Q4 2024, with a total of 1,608,701.77.\\n   - **Lowest Amount:** Q2 2023, with a total of 91,590.26.\\n\\n2. **Customers with the Highest and Lowest Account Balances:**\\n   - **Highest Balance:** Charles Cline (Account: 5423480814), with a balance of 49,859.96.\\n   - **Lowest Balance:** Christy Adams (Account: 2310140863), with a balance of 158.62.\\n\\n3. **Channel with the Highest Transaction Volume:**\\n   - **Check** channel, with 205 transactions.\\n\\nIf you have more questions or need further details, feel free to ask!'},\n",
       " {'role': 'user',\n",
       "  'content': 'for this customer id  10067724, show me the total transaction amount for each transaction type'},\n",
       " {'role': 'assistant',\n",
       "  'content': 'For customer ID 10067724, the total transaction amount for each transaction type is as follows:\\n\\n- Refund: $2,174.85\\n\\nIf you need more details or information about other transaction types, please let me know!'}]"
      ]
     },
     "execution_count": 21,
     "metadata": {},
     "output_type": "execute_result"
    }
   ],
   "source": [
    "user_input = \"for this customer id  10067724, show me the total transaction amount for each transaction type\"\n",
    "ai_chatbot(user_input, chat_history)"
   ]
  },
  {
   "cell_type": "code",
   "execution_count": null,
   "id": "edfd7d8a",
   "metadata": {},
   "outputs": [],
   "source": []
  },
  {
   "cell_type": "markdown",
   "id": "2eeaee38",
   "metadata": {},
   "source": [
    "# Session id"
   ]
  },
  {
   "cell_type": "code",
   "execution_count": null,
   "id": "196d42e2",
   "metadata": {},
   "outputs": [],
   "source": [
    "\n",
    "\n",
    "# Global session store (in-memory for simplicity)\n",
    "session_store = {}\n",
    "\n",
    "def ai_chatbot(user_input, session_id):\n",
    "    # Retrieve or initialize session state\n",
    "    session = session_store.get(session_id, {\"chat_history\": [], \"sql_history\": []})\n",
    "    chat_history = session[\"chat_history\"]\n",
    "\n",
    "    if not chat_history or chat_history[-1][\"role\"] != \"user\" or chat_history[-1][\"content\"] != user_input:\n",
    "        chat_history.append({\"role\": \"user\", \"content\": user_input})\n",
    "\n",
    "    start_chat_run(user_input)\n",
    "\n",
    "    try:\n",
    "        response = routing_agent(user_input, chat_history)\n",
    "        message = response.choices[0].message\n",
    "        log_router_response(message)\n",
    "\n",
    "        if hasattr(message, 'tool_calls') and message.tool_calls:\n",
    "            tool_call = message.tool_calls[0]\n",
    "            function_name = tool_call.function.name\n",
    "            function_args = json.loads(tool_call.function.arguments)\n",
    "\n",
    "            sql_results = []\n",
    "\n",
    "            if function_name == \"agent_sql_analysis\":\n",
    "                sql_code = agent_sql_analysis(function_args[\"user_requests\"])\n",
    "                log_sql_code(sql_code)\n",
    "\n",
    "                sql_results = execute_sql_with_pyodbc(sql_code, auth_type='windows')\n",
    "                log_sql_results(sql_results)\n",
    "\n",
    "                # Save SQL history\n",
    "                session[\"sql_history\"].append({\n",
    "                    \"request\": function_args[\"user_requests\"],\n",
    "                    \"sql\": sql_code,\n",
    "                    \"results\": sql_results\n",
    "                })\n",
    "\n",
    "            else:\n",
    "                assistant_msg = \"I don't know how to handle that request.\"\n",
    "                chat_history.append({\"role\": \"assistant\", \"content\": assistant_msg})\n",
    "                session_store[session_id] = session\n",
    "                return chat_history\n",
    "\n",
    "            # Process SQL results\n",
    "            processed_sql_data = []\n",
    "            for res in sql_results:\n",
    "                if isinstance(res, dict) and res.get(\"status\") == \"success\":\n",
    "                    try:\n",
    "                        json_data = json.loads(res[\"result\"])\n",
    "                        processed_sql_data.append({\n",
    "                            \"query_info\": f\"Query returned {res['row_count']} rows with columns: {', '.join(res['columns'])}\",\n",
    "                            \"data\": json_data\n",
    "                        })\n",
    "                    except json.JSONDecodeError:\n",
    "                        processed_sql_data.append({\n",
    "                            \"query_info\": f\"Query returned {res['row_count']} rows\",\n",
    "                            \"data\": res[\"result\"]\n",
    "                        })\n",
    "                else:\n",
    "                    processed_sql_data.append({\n",
    "                        \"query_info\": f\"Query failed with status: {res.get('status', 'unknown')}\",\n",
    "                        \"data\": res.get(\"result\", \"No data available\")\n",
    "                    })\n",
    "\n",
    "            if sql_results:\n",
    "                polish_prompt = (\n",
    "                    f\"\"\"Summarize the following database query results in a clear, friendly way based on the user requests:\n",
    "                    ** User Requests:** {function_args.get(\"user_requests\")} \\n\n",
    "                    ** Results: {processed_sql_data}\"\"\"\n",
    "                )\n",
    "\n",
    "                polish_response = agent_final_response(polish_prompt, [{\"role\": \"user\", \"content\": polish_prompt}])\n",
    "\n",
    "                if polish_response and polish_response.choices and polish_response.choices[0].message:\n",
    "                    final_message = polish_response.choices[0].message.content\n",
    "                    log_final_response(final_message)\n",
    "                    chat_history.append({\"role\": \"assistant\", \"content\": final_message})\n",
    "                else:\n",
    "                    fallback_message = \"I've analyzed your request but encountered an issue formatting the results.\"\n",
    "                    chat_history.append({\"role\": \"assistant\", \"content\": fallback_message})\n",
    "                    log_final_response(fallback_message)\n",
    "            else:\n",
    "                assistant_msg = \"I couldn't process your request. Please try again.\"\n",
    "                chat_history.append({\"role\": \"assistant\", \"content\": assistant_msg})\n",
    "                return chat_history\n",
    "\n",
    "        else:\n",
    "            content = message.content or \"I don't have a response for that.\"\n",
    "            log_final_response(content)\n",
    "            chat_history.append({\"role\": \"assistant\", \"content\": content})\n",
    "\n",
    "    finally:\n",
    "        end_chat_run()\n",
    "\n",
    "    # Save updated session\n",
    "    session[\"chat_history\"] = chat_history\n",
    "    session_store[session_id] = session\n",
    "\n",
    "    return chat_history\n"
   ]
  },
  {
   "cell_type": "code",
   "execution_count": null,
   "id": "3b7057f3",
   "metadata": {},
   "outputs": [],
   "source": [
    "chat_history = []\n",
    "session_id = \"user_001\""
   ]
  },
  {
   "cell_type": "code",
   "execution_count": null,
   "id": "df9df7e0",
   "metadata": {},
   "outputs": [],
   "source": [
    "user_input = \"which quarter has the highest amount and the lowest amount? Which customer has the lowest and highest account balance? Which channel has the highest transaction volume?\"\n",
    "ai_chatbot(user_input, session_id)"
   ]
  },
  {
   "cell_type": "code",
   "execution_count": null,
   "id": "aa2431e6",
   "metadata": {},
   "outputs": [],
   "source": []
  },
  {
   "cell_type": "markdown",
   "id": "3e88fedf",
   "metadata": {},
   "source": [
    "# Access"
   ]
  },
  {
   "cell_type": "code",
   "execution_count": null,
   "id": "2096b229",
   "metadata": {},
   "outputs": [],
   "source": [
    "# AZURE_OPENAI_ENDPOINT = 'https://aoamanagement.azure-api.net/deployments/gpt-35-turbo/chat/completions?api-version=2023-08-01-preview'\n",
    "# AZURE_OPENAI_VERSION = '2023-08-01-preview'\n",
    "# AZURE_OPENAI_KEY = '627feee187a442b8b3dc4cd3d5803fb5'\n",
    "# AZURE_OPENAI_DEPLOYMENT_NAME = 'gpt-35-turbo'\n",
    "\n",
    "# AZURE_OPENAI_ENDPOINT = \"https://aoamanagement.azure-api.net/za/deployments/gpt-4o-mini-ZA/chat/completions?api-version=2024-02-15-preview\"\n",
    "# AZURE_OPENAI_VERSION = '2024-02-15-preview'\n",
    "# AZURE_OPENAI_KEY = '59d321feacac4b77895c138675a239b4'\n",
    "# AZURE_OPENAI_DEPLOYMENT_NAME = 'gpt-4o-mini'\n",
    "\n",
    "# Personal Account\n",
    "# AZURE_OPENAI_ENDPOINT = 'https://rag-system-compliance-resource.cognitiveservices.azure.com/openai/deployments/o3-mini/chat/completions?api-version=2025-01-01-preview'\n",
    "# AZURE_OPENAI_VERSION = '2024-12-01-preview'\n",
    "# AZURE_OPENAI_KEY = 'DFsvH8c1lrvCk6D2lTyBAM3OFXogRDdeKC8J3AxAX2FXIm3Mh9xkJQQJ99BBACHYHv6XJ3w3AAAAACOGCwmz'\n",
    "# AZURE_OPENAI_DEPLOYMENT_NAME = 'o3-mini'\n",
    "\n",
    "AZURE_OPENAI_ENDPOINT = https://20892-m7iyjxep-eastus2.cognitiveservices.azure.com/\n",
    "AZURE_OPENAI_VERSION = 2025-01-01-preview\n",
    "AZURE_OPENAI_KEY = DFsvH8c1lrvCk6D2lTyBAM3OFXogRDdeKC8J3AxAX2FXIm3Mh9xkJQQJ99BBACHYHv6XJ3w3AAAAACOGCwmz\n",
    "AZURE_OPENAI_DEPLOYMENT_NAME = 'gpt-4.1'\n",
    "\n",
    "MLFLOW_TRACKING_URI=http://127.0.0.1:8080"
   ]
  }
 ],
 "metadata": {
  "kernelspec": {
   "display_name": "azure_environment",
   "language": "python",
   "name": "python3"
  },
  "language_info": {
   "codemirror_mode": {
    "name": "ipython",
    "version": 3
   },
   "file_extension": ".py",
   "mimetype": "text/x-python",
   "name": "python",
   "nbconvert_exporter": "python",
   "pygments_lexer": "ipython3",
   "version": "3.11.12"
  }
 },
 "nbformat": 4,
 "nbformat_minor": 5
}
